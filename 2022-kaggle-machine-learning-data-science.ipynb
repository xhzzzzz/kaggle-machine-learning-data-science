{
 "cells": [
  {
   "cell_type": "code",
   "execution_count": 1,
   "metadata": {
    "colab": {
     "base_uri": "https://localhost:8080/"
    },
    "id": "ieXWsMgNhJZj",
    "outputId": "06b7cb58-bf94-44aa-e4d5-7da0f0a9fba7",
    "scrolled": true
   },
   "outputs": [
    {
     "name": "stdout",
     "output_type": "stream",
     "text": [
      "Requirement already satisfied: mlxtend in /Users/houze/opt/anaconda3/lib/python3.8/site-packages (0.21.0)\n",
      "Requirement already satisfied: pandas in /Users/houze/opt/anaconda3/lib/python3.8/site-packages (1.5.0)\n",
      "Requirement already satisfied: numpy>=1.20.3 in /Users/houze/opt/anaconda3/lib/python3.8/site-packages (from pandas) (1.22.4)\n",
      "Requirement already satisfied: python-dateutil>=2.8.1 in /Users/houze/opt/anaconda3/lib/python3.8/site-packages (from pandas) (2.8.1)\n",
      "Requirement already satisfied: pytz>=2020.1 in /Users/houze/opt/anaconda3/lib/python3.8/site-packages (from pandas) (2021.1)\n",
      "Requirement already satisfied: six>=1.5 in /Users/houze/opt/anaconda3/lib/python3.8/site-packages (from python-dateutil>=2.8.1->pandas) (1.15.0)\n",
      "Requirement already satisfied: numpy in /Users/houze/opt/anaconda3/lib/python3.8/site-packages (1.22.4)\n",
      "Requirement already satisfied: sklearn in /Users/houze/opt/anaconda3/lib/python3.8/site-packages (0.0.post1)\n",
      "Requirement already satisfied: matplotlib in /Users/houze/opt/anaconda3/lib/python3.8/site-packages (3.3.4)\n",
      "Requirement already satisfied: numpy>=1.15 in /Users/houze/opt/anaconda3/lib/python3.8/site-packages (from matplotlib) (1.22.4)\n",
      "Requirement already satisfied: cycler>=0.10 in /Users/houze/opt/anaconda3/lib/python3.8/site-packages (from matplotlib) (0.10.0)\n",
      "Requirement already satisfied: kiwisolver>=1.0.1 in /Users/houze/opt/anaconda3/lib/python3.8/site-packages (from matplotlib) (1.3.1)\n",
      "Requirement already satisfied: pyparsing!=2.0.4,!=2.1.2,!=2.1.6,>=2.0.3 in /Users/houze/opt/anaconda3/lib/python3.8/site-packages (from matplotlib) (2.4.7)\n",
      "Requirement already satisfied: pillow>=6.2.0 in /Users/houze/opt/anaconda3/lib/python3.8/site-packages (from matplotlib) (8.2.0)\n",
      "Requirement already satisfied: python-dateutil>=2.1 in /Users/houze/opt/anaconda3/lib/python3.8/site-packages (from matplotlib) (2.8.1)\n",
      "Requirement already satisfied: six in /Users/houze/opt/anaconda3/lib/python3.8/site-packages (from cycler>=0.10->matplotlib) (1.15.0)\n"
     ]
    }
   ],
   "source": [
    "!pip install mlxtend --upgrade --no-deps\n",
    "!pip install pandas\n",
    "!pip install numpy\n",
    "!pip install sklearn\n",
    "!pip install matplotlib"
   ]
  },
  {
   "cell_type": "code",
   "execution_count": 2,
   "metadata": {
    "colab": {
     "base_uri": "https://localhost:8080/",
     "height": 389
    },
    "id": "hfW_O7GpEXdc",
    "outputId": "27587993-a025-4dfa-d9e0-2da34e5cdb9a"
   },
   "outputs": [],
   "source": [
    "import pandas as pd\n",
    "import numpy as np\n",
    "import statistics\n",
    "import seaborn as sns\n",
    "from sklearn.model_selection import train_test_split\n",
    "from sklearn.preprocessing import StandardScaler\n",
    "from sklearn import preprocessing\n",
    "from sklearn.preprocessing import OrdinalEncoder\n",
    "from sklearn.preprocessing import OneHotEncoder\n",
    "from sklearn.model_selection import cross_validate\n",
    "from sklearn.model_selection import cross_val_score\n",
    "from mlxtend.evaluate import bias_variance_decomp\n",
    "from sklearn.svm import SVR\n",
    "from sklearn.ensemble import RandomForestClassifier\n",
    "from sklearn.metrics import f1_score, roc_auc_score\n",
    "\n",
    "from sklearn.feature_extraction.text import CountVectorizer\n",
    "from sklearn import linear_model\n",
    "from sklearn.linear_model import Lasso, LogisticRegression\n",
    "from sklearn.model_selection import RepeatedKFold\n",
    "from sklearn.pipeline import Pipeline\n",
    "from sklearn.metrics import make_scorer, confusion_matrix\n",
    "\n",
    "from sklearn.feature_selection import SelectFromModel\n",
    "from sklearn.feature_selection import RFE\n",
    "from sklearn.ensemble import GradientBoostingRegressor\n",
    "from sklearn.metrics import make_scorer, r2_score, mean_squared_error, auc, mean_absolute_error\n",
    "from sklearn.model_selection import GridSearchCV, KFold\n",
    "# from sklearn.cross_validation import KFold # old version\n",
    "\n",
    "from sklearn.neural_network import MLPRegressor\n",
    "import matplotlib.pyplot as plt\n",
    "import warnings\n",
    "warnings.filterwarnings('ignore')"
   ]
  },
  {
   "cell_type": "code",
   "execution_count": 3,
   "metadata": {},
   "outputs": [],
   "source": [
    "from google.colab import files\n",
    "uploaded = files.upload()"
   ]
  },
  {
   "cell_type": "code",
   "execution_count": 4,
   "metadata": {
    "colab": {
     "base_uri": "https://localhost:8080/",
     "height": 820
    },
    "id": "ailj6JAHFFDK",
    "outputId": "3825511e-4fa6-4e2a-d4f8-077c9d048e01"
   },
   "outputs": [
    {
     "data": {
      "text/html": [
       "<div>\n",
       "<style scoped>\n",
       "    .dataframe tbody tr th:only-of-type {\n",
       "        vertical-align: middle;\n",
       "    }\n",
       "\n",
       "    .dataframe tbody tr th {\n",
       "        vertical-align: top;\n",
       "    }\n",
       "\n",
       "    .dataframe thead th {\n",
       "        text-align: right;\n",
       "    }\n",
       "</style>\n",
       "<table border=\"1\" class=\"dataframe\">\n",
       "  <thead>\n",
       "    <tr style=\"text-align: right;\">\n",
       "      <th></th>\n",
       "      <th>Duration (in seconds)</th>\n",
       "      <th>Q2</th>\n",
       "      <th>Q3</th>\n",
       "      <th>Q4</th>\n",
       "      <th>Q5</th>\n",
       "      <th>Q6_1</th>\n",
       "      <th>Q6_2</th>\n",
       "      <th>Q6_3</th>\n",
       "      <th>Q6_4</th>\n",
       "      <th>Q6_5</th>\n",
       "      <th>...</th>\n",
       "      <th>Q44_5</th>\n",
       "      <th>Q44_6</th>\n",
       "      <th>Q44_7</th>\n",
       "      <th>Q44_8</th>\n",
       "      <th>Q44_9</th>\n",
       "      <th>Q44_10</th>\n",
       "      <th>Q44_11</th>\n",
       "      <th>Q44_12</th>\n",
       "      <th>Q29_Encoded</th>\n",
       "      <th>Q29_buckets</th>\n",
       "    </tr>\n",
       "  </thead>\n",
       "  <tbody>\n",
       "    <tr>\n",
       "      <th>0</th>\n",
       "      <td>Duration (in seconds)</td>\n",
       "      <td>What is your age (# years)?</td>\n",
       "      <td>What is your gender? - Selected Choice</td>\n",
       "      <td>In which country do you currently reside?</td>\n",
       "      <td>Are you currently a student? (high school, uni...</td>\n",
       "      <td>On which platforms have you begun or completed...</td>\n",
       "      <td>On which platforms have you begun or completed...</td>\n",
       "      <td>On which platforms have you begun or completed...</td>\n",
       "      <td>On which platforms have you begun or completed...</td>\n",
       "      <td>On which platforms have you begun or completed...</td>\n",
       "      <td>...</td>\n",
       "      <td>Who/what are your favorite media sources that ...</td>\n",
       "      <td>Who/what are your favorite media sources that ...</td>\n",
       "      <td>Who/what are your favorite media sources that ...</td>\n",
       "      <td>Who/what are your favorite media sources that ...</td>\n",
       "      <td>Who/what are your favorite media sources that ...</td>\n",
       "      <td>Who/what are your favorite media sources that ...</td>\n",
       "      <td>Who/what are your favorite media sources that ...</td>\n",
       "      <td>Who/what are your favorite media sources that ...</td>\n",
       "      <td>NaN</td>\n",
       "      <td>NaN</td>\n",
       "    </tr>\n",
       "    <tr>\n",
       "      <th>1</th>\n",
       "      <td>851</td>\n",
       "      <td>55-59</td>\n",
       "      <td>Man</td>\n",
       "      <td>France</td>\n",
       "      <td>No</td>\n",
       "      <td>Coursera</td>\n",
       "      <td>NaN</td>\n",
       "      <td>Kaggle Learn Courses</td>\n",
       "      <td>NaN</td>\n",
       "      <td>NaN</td>\n",
       "      <td>...</td>\n",
       "      <td>Course Forums (forums.fast.ai, Coursera forums...</td>\n",
       "      <td>NaN</td>\n",
       "      <td>NaN</td>\n",
       "      <td>Blogs (Towards Data Science, Analytics Vidhya,...</td>\n",
       "      <td>NaN</td>\n",
       "      <td>NaN</td>\n",
       "      <td>NaN</td>\n",
       "      <td>NaN</td>\n",
       "      <td>2.0</td>\n",
       "      <td>20,000-29,999</td>\n",
       "    </tr>\n",
       "    <tr>\n",
       "      <th>2</th>\n",
       "      <td>501</td>\n",
       "      <td>30-34</td>\n",
       "      <td>Man</td>\n",
       "      <td>Germany</td>\n",
       "      <td>No</td>\n",
       "      <td>Coursera</td>\n",
       "      <td>edX</td>\n",
       "      <td>NaN</td>\n",
       "      <td>NaN</td>\n",
       "      <td>NaN</td>\n",
       "      <td>...</td>\n",
       "      <td>NaN</td>\n",
       "      <td>YouTube (Kaggle YouTube, Cloud AI Adventures, ...</td>\n",
       "      <td>NaN</td>\n",
       "      <td>Blogs (Towards Data Science, Analytics Vidhya,...</td>\n",
       "      <td>NaN</td>\n",
       "      <td>NaN</td>\n",
       "      <td>NaN</td>\n",
       "      <td>NaN</td>\n",
       "      <td>10.0</td>\n",
       "      <td>100,000-124,999</td>\n",
       "    </tr>\n",
       "    <tr>\n",
       "      <th>3</th>\n",
       "      <td>787</td>\n",
       "      <td>70+</td>\n",
       "      <td>Man</td>\n",
       "      <td>Australia</td>\n",
       "      <td>No</td>\n",
       "      <td>Coursera</td>\n",
       "      <td>NaN</td>\n",
       "      <td>Kaggle Learn Courses</td>\n",
       "      <td>NaN</td>\n",
       "      <td>NaN</td>\n",
       "      <td>...</td>\n",
       "      <td>NaN</td>\n",
       "      <td>NaN</td>\n",
       "      <td>Podcasts (Chai Time Data Science, O’Reilly Dat...</td>\n",
       "      <td>NaN</td>\n",
       "      <td>NaN</td>\n",
       "      <td>NaN</td>\n",
       "      <td>NaN</td>\n",
       "      <td>NaN</td>\n",
       "      <td>10.0</td>\n",
       "      <td>100,000-124,999</td>\n",
       "    </tr>\n",
       "    <tr>\n",
       "      <th>4</th>\n",
       "      <td>1132</td>\n",
       "      <td>40-44</td>\n",
       "      <td>Man</td>\n",
       "      <td>United States of America</td>\n",
       "      <td>No</td>\n",
       "      <td>Coursera</td>\n",
       "      <td>NaN</td>\n",
       "      <td>Kaggle Learn Courses</td>\n",
       "      <td>NaN</td>\n",
       "      <td>Fast.ai</td>\n",
       "      <td>...</td>\n",
       "      <td>NaN</td>\n",
       "      <td>NaN</td>\n",
       "      <td>Podcasts (Chai Time Data Science, O’Reilly Dat...</td>\n",
       "      <td>Blogs (Towards Data Science, Analytics Vidhya,...</td>\n",
       "      <td>NaN</td>\n",
       "      <td>NaN</td>\n",
       "      <td>NaN</td>\n",
       "      <td>NaN</td>\n",
       "      <td>13.0</td>\n",
       "      <td>200,000-299,999</td>\n",
       "    </tr>\n",
       "  </tbody>\n",
       "</table>\n",
       "<p>5 rows × 298 columns</p>\n",
       "</div>"
      ],
      "text/plain": [
       "   Duration (in seconds)                           Q2  \\\n",
       "0  Duration (in seconds)  What is your age (# years)?   \n",
       "1                    851                        55-59   \n",
       "2                    501                        30-34   \n",
       "3                    787                          70+   \n",
       "4                   1132                        40-44   \n",
       "\n",
       "                                       Q3  \\\n",
       "0  What is your gender? - Selected Choice   \n",
       "1                                     Man   \n",
       "2                                     Man   \n",
       "3                                     Man   \n",
       "4                                     Man   \n",
       "\n",
       "                                          Q4  \\\n",
       "0  In which country do you currently reside?   \n",
       "1                                     France   \n",
       "2                                    Germany   \n",
       "3                                  Australia   \n",
       "4                   United States of America   \n",
       "\n",
       "                                                  Q5  \\\n",
       "0  Are you currently a student? (high school, uni...   \n",
       "1                                                 No   \n",
       "2                                                 No   \n",
       "3                                                 No   \n",
       "4                                                 No   \n",
       "\n",
       "                                                Q6_1  \\\n",
       "0  On which platforms have you begun or completed...   \n",
       "1                                           Coursera   \n",
       "2                                           Coursera   \n",
       "3                                           Coursera   \n",
       "4                                           Coursera   \n",
       "\n",
       "                                                Q6_2  \\\n",
       "0  On which platforms have you begun or completed...   \n",
       "1                                                NaN   \n",
       "2                                                edX   \n",
       "3                                                NaN   \n",
       "4                                                NaN   \n",
       "\n",
       "                                                Q6_3  \\\n",
       "0  On which platforms have you begun or completed...   \n",
       "1                               Kaggle Learn Courses   \n",
       "2                                                NaN   \n",
       "3                               Kaggle Learn Courses   \n",
       "4                               Kaggle Learn Courses   \n",
       "\n",
       "                                                Q6_4  \\\n",
       "0  On which platforms have you begun or completed...   \n",
       "1                                                NaN   \n",
       "2                                                NaN   \n",
       "3                                                NaN   \n",
       "4                                                NaN   \n",
       "\n",
       "                                                Q6_5  ...  \\\n",
       "0  On which platforms have you begun or completed...  ...   \n",
       "1                                                NaN  ...   \n",
       "2                                                NaN  ...   \n",
       "3                                                NaN  ...   \n",
       "4                                            Fast.ai  ...   \n",
       "\n",
       "                                               Q44_5  \\\n",
       "0  Who/what are your favorite media sources that ...   \n",
       "1  Course Forums (forums.fast.ai, Coursera forums...   \n",
       "2                                                NaN   \n",
       "3                                                NaN   \n",
       "4                                                NaN   \n",
       "\n",
       "                                               Q44_6  \\\n",
       "0  Who/what are your favorite media sources that ...   \n",
       "1                                                NaN   \n",
       "2  YouTube (Kaggle YouTube, Cloud AI Adventures, ...   \n",
       "3                                                NaN   \n",
       "4                                                NaN   \n",
       "\n",
       "                                               Q44_7  \\\n",
       "0  Who/what are your favorite media sources that ...   \n",
       "1                                                NaN   \n",
       "2                                                NaN   \n",
       "3  Podcasts (Chai Time Data Science, O’Reilly Dat...   \n",
       "4  Podcasts (Chai Time Data Science, O’Reilly Dat...   \n",
       "\n",
       "                                               Q44_8  \\\n",
       "0  Who/what are your favorite media sources that ...   \n",
       "1  Blogs (Towards Data Science, Analytics Vidhya,...   \n",
       "2  Blogs (Towards Data Science, Analytics Vidhya,...   \n",
       "3                                                NaN   \n",
       "4  Blogs (Towards Data Science, Analytics Vidhya,...   \n",
       "\n",
       "                                               Q44_9  \\\n",
       "0  Who/what are your favorite media sources that ...   \n",
       "1                                                NaN   \n",
       "2                                                NaN   \n",
       "3                                                NaN   \n",
       "4                                                NaN   \n",
       "\n",
       "                                              Q44_10  \\\n",
       "0  Who/what are your favorite media sources that ...   \n",
       "1                                                NaN   \n",
       "2                                                NaN   \n",
       "3                                                NaN   \n",
       "4                                                NaN   \n",
       "\n",
       "                                              Q44_11  \\\n",
       "0  Who/what are your favorite media sources that ...   \n",
       "1                                                NaN   \n",
       "2                                                NaN   \n",
       "3                                                NaN   \n",
       "4                                                NaN   \n",
       "\n",
       "                                              Q44_12 Q29_Encoded  \\\n",
       "0  Who/what are your favorite media sources that ...         NaN   \n",
       "1                                                NaN         2.0   \n",
       "2                                                NaN        10.0   \n",
       "3                                                NaN        10.0   \n",
       "4                                                NaN        13.0   \n",
       "\n",
       "       Q29_buckets  \n",
       "0              NaN  \n",
       "1    20,000-29,999  \n",
       "2  100,000-124,999  \n",
       "3  100,000-124,999  \n",
       "4  200,000-299,999  \n",
       "\n",
       "[5 rows x 298 columns]"
      ]
     },
     "execution_count": 4,
     "metadata": {},
     "output_type": "execute_result"
    }
   ],
   "source": [
    "# read cleaned kaggle data into a data frame\n",
    "df = pd.read_csv('clean_kaggle_data_2022.csv')\n",
    "df.head()"
   ]
  },
  {
   "cell_type": "code",
   "execution_count": 5,
   "metadata": {
    "colab": {
     "base_uri": "https://localhost:8080/"
    },
    "id": "bvrvzet8HHdH",
    "outputId": "8d98a8d7-9b3f-48c1-90eb-8cdc7bc1fe4d"
   },
   "outputs": [
    {
     "data": {
      "text/plain": [
       "(8137, 298)"
      ]
     },
     "execution_count": 5,
     "metadata": {},
     "output_type": "execute_result"
    }
   ],
   "source": [
    "# find the shape of the data frame\n",
    "df.shape"
   ]
  },
  {
   "cell_type": "markdown",
   "metadata": {
    "id": "zQwLy4LRIj6p"
   },
   "source": [
    "## **Data** **Cleaning** "
   ]
  },
  {
   "cell_type": "markdown",
   "metadata": {
    "id": "ZTDv6MFELFdn"
   },
   "source": [
    "Handle Missing Value"
   ]
  },
  {
   "cell_type": "code",
   "execution_count": 6,
   "metadata": {
    "colab": {
     "base_uri": "https://localhost:8080/"
    },
    "id": "Ak864TQPHgBB",
    "outputId": "2ac749a5-b517-4f8c-b922-8f444a27ad51"
   },
   "outputs": [
    {
     "data": {
      "text/plain": [
       "Duration (in seconds)       0\n",
       "Q2                          0\n",
       "Q3                          0\n",
       "Q4                          0\n",
       "Q5                          0\n",
       "                         ... \n",
       "Q44_10                   7370\n",
       "Q44_11                   7731\n",
       "Q44_12                   7820\n",
       "Q29_Encoded                 1\n",
       "Q29_buckets                 1\n",
       "Length: 298, dtype: int64"
      ]
     },
     "execution_count": 6,
     "metadata": {},
     "output_type": "execute_result"
    }
   ],
   "source": [
    "# number of missing value for each column\n",
    "df.isnull().sum(axis = 0)"
   ]
  },
  {
   "cell_type": "code",
   "execution_count": 7,
   "metadata": {
    "id": "yayhoicWJvDx"
   },
   "outputs": [],
   "source": [
    "# drop columns with more than 90% percent of missing values\n",
    "tr = 0.9 * len(df) # 90% threshold\n",
    "df.dropna(axis = 1,thresh = tr, subset=None, inplace = True)"
   ]
  },
  {
   "cell_type": "markdown",
   "metadata": {
    "id": "Qf377Ic8OTrl"
   },
   "source": []
  },
  {
   "cell_type": "code",
   "execution_count": 8,
   "metadata": {
    "colab": {
     "base_uri": "https://localhost:8080/",
     "height": 808
    },
    "id": "RfSMIU2QNCDt",
    "outputId": "ffb9299d-ce8c-401a-fdc8-bfe10ccc974b"
   },
   "outputs": [
    {
     "data": {
      "text/html": [
       "<div>\n",
       "<style scoped>\n",
       "    .dataframe tbody tr th:only-of-type {\n",
       "        vertical-align: middle;\n",
       "    }\n",
       "\n",
       "    .dataframe tbody tr th {\n",
       "        vertical-align: top;\n",
       "    }\n",
       "\n",
       "    .dataframe thead th {\n",
       "        text-align: right;\n",
       "    }\n",
       "</style>\n",
       "<table border=\"1\" class=\"dataframe\">\n",
       "  <thead>\n",
       "    <tr style=\"text-align: right;\">\n",
       "      <th></th>\n",
       "      <th>Duration (in seconds)</th>\n",
       "      <th>Q2</th>\n",
       "      <th>Q3</th>\n",
       "      <th>Q4</th>\n",
       "      <th>Q5</th>\n",
       "      <th>Q8</th>\n",
       "      <th>Q11</th>\n",
       "      <th>Q16</th>\n",
       "      <th>Q23</th>\n",
       "      <th>Q24</th>\n",
       "      <th>Q25</th>\n",
       "      <th>Q26</th>\n",
       "      <th>Q27</th>\n",
       "      <th>Q29</th>\n",
       "      <th>Q30</th>\n",
       "      <th>Q29_Encoded</th>\n",
       "      <th>Q29_buckets</th>\n",
       "    </tr>\n",
       "  </thead>\n",
       "  <tbody>\n",
       "    <tr>\n",
       "      <th>0</th>\n",
       "      <td>Duration (in seconds)</td>\n",
       "      <td>What is your age (# years)?</td>\n",
       "      <td>What is your gender? - Selected Choice</td>\n",
       "      <td>In which country do you currently reside?</td>\n",
       "      <td>Are you currently a student? (high school, uni...</td>\n",
       "      <td>What is the highest level of formal education ...</td>\n",
       "      <td>For how many years have you been writing code ...</td>\n",
       "      <td>For how many years have you used machine learn...</td>\n",
       "      <td>Select the title most similar to your current ...</td>\n",
       "      <td>In what industry is your current employer/cont...</td>\n",
       "      <td>What is the size of the company where you are ...</td>\n",
       "      <td>Approximately how many individuals are respons...</td>\n",
       "      <td>Does your current employer incorporate machine...</td>\n",
       "      <td>What is your current yearly compensation (appr...</td>\n",
       "      <td>Approximately how much money have you spent on...</td>\n",
       "      <td>NaN</td>\n",
       "      <td>NaN</td>\n",
       "    </tr>\n",
       "    <tr>\n",
       "      <th>1</th>\n",
       "      <td>851</td>\n",
       "      <td>55-59</td>\n",
       "      <td>Man</td>\n",
       "      <td>France</td>\n",
       "      <td>No</td>\n",
       "      <td>Some college/university study without earning ...</td>\n",
       "      <td>10-20 years</td>\n",
       "      <td>1-2 years</td>\n",
       "      <td>Data Scientist</td>\n",
       "      <td>Online Service/Internet-based Services</td>\n",
       "      <td>0-49 employees</td>\n",
       "      <td>1-2</td>\n",
       "      <td>We recently started using ML methods (i.e., mo...</td>\n",
       "      <td>25,000-29,999</td>\n",
       "      <td>$1000-$9,999</td>\n",
       "      <td>2.0</td>\n",
       "      <td>20,000-29,999</td>\n",
       "    </tr>\n",
       "    <tr>\n",
       "      <th>2</th>\n",
       "      <td>501</td>\n",
       "      <td>30-34</td>\n",
       "      <td>Man</td>\n",
       "      <td>Germany</td>\n",
       "      <td>No</td>\n",
       "      <td>Bachelor’s degree</td>\n",
       "      <td>10-20 years</td>\n",
       "      <td>4-5 years</td>\n",
       "      <td>Software Engineer</td>\n",
       "      <td>Insurance/Risk Assessment</td>\n",
       "      <td>250-999 employees</td>\n",
       "      <td>20+</td>\n",
       "      <td>We have well established ML methods (i.e., mod...</td>\n",
       "      <td>100,000-124,999</td>\n",
       "      <td>$0 ($USD)</td>\n",
       "      <td>10.0</td>\n",
       "      <td>100,000-124,999</td>\n",
       "    </tr>\n",
       "    <tr>\n",
       "      <th>3</th>\n",
       "      <td>787</td>\n",
       "      <td>70+</td>\n",
       "      <td>Man</td>\n",
       "      <td>Australia</td>\n",
       "      <td>No</td>\n",
       "      <td>Doctoral degree</td>\n",
       "      <td>20+ years</td>\n",
       "      <td>5-10 years</td>\n",
       "      <td>Research Scientist</td>\n",
       "      <td>Government/Public Service</td>\n",
       "      <td>1000-9,999 employees</td>\n",
       "      <td>20+</td>\n",
       "      <td>We recently started using ML methods (i.e., mo...</td>\n",
       "      <td>100,000-124,999</td>\n",
       "      <td>$100-$999</td>\n",
       "      <td>10.0</td>\n",
       "      <td>100,000-124,999</td>\n",
       "    </tr>\n",
       "    <tr>\n",
       "      <th>4</th>\n",
       "      <td>1132</td>\n",
       "      <td>40-44</td>\n",
       "      <td>Man</td>\n",
       "      <td>United States of America</td>\n",
       "      <td>No</td>\n",
       "      <td>Doctoral degree</td>\n",
       "      <td>10-20 years</td>\n",
       "      <td>5-10 years</td>\n",
       "      <td>Developer Advocate</td>\n",
       "      <td>Computers/Technology</td>\n",
       "      <td>1000-9,999 employees</td>\n",
       "      <td>20+</td>\n",
       "      <td>We have well established ML methods (i.e., mod...</td>\n",
       "      <td>200,000-249,999</td>\n",
       "      <td>$100-$999</td>\n",
       "      <td>13.0</td>\n",
       "      <td>200,000-299,999</td>\n",
       "    </tr>\n",
       "  </tbody>\n",
       "</table>\n",
       "</div>"
      ],
      "text/plain": [
       "   Duration (in seconds)                           Q2  \\\n",
       "0  Duration (in seconds)  What is your age (# years)?   \n",
       "1                    851                        55-59   \n",
       "2                    501                        30-34   \n",
       "3                    787                          70+   \n",
       "4                   1132                        40-44   \n",
       "\n",
       "                                       Q3  \\\n",
       "0  What is your gender? - Selected Choice   \n",
       "1                                     Man   \n",
       "2                                     Man   \n",
       "3                                     Man   \n",
       "4                                     Man   \n",
       "\n",
       "                                          Q4  \\\n",
       "0  In which country do you currently reside?   \n",
       "1                                     France   \n",
       "2                                    Germany   \n",
       "3                                  Australia   \n",
       "4                   United States of America   \n",
       "\n",
       "                                                  Q5  \\\n",
       "0  Are you currently a student? (high school, uni...   \n",
       "1                                                 No   \n",
       "2                                                 No   \n",
       "3                                                 No   \n",
       "4                                                 No   \n",
       "\n",
       "                                                  Q8  \\\n",
       "0  What is the highest level of formal education ...   \n",
       "1  Some college/university study without earning ...   \n",
       "2                                  Bachelor’s degree   \n",
       "3                                    Doctoral degree   \n",
       "4                                    Doctoral degree   \n",
       "\n",
       "                                                 Q11  \\\n",
       "0  For how many years have you been writing code ...   \n",
       "1                                        10-20 years   \n",
       "2                                        10-20 years   \n",
       "3                                          20+ years   \n",
       "4                                        10-20 years   \n",
       "\n",
       "                                                 Q16  \\\n",
       "0  For how many years have you used machine learn...   \n",
       "1                                          1-2 years   \n",
       "2                                          4-5 years   \n",
       "3                                         5-10 years   \n",
       "4                                         5-10 years   \n",
       "\n",
       "                                                 Q23  \\\n",
       "0  Select the title most similar to your current ...   \n",
       "1                                     Data Scientist   \n",
       "2                                  Software Engineer   \n",
       "3                                 Research Scientist   \n",
       "4                                 Developer Advocate   \n",
       "\n",
       "                                                 Q24  \\\n",
       "0  In what industry is your current employer/cont...   \n",
       "1             Online Service/Internet-based Services   \n",
       "2                          Insurance/Risk Assessment   \n",
       "3                          Government/Public Service   \n",
       "4                               Computers/Technology   \n",
       "\n",
       "                                                 Q25  \\\n",
       "0  What is the size of the company where you are ...   \n",
       "1                                     0-49 employees   \n",
       "2                                  250-999 employees   \n",
       "3                               1000-9,999 employees   \n",
       "4                               1000-9,999 employees   \n",
       "\n",
       "                                                 Q26  \\\n",
       "0  Approximately how many individuals are respons...   \n",
       "1                                                1-2   \n",
       "2                                                20+   \n",
       "3                                                20+   \n",
       "4                                                20+   \n",
       "\n",
       "                                                 Q27  \\\n",
       "0  Does your current employer incorporate machine...   \n",
       "1  We recently started using ML methods (i.e., mo...   \n",
       "2  We have well established ML methods (i.e., mod...   \n",
       "3  We recently started using ML methods (i.e., mo...   \n",
       "4  We have well established ML methods (i.e., mod...   \n",
       "\n",
       "                                                 Q29  \\\n",
       "0  What is your current yearly compensation (appr...   \n",
       "1                                      25,000-29,999   \n",
       "2                                    100,000-124,999   \n",
       "3                                    100,000-124,999   \n",
       "4                                    200,000-249,999   \n",
       "\n",
       "                                                 Q30  Q29_Encoded  \\\n",
       "0  Approximately how much money have you spent on...          NaN   \n",
       "1                                       $1000-$9,999          2.0   \n",
       "2                                          $0 ($USD)         10.0   \n",
       "3                                          $100-$999         10.0   \n",
       "4                                          $100-$999         13.0   \n",
       "\n",
       "       Q29_buckets  \n",
       "0              NaN  \n",
       "1    20,000-29,999  \n",
       "2  100,000-124,999  \n",
       "3  100,000-124,999  \n",
       "4  200,000-299,999  "
      ]
     },
     "execution_count": 8,
     "metadata": {},
     "output_type": "execute_result"
    }
   ],
   "source": [
    "df.head()"
   ]
  },
  {
   "cell_type": "markdown",
   "metadata": {
    "id": "lLohot6xOUs7"
   },
   "source": []
  },
  {
   "cell_type": "code",
   "execution_count": 9,
   "metadata": {
    "colab": {
     "base_uri": "https://localhost:8080/"
    },
    "id": "j0RvqHIvNUbJ",
    "outputId": "0f2f54f8-4368-401d-cd26-396b6453a190"
   },
   "outputs": [
    {
     "data": {
      "text/plain": [
       "Duration (in seconds)      0\n",
       "Q2                         0\n",
       "Q3                         0\n",
       "Q4                         0\n",
       "Q5                         0\n",
       "Q8                         0\n",
       "Q11                        0\n",
       "Q16                      684\n",
       "Q23                        0\n",
       "Q24                        0\n",
       "Q25                        0\n",
       "Q26                        0\n",
       "Q27                        0\n",
       "Q29                        0\n",
       "Q30                       50\n",
       "Q29_Encoded                1\n",
       "Q29_buckets                1\n",
       "dtype: int64"
      ]
     },
     "execution_count": 9,
     "metadata": {},
     "output_type": "execute_result"
    }
   ],
   "source": [
    "# number of missing value after dropping 90% of missing value in each column\n",
    "df.isnull().sum(axis = 0)"
   ]
  },
  {
   "cell_type": "code",
   "execution_count": 10,
   "metadata": {
    "colab": {
     "base_uri": "https://localhost:8080/"
    },
    "id": "tu-w8a1nSOKD",
    "outputId": "54173dab-61ed-48ef-d9b3-20492ec17376"
   },
   "outputs": [
    {
     "data": {
      "text/plain": [
       "array(['1-2 years', '4-5 years', '5-10 years', '2-3 years',\n",
       "       'Under 1 year', '3-4 years', '10-20 years',\n",
       "       'I do not use machine learning methods', nan], dtype=object)"
      ]
     },
     "execution_count": 10,
     "metadata": {},
     "output_type": "execute_result"
    }
   ],
   "source": [
    "# we found 684 nulls in Q16 and 50 nulls in Q30\n",
    "# There are a lot of nulls in years of experiences in machine learning(Q16)\n",
    "df['Q16'][1:].unique()"
   ]
  },
  {
   "cell_type": "code",
   "execution_count": 11,
   "metadata": {
    "colab": {
     "base_uri": "https://localhost:8080/"
    },
    "id": "KJftLu6HSpz-",
    "outputId": "308f6512-c767-4368-c341-bf81525aa4e5"
   },
   "outputs": [
    {
     "data": {
      "text/plain": [
       "Under 1 year                             0.231347\n",
       "1-2 years                                0.169887\n",
       "I do not use machine learning methods    0.148551\n",
       "2-3 years                                0.128154\n",
       "5-10 years                               0.108427\n",
       "4-5 years                                0.085212\n",
       "3-4 years                                0.079308\n",
       "10-20 years                              0.049114\n",
       "Name: Q16, dtype: float64"
      ]
     },
     "execution_count": 11,
     "metadata": {},
     "output_type": "execute_result"
    }
   ],
   "source": [
    "# can see the distribution of years of experiences in machine learning(Q16)\n",
    "df['Q16'][1:].value_counts(normalize = True)"
   ]
  },
  {
   "cell_type": "code",
   "execution_count": 12,
   "metadata": {
    "colab": {
     "base_uri": "https://localhost:8080/"
    },
    "id": "cCSe7zwbUrcy",
    "outputId": "bb8d2356-37dd-4c21-f512-66a81912e72c"
   },
   "outputs": [
    {
     "name": "stdout",
     "output_type": "stream",
     "text": [
      "                                                     Alldata   NaN Q16\n",
      "Data Administrator                                  0.008235  0.020468\n",
      "Data Analyst (Business, Marketing, Financial, Q...  0.166298  0.229532\n",
      "Data Architect                                      0.010079  0.001462\n",
      "Data Engineer                                       0.035275  0.008772\n",
      "Data Scientist                                      0.209931  0.051170\n",
      "Developer Advocate                                  0.006637  0.002924\n",
      "Engineer (non-software)                             0.050762  0.111111\n",
      "Machine Learning/ MLops Engineer                    0.062193  0.007310\n",
      "Manager (Program, Project, Operations, Executiv...  0.091691  0.134503\n",
      "Other                                               0.083825  0.263158\n",
      "Research Scientist                                  0.064528  0.033626\n",
      "Software Engineer                                   0.105580  0.014620\n",
      "Statistician                                        0.013274  0.021930\n",
      "Teacher / professor                                 0.091691  0.099415\n"
     ]
    }
   ],
   "source": [
    "# drop the first description row \n",
    "df = df.loc[1:, :]\n",
    "# comparing current role for rows with NaN experiences time in machine learning\n",
    "a = df['Q23'].value_counts(normalize=True)\n",
    "b = df[df['Q16'].isnull()]['Q23'].value_counts(normalize=True)\n",
    "print (pd.DataFrame({'Alldata': a, 'NaN Q16':b}))"
   ]
  },
  {
   "cell_type": "code",
   "execution_count": 13,
   "metadata": {
    "id": "OJ8qFSC6bAfq"
   },
   "outputs": [],
   "source": [
    "# fill missing values in Q16 with mode\n",
    "df['Q16'].fillna(df['Q16'].mode()[0],inplace=True)"
   ]
  },
  {
   "cell_type": "code",
   "execution_count": 14,
   "metadata": {
    "colab": {
     "base_uri": "https://localhost:8080/"
    },
    "id": "0IGDAuQncx8d",
    "outputId": "9b3251e2-af6a-499a-b08d-f8e06e6f4a50"
   },
   "outputs": [
    {
     "data": {
      "text/plain": [
       "Under 1 year                             0.295969\n",
       "1-2 years                                0.155605\n",
       "I do not use machine learning methods    0.136062\n",
       "2-3 years                                0.117380\n",
       "5-10 years                               0.099312\n",
       "4-5 years                                0.078048\n",
       "3-4 years                                0.072640\n",
       "10-20 years                              0.044985\n",
       "Name: Q16, dtype: float64"
      ]
     },
     "execution_count": 14,
     "metadata": {},
     "output_type": "execute_result"
    }
   ],
   "source": [
    "# check the distribution of years of expriences after filling NaN\n",
    "df['Q16'].value_counts(normalize = True)"
   ]
  },
  {
   "cell_type": "code",
   "execution_count": 15,
   "metadata": {
    "colab": {
     "base_uri": "https://localhost:8080/"
    },
    "id": "er7uvW4VdQKF",
    "outputId": "61b4fef9-f2d0-4578-947f-38bb5709d74a"
   },
   "outputs": [
    {
     "name": "stdout",
     "output_type": "stream",
     "text": [
      "                                                     Alldata  NaN Q30\n",
      "I do not know                                       0.154621     0.16\n",
      "No (we do not use ML methods)                       0.223820     0.20\n",
      "We are exploring ML methods (and may one day pu...  0.175885     0.14\n",
      "We have well established ML methods (i.e., mode...  0.202188     0.28\n",
      "We recently started using ML methods (i.e., mod...  0.139135     0.06\n",
      "We use ML methods for generating insights (but ...  0.104351     0.16\n"
     ]
    }
   ],
   "source": [
    "# comparing current role for rows with NaN in money spent on Machine Learning \n",
    "a = df['Q27'].value_counts(normalize=True)\n",
    "b = df[df['Q30'].isnull()]['Q27'].value_counts(normalize=True)\n",
    "print (pd.DataFrame({'Alldata': a, 'NaN Q30':b}))"
   ]
  },
  {
   "cell_type": "code",
   "execution_count": 16,
   "metadata": {
    "id": "FAor7msnebLO"
   },
   "outputs": [],
   "source": [
    "# fill missing value in experiences time in machine learning with mode\n",
    "df['Q30'].fillna(df['Q30'].mode()[0],inplace=True)"
   ]
  },
  {
   "cell_type": "code",
   "execution_count": 17,
   "metadata": {
    "colab": {
     "base_uri": "https://localhost:8080/"
    },
    "id": "xfIxb8DFfd6L",
    "outputId": "fd075154-f249-426a-b7bd-af37fedbf168"
   },
   "outputs": [
    {
     "data": {
      "text/plain": [
       "Duration (in seconds)    0\n",
       "Q2                       0\n",
       "Q3                       0\n",
       "Q4                       0\n",
       "Q5                       0\n",
       "Q8                       0\n",
       "Q11                      0\n",
       "Q16                      0\n",
       "Q23                      0\n",
       "Q24                      0\n",
       "Q25                      0\n",
       "Q26                      0\n",
       "Q27                      0\n",
       "Q29                      0\n",
       "Q30                      0\n",
       "Q29_Encoded              0\n",
       "Q29_buckets              0\n",
       "dtype: int64"
      ]
     },
     "execution_count": 17,
     "metadata": {},
     "output_type": "execute_result"
    }
   ],
   "source": [
    "# check missing value in each row after filling NaN\n",
    "df.isnull().sum()"
   ]
  },
  {
   "cell_type": "markdown",
   "metadata": {
    "id": "f5DWQum5Romn"
   },
   "source": [
    "## remove columns that we are not interested"
   ]
  },
  {
   "cell_type": "code",
   "execution_count": 18,
   "metadata": {
    "id": "0FzW8JiFfBwd"
   },
   "outputs": [],
   "source": [
    "# drop replicate features since we could replace 'Q29' and 'Q29_buckets' with Q29_encoded\n",
    "# drop variable that we are not interested 'Duration (in seconds)'\n",
    "df.drop(['Duration (in seconds)','Q29','Q29_buckets'], axis = 1, inplace = True)"
   ]
  },
  {
   "cell_type": "code",
   "execution_count": 19,
   "metadata": {
    "colab": {
     "base_uri": "https://localhost:8080/"
    },
    "id": "8aFVOjZFcIMf",
    "outputId": "1f9fe398-f44b-418c-cbc1-442fd58f2008"
   },
   "outputs": [
    {
     "name": "stdout",
     "output_type": "stream",
     "text": [
      "11\n",
      "['55-59' '30-34' '70+' '40-44' '50-54' '25-29' '60-69' '35-39' '22-24'\n",
      " '45-49' '18-21']\n",
      "5\n",
      "['Man' 'Woman' 'Prefer not to say' 'Prefer to self-describe' 'Nonbinary']\n",
      "58\n",
      "['France' 'Germany' 'Australia' 'United States of America' 'Singapore'\n",
      " 'Italy' 'Taiwan' 'Brazil' 'Argentina' 'Chile' 'Other' 'Japan' 'Canada'\n",
      " 'Indonesia' 'India' 'Colombia' 'Pakistan' 'Mexico' 'Turkey' 'Spain'\n",
      " 'Cameroon' 'Nigeria'\n",
      " 'United Kingdom of Great Britain and Northern Ireland' 'Ethiopia'\n",
      " 'Tunisia' 'Philippines' 'Egypt' 'South Korea' 'Peru' 'Thailand'\n",
      " 'Iran, Islamic Republic of...' 'Netherlands' 'Ghana' 'Portugal' 'Russia'\n",
      " 'Viet Nam' 'Poland' 'Saudi Arabia' 'Bangladesh' 'Czech Republic' 'Israel'\n",
      " 'China' 'Sri Lanka' 'South Africa' 'Hong Kong (S.A.R.)' 'Kenya' 'Romania'\n",
      " 'Morocco' 'Ukraine' 'United Arab Emirates' 'Nepal' 'Belgium' 'Malaysia'\n",
      " 'Ecuador' 'I do not wish to disclose my location' 'Algeria' 'Zimbabwe'\n",
      " 'Ireland']\n",
      "1\n",
      "['No']\n",
      "7\n",
      "['Some college/university study without earning a bachelor’s degree'\n",
      " 'Bachelor’s degree' 'Doctoral degree' 'Master’s degree'\n",
      " 'I prefer not to answer' 'No formal education past high school'\n",
      " 'Professional doctorate']\n",
      "7\n",
      "['10-20 years' '20+ years' '5-10 years' '3-5 years' '< 1 years'\n",
      " '1-3 years' 'I have never written code']\n",
      "8\n",
      "['1-2 years' '4-5 years' '5-10 years' '2-3 years' 'Under 1 year'\n",
      " '3-4 years' '10-20 years' 'I do not use machine learning methods']\n",
      "14\n",
      "['Data Scientist' 'Software Engineer' 'Research Scientist'\n",
      " 'Developer Advocate'\n",
      " 'Data Analyst (Business, Marketing, Financial, Quantitative, etc)'\n",
      " 'Data Engineer' 'Other' 'Machine Learning/ MLops Engineer'\n",
      " 'Engineer (non-software)' 'Teacher / professor'\n",
      " 'Manager (Program, Project, Operations, Executive-level, etc)'\n",
      " 'Statistician' 'Data Administrator' 'Data Architect']\n",
      "15\n",
      "['Online Service/Internet-based Services' 'Insurance/Risk Assessment'\n",
      " 'Government/Public Service' 'Computers/Technology' 'Accounting/Finance'\n",
      " 'Academics/Education' 'Non-profit/Service' 'Other'\n",
      " 'Medical/Pharmaceutical' 'Marketing/CRM' 'Manufacturing/Fabrication'\n",
      " 'Energy/Mining' 'Broadcasting/Communications' 'Retail/Sales'\n",
      " 'Shipping/Transportation']\n",
      "5\n",
      "['0-49 employees' '250-999 employees' '1000-9,999 employees'\n",
      " '50-249 employees' '10,000 or more employees']\n",
      "7\n",
      "['1-2' '20+' '3-4' '5-9' '0' '10-14' '15-19']\n",
      "6\n",
      "['We recently started using ML methods (i.e., models in production for less than 2 years)'\n",
      " 'We have well established ML methods (i.e., models in production for more than 2 years)'\n",
      " 'We are exploring ML methods (and may one day put a model into production)'\n",
      " 'I do not know'\n",
      " 'We use ML methods for generating insights (but do not put working models into production)'\n",
      " 'No (we do not use ML methods)']\n",
      "6\n",
      "['$1000-$9,999' '$0 ($USD)' '$100-$999' '$100,000 or more ($USD)' '$1-$99'\n",
      " '$10,000-$99,999']\n",
      "15\n",
      "[ 2. 10. 13. 12.  9.  3.  0.  5. 11.  1.  8. 14.  7.  6.  4.]\n"
     ]
    }
   ],
   "source": [
    "# Number of unique values in each columns\n",
    "col = df.columns\n",
    "col_list = col.tolist()\n",
    "num = []\n",
    "for i in col_list:\n",
    "  print(df[i].nunique())\n",
    "  print(df[i].unique())"
   ]
  },
  {
   "cell_type": "markdown",
   "metadata": {
    "id": "MAlMw5aDG4IY"
   },
   "source": [
    "## cleaning each remaining columns' values one by one"
   ]
  },
  {
   "cell_type": "code",
   "execution_count": 20,
   "metadata": {
    "id": "7ZVMeaGhGx5H"
   },
   "outputs": [],
   "source": [
    "# Q4 location and replace 'I do not wish to disclose my location' into mode values\n",
    "df['Q4'].replace({'I do not wish to disclose my location' : df['Q4'].mode().values}, inplace=True)"
   ]
  },
  {
   "cell_type": "code",
   "execution_count": 21,
   "metadata": {
    "colab": {
     "base_uri": "https://localhost:8080/"
    },
    "id": "EG07642F84Ag",
    "outputId": "3bc95116-58d3-4215-b1b0-839e5ad3831e"
   },
   "outputs": [
    {
     "data": {
      "text/plain": [
       "array(['No'], dtype=object)"
      ]
     },
     "execution_count": 21,
     "metadata": {},
     "output_type": "execute_result"
    }
   ],
   "source": [
    "df.Q5.unique()"
   ]
  },
  {
   "cell_type": "code",
   "execution_count": 22,
   "metadata": {
    "id": "E4WKhD8u9gf6"
   },
   "outputs": [],
   "source": [
    "# We could drop column Q5 since respondants for kaggle services are all non-students\n",
    "df.drop(['Q5'], axis = 1, inplace = True)"
   ]
  },
  {
   "cell_type": "code",
   "execution_count": 23,
   "metadata": {
    "colab": {
     "base_uri": "https://localhost:8080/"
    },
    "id": "sh6-RvA1_KID",
    "outputId": "2a44a30a-c938-4c7f-b389-d622112ee64e"
   },
   "outputs": [
    {
     "data": {
      "text/plain": [
       "Index(['Q2', 'Q3', 'Q4', 'Q8', 'Q11', 'Q16', 'Q23', 'Q24', 'Q25', 'Q26', 'Q27',\n",
       "       'Q30', 'Q29_Encoded'],\n",
       "      dtype='object')"
      ]
     },
     "execution_count": 23,
     "metadata": {},
     "output_type": "execute_result"
    }
   ],
   "source": [
    "df.columns"
   ]
  },
  {
   "cell_type": "code",
   "execution_count": 24,
   "metadata": {
    "colab": {
     "base_uri": "https://localhost:8080/"
    },
    "id": "2u--wa6W_NxD",
    "outputId": "6fd6fb85-6b84-43c4-9e40-0d8679948442"
   },
   "outputs": [
    {
     "data": {
      "text/plain": [
       "Man                        0.815511\n",
       "Woman                      0.169862\n",
       "Prefer not to say          0.010939\n",
       "Nonbinary                  0.002704\n",
       "Prefer to self-describe    0.000983\n",
       "Name: Q3, dtype: float64"
      ]
     },
     "execution_count": 24,
     "metadata": {},
     "output_type": "execute_result"
    }
   ],
   "source": [
    "# check percentage of each genders\n",
    "df['Q3'].value_counts(normalize = True)"
   ]
  },
  {
   "cell_type": "code",
   "execution_count": 25,
   "metadata": {
    "id": "sQrjtUJjB3nk"
   },
   "outputs": [],
   "source": [
    "# drop rows with genders as 'prefer not to say', 'Nonbinary' and 'Prefer to self-descirbe'\n",
    "other_gen = ['Prefer not to say', 'Nonbinary', 'Prefer to self-describe']\n",
    "df = df[~df['Q3'].isin(other_gen)]"
   ]
  },
  {
   "cell_type": "code",
   "execution_count": 26,
   "metadata": {
    "colab": {
     "base_uri": "https://localhost:8080/"
    },
    "id": "pBWkedQxIGgO",
    "outputId": "db9ff221-3aaa-4563-b634-5e11cbcaaa69"
   },
   "outputs": [
    {
     "data": {
      "text/plain": [
       "Master’s degree                                                      0.437445\n",
       "Bachelor’s degree                                                    0.246726\n",
       "Doctoral degree                                                      0.166771\n",
       "I prefer not to answer                                               0.052139\n",
       "Some college/university study without earning a bachelor’s degree    0.037296\n",
       "Professional doctorate                                               0.034302\n",
       "No formal education past high school                                 0.025321\n",
       "Name: Q8, dtype: float64"
      ]
     },
     "execution_count": 26,
     "metadata": {},
     "output_type": "execute_result"
    }
   ],
   "source": [
    "# check values distribution in columns Q8\n",
    "df['Q8'].value_counts(normalize = True)"
   ]
  },
  {
   "cell_type": "code",
   "execution_count": 27,
   "metadata": {
    "id": "5PR2SaXgIAXg"
   },
   "outputs": [],
   "source": [
    "# since the percent of 'I prefer not to answer' is small we could replace it with mode values\n",
    "df['Q8'].replace({'I prefer not to answer': df['Q8'].mode().values}, inplace = True)"
   ]
  },
  {
   "cell_type": "code",
   "execution_count": 28,
   "metadata": {
    "colab": {
     "base_uri": "https://localhost:8080/"
    },
    "id": "1r_4JuvHI9pa",
    "outputId": "3eca6363-375d-4386-ea21-d41cae8f0223"
   },
   "outputs": [
    {
     "data": {
      "text/plain": [
       "No (we do not use ML methods)                                                                0.224398\n",
       "We have well established ML methods (i.e., models in production for more than 2 years)       0.201197\n",
       "We are exploring ML methods (and may one day put a model into production)                    0.176126\n",
       "I do not know                                                                                0.154297\n",
       "We recently started using ML methods (i.e., models in production for less than 2 years)      0.139454\n",
       "We use ML methods for generating insights (but do not put working models into production)    0.104528\n",
       "Name: Q27, dtype: float64"
      ]
     },
     "execution_count": 28,
     "metadata": {},
     "output_type": "execute_result"
    }
   ],
   "source": [
    "#Q27 ml experiences\n",
    "df['Q27'].value_counts(normalize = True)"
   ]
  },
  {
   "cell_type": "code",
   "execution_count": 29,
   "metadata": {
    "id": "D7ixxcclDqOZ"
   },
   "outputs": [],
   "source": [
    "# since they are quite evenly spread, I replace 'I do not know' into unknown.\n",
    "df['Q27'].replace({'I do not know': 'Unknown'}, inplace = True)"
   ]
  },
  {
   "cell_type": "markdown",
   "metadata": {
    "id": "ek0oG22bTIc4"
   },
   "source": [
    "## Label encoding "
   ]
  },
  {
   "cell_type": "markdown",
   "metadata": {
    "id": "VsN4JHZGfdxG"
   },
   "source": [
    "https://scikit-learn.org/stable/modules/generated/sklearn.preprocessing.LabelEncoder.html"
   ]
  },
  {
   "cell_type": "code",
   "execution_count": 30,
   "metadata": {
    "id": "m9KIgvZsTEOT"
   },
   "outputs": [],
   "source": [
    "ls = ['Q2', 'Q3', 'Q4', 'Q8', 'Q11', 'Q16', 'Q23', 'Q24', 'Q25', 'Q26', 'Q27','Q30']\n",
    "df1 = df.copy()\n",
    "label_encoder = preprocessing.LabelEncoder()\n",
    "df1[ls] = df[ls].apply(label_encoder.fit_transform)"
   ]
  },
  {
   "cell_type": "markdown",
   "metadata": {
    "id": "q4nAEWB1RSo6"
   },
   "source": [
    "## Ordinal Encoding"
   ]
  },
  {
   "cell_type": "code",
   "execution_count": 31,
   "metadata": {
    "id": "NA5gJCiVRSSY"
   },
   "outputs": [],
   "source": [
    "df_ordinal = df.copy()\n",
    "ordinal_encoder = OrdinalEncoder()\n",
    "#df_ordinal[ls] = df_ordinal[ls].apply(ordinal_encoder.fit_transform)\n",
    "#result = ordinal_encoder.fit_transform(df[:-1])\n",
    "ordinal_encoder.fit(df[ls])\n",
    "df_ordinal[ls] = ordinal_encoder.transform(df[ls])"
   ]
  },
  {
   "cell_type": "markdown",
   "metadata": {
    "id": "3PxEIuxgR3Mg"
   },
   "source": [
    "## One-hot Encoding"
   ]
  },
  {
   "cell_type": "code",
   "execution_count": 32,
   "metadata": {
    "id": "m0b5qVPwE1-E"
   },
   "outputs": [],
   "source": [
    "# since the other variables are categorical and not ordinal they could be encoded into dummy variables\n",
    "df_onehot= pd.get_dummies(data=df, columns=['Q2', 'Q3', 'Q4', 'Q8', 'Q11', 'Q16', 'Q23', 'Q24', 'Q25', 'Q26', 'Q27',\n",
    "       'Q30'])"
   ]
  },
  {
   "cell_type": "code",
   "execution_count": 33,
   "metadata": {
    "id": "jk2TK3rKqnjF"
   },
   "outputs": [],
   "source": [
    "df_onehot['Q29_Encoded'] = df['Q29_Encoded']\n",
    "df_onehot['new'] = df['Q29_Encoded']\n",
    "df_onehot.rename({'new': 'Q29_Encoded'}, axis = 1, inplace = True)\n",
    "df_onehot = df_onehot.iloc[:, 1:]"
   ]
  },
  {
   "cell_type": "code",
   "execution_count": 34,
   "metadata": {
    "colab": {
     "base_uri": "https://localhost:8080/",
     "height": 473
    },
    "id": "O1PD4MmLrKEs",
    "outputId": "5af03b7f-9a3f-4855-cc59-c37ed2aa8cc7"
   },
   "outputs": [
    {
     "data": {
      "text/html": [
       "<div>\n",
       "<style scoped>\n",
       "    .dataframe tbody tr th:only-of-type {\n",
       "        vertical-align: middle;\n",
       "    }\n",
       "\n",
       "    .dataframe tbody tr th {\n",
       "        vertical-align: top;\n",
       "    }\n",
       "\n",
       "    .dataframe thead th {\n",
       "        text-align: right;\n",
       "    }\n",
       "</style>\n",
       "<table border=\"1\" class=\"dataframe\">\n",
       "  <thead>\n",
       "    <tr style=\"text-align: right;\">\n",
       "      <th></th>\n",
       "      <th>Q2_18-21</th>\n",
       "      <th>Q2_22-24</th>\n",
       "      <th>Q2_25-29</th>\n",
       "      <th>Q2_30-34</th>\n",
       "      <th>Q2_35-39</th>\n",
       "      <th>Q2_40-44</th>\n",
       "      <th>Q2_45-49</th>\n",
       "      <th>Q2_50-54</th>\n",
       "      <th>Q2_55-59</th>\n",
       "      <th>Q2_60-69</th>\n",
       "      <th>...</th>\n",
       "      <th>Q27_We have well established ML methods (i.e., models in production for more than 2 years)</th>\n",
       "      <th>Q27_We recently started using ML methods (i.e., models in production for less than 2 years)</th>\n",
       "      <th>Q27_We use ML methods for generating insights (but do not put working models into production)</th>\n",
       "      <th>Q30_$0 ($USD)</th>\n",
       "      <th>Q30_$1-$99</th>\n",
       "      <th>Q30_$10,000-$99,999</th>\n",
       "      <th>Q30_$100,000 or more ($USD)</th>\n",
       "      <th>Q30_$100-$999</th>\n",
       "      <th>Q30_$1000-$9,999</th>\n",
       "      <th>Q29_Encoded</th>\n",
       "    </tr>\n",
       "  </thead>\n",
       "  <tbody>\n",
       "    <tr>\n",
       "      <th>1</th>\n",
       "      <td>0</td>\n",
       "      <td>0</td>\n",
       "      <td>0</td>\n",
       "      <td>0</td>\n",
       "      <td>0</td>\n",
       "      <td>0</td>\n",
       "      <td>0</td>\n",
       "      <td>0</td>\n",
       "      <td>1</td>\n",
       "      <td>0</td>\n",
       "      <td>...</td>\n",
       "      <td>0</td>\n",
       "      <td>1</td>\n",
       "      <td>0</td>\n",
       "      <td>0</td>\n",
       "      <td>0</td>\n",
       "      <td>0</td>\n",
       "      <td>0</td>\n",
       "      <td>0</td>\n",
       "      <td>1</td>\n",
       "      <td>2.0</td>\n",
       "    </tr>\n",
       "    <tr>\n",
       "      <th>2</th>\n",
       "      <td>0</td>\n",
       "      <td>0</td>\n",
       "      <td>0</td>\n",
       "      <td>1</td>\n",
       "      <td>0</td>\n",
       "      <td>0</td>\n",
       "      <td>0</td>\n",
       "      <td>0</td>\n",
       "      <td>0</td>\n",
       "      <td>0</td>\n",
       "      <td>...</td>\n",
       "      <td>1</td>\n",
       "      <td>0</td>\n",
       "      <td>0</td>\n",
       "      <td>1</td>\n",
       "      <td>0</td>\n",
       "      <td>0</td>\n",
       "      <td>0</td>\n",
       "      <td>0</td>\n",
       "      <td>0</td>\n",
       "      <td>10.0</td>\n",
       "    </tr>\n",
       "    <tr>\n",
       "      <th>3</th>\n",
       "      <td>0</td>\n",
       "      <td>0</td>\n",
       "      <td>0</td>\n",
       "      <td>0</td>\n",
       "      <td>0</td>\n",
       "      <td>0</td>\n",
       "      <td>0</td>\n",
       "      <td>0</td>\n",
       "      <td>0</td>\n",
       "      <td>0</td>\n",
       "      <td>...</td>\n",
       "      <td>0</td>\n",
       "      <td>1</td>\n",
       "      <td>0</td>\n",
       "      <td>0</td>\n",
       "      <td>0</td>\n",
       "      <td>0</td>\n",
       "      <td>0</td>\n",
       "      <td>1</td>\n",
       "      <td>0</td>\n",
       "      <td>10.0</td>\n",
       "    </tr>\n",
       "    <tr>\n",
       "      <th>4</th>\n",
       "      <td>0</td>\n",
       "      <td>0</td>\n",
       "      <td>0</td>\n",
       "      <td>0</td>\n",
       "      <td>0</td>\n",
       "      <td>1</td>\n",
       "      <td>0</td>\n",
       "      <td>0</td>\n",
       "      <td>0</td>\n",
       "      <td>0</td>\n",
       "      <td>...</td>\n",
       "      <td>1</td>\n",
       "      <td>0</td>\n",
       "      <td>0</td>\n",
       "      <td>0</td>\n",
       "      <td>0</td>\n",
       "      <td>0</td>\n",
       "      <td>0</td>\n",
       "      <td>1</td>\n",
       "      <td>0</td>\n",
       "      <td>13.0</td>\n",
       "    </tr>\n",
       "    <tr>\n",
       "      <th>5</th>\n",
       "      <td>0</td>\n",
       "      <td>0</td>\n",
       "      <td>0</td>\n",
       "      <td>0</td>\n",
       "      <td>0</td>\n",
       "      <td>1</td>\n",
       "      <td>0</td>\n",
       "      <td>0</td>\n",
       "      <td>0</td>\n",
       "      <td>0</td>\n",
       "      <td>...</td>\n",
       "      <td>1</td>\n",
       "      <td>0</td>\n",
       "      <td>0</td>\n",
       "      <td>0</td>\n",
       "      <td>0</td>\n",
       "      <td>0</td>\n",
       "      <td>1</td>\n",
       "      <td>0</td>\n",
       "      <td>0</td>\n",
       "      <td>13.0</td>\n",
       "    </tr>\n",
       "  </tbody>\n",
       "</table>\n",
       "<p>5 rows × 145 columns</p>\n",
       "</div>"
      ],
      "text/plain": [
       "   Q2_18-21  Q2_22-24  Q2_25-29  Q2_30-34  Q2_35-39  Q2_40-44  Q2_45-49  \\\n",
       "1         0         0         0         0         0         0         0   \n",
       "2         0         0         0         1         0         0         0   \n",
       "3         0         0         0         0         0         0         0   \n",
       "4         0         0         0         0         0         1         0   \n",
       "5         0         0         0         0         0         1         0   \n",
       "\n",
       "   Q2_50-54  Q2_55-59  Q2_60-69  ...  \\\n",
       "1         0         1         0  ...   \n",
       "2         0         0         0  ...   \n",
       "3         0         0         0  ...   \n",
       "4         0         0         0  ...   \n",
       "5         0         0         0  ...   \n",
       "\n",
       "   Q27_We have well established ML methods (i.e., models in production for more than 2 years)  \\\n",
       "1                                                  0                                            \n",
       "2                                                  1                                            \n",
       "3                                                  0                                            \n",
       "4                                                  1                                            \n",
       "5                                                  1                                            \n",
       "\n",
       "   Q27_We recently started using ML methods (i.e., models in production for less than 2 years)  \\\n",
       "1                                                  1                                             \n",
       "2                                                  0                                             \n",
       "3                                                  1                                             \n",
       "4                                                  0                                             \n",
       "5                                                  0                                             \n",
       "\n",
       "   Q27_We use ML methods for generating insights (but do not put working models into production)  \\\n",
       "1                                                  0                                               \n",
       "2                                                  0                                               \n",
       "3                                                  0                                               \n",
       "4                                                  0                                               \n",
       "5                                                  0                                               \n",
       "\n",
       "   Q30_$0 ($USD)  Q30_$1-$99  Q30_$10,000-$99,999  \\\n",
       "1              0           0                    0   \n",
       "2              1           0                    0   \n",
       "3              0           0                    0   \n",
       "4              0           0                    0   \n",
       "5              0           0                    0   \n",
       "\n",
       "   Q30_$100,000 or more ($USD)  Q30_$100-$999  Q30_$1000-$9,999  Q29_Encoded  \n",
       "1                            0              0                 1          2.0  \n",
       "2                            0              0                 0         10.0  \n",
       "3                            0              1                 0         10.0  \n",
       "4                            0              1                 0         13.0  \n",
       "5                            1              0                 0         13.0  \n",
       "\n",
       "[5 rows x 145 columns]"
      ]
     },
     "execution_count": 34,
     "metadata": {},
     "output_type": "execute_result"
    }
   ],
   "source": [
    "df_onehot.head()"
   ]
  },
  {
   "cell_type": "markdown",
   "metadata": {
    "id": "YwDJFvo9Rffi"
   },
   "source": []
  },
  {
   "cell_type": "markdown",
   "metadata": {
    "id": "GoBUlAqVXFJ7"
   },
   "source": [
    " ## Exploratory data analysis and feature selection"
   ]
  },
  {
   "cell_type": "code",
   "execution_count": 35,
   "metadata": {
    "colab": {
     "base_uri": "https://localhost:8080/",
     "height": 1000
    },
    "id": "W_3uuIJtMeB7",
    "outputId": "647f619a-277f-49e8-b3a0-55a7b9bae9a3"
   },
   "outputs": [
    {
     "data": {
      "image/png": "[encoded data removed]",
      "text/plain": [
       "<Figure size 2880x2880 with 2 Axes>"
      ]
     },
     "metadata": {
      "needs_background": "light"
     },
     "output_type": "display_data"
    }
   ],
   "source": [
    "# plot the correlation of each pair of variables in a heatmap (one hot encoding).\n",
    "ax = sns.heatmap(df_onehot.corr(),annot=False,fmt='.1g',vmin=-1, vmax=1, center= 0,cmap='coolwarm')\n",
    "fig = plt.gcf()\n",
    "fig.set_size_inches(40,40)\n",
    "plt.show()"
   ]
  },
  {
   "cell_type": "code",
   "execution_count": 36,
   "metadata": {
    "colab": {
     "base_uri": "https://localhost:8080/",
     "height": 1000
    },
    "id": "d7eYRkpBkd9k",
    "outputId": "14bddb74-cbab-4d8a-ec69-52c6b099ef93"
   },
   "outputs": [
    {
     "data": {
      "image/png": "[encoded data removed]",
      "text/plain": [
       "<Figure size 1440x1440 with 2 Axes>"
      ]
     },
     "metadata": {
      "needs_background": "light"
     },
     "output_type": "display_data"
    }
   ],
   "source": [
    "# heatmap plot for label encoding\n",
    "cmap = sns.diverging_palette(145, 280, s=85, l=25, n=7)\n",
    "sns.heatmap(df1.corr(),annot=True)\n",
    "fig=plt.gcf()\n",
    "fig.set_size_inches(20,20)\n",
    "plt.show()"
   ]
  },
  {
   "cell_type": "markdown",
   "metadata": {
    "id": "E_ZdgBmTp1VM"
   },
   "source": []
  },
  {
   "cell_type": "code",
   "execution_count": 37,
   "metadata": {
    "colab": {
     "base_uri": "https://localhost:8080/",
     "height": 1000
    },
    "id": "eAAupx0gXMDy",
    "outputId": "8f112ebf-8a97-4fa9-d164-adecd8af3677"
   },
   "outputs": [
    {
     "data": {
      "image/png": "[encoded data removed]",
      "text/plain": [
       "<Figure size 1440x720 with 1 Axes>"
      ]
     },
     "metadata": {
      "needs_background": "light"
     },
     "output_type": "display_data"
    }
   ],
   "source": [
    "# plot a bar chart showing the importance of top 20 features by descending orders\n",
    "cor_plot = df_onehot.corr()\n",
    "target_cor = cor_plot.shape[0]-1\n",
    "bar_plot = cor_plot.iloc[target_cor,0:-1].sort_values(ascending=False)\n",
    "\n",
    "plt.figure(figsize=(20,10))\n",
    "bar_plot.iloc[0:30].plot(kind='bar')\n",
    "plt.title('Top 30 variables Correlated with Salary')\n",
    "plt.xlabel('Variables')\n",
    "plt.ylabel('Correlation')\n",
    "plt.show()"
   ]
  },
  {
   "cell_type": "markdown",
   "metadata": {
    "id": "5IFD-0zbvU2K"
   },
   "source": [
    "## Feature Selection based on Lasso regression"
   ]
  },
  {
   "cell_type": "code",
   "execution_count": 38,
   "metadata": {
    "colab": {
     "base_uri": "https://localhost:8080/"
    },
    "id": "CarNYy2Lx7Pn",
    "outputId": "128238c7-b2cc-4a69-fa95-c65104aa4496",
    "scrolled": true
   },
   "outputs": [
    {
     "data": {
      "text/plain": [
       "<AxesSubplot:xlabel='Q29_Encoded', ylabel='Density'>"
      ]
     },
     "execution_count": 38,
     "metadata": {},
     "output_type": "execute_result"
    },
    {
     "data": {
      "image/png": "[encoded data removed]",
      "text/plain": [
       "<Figure size 432x288 with 1 Axes>"
      ]
     },
     "metadata": {
      "needs_background": "light"
     },
     "output_type": "display_data"
    }
   ],
   "source": [
    "# define X and target values\n",
    "X, y = df_onehot.drop('Q29_Encoded',axis=1), df['Q29_Encoded']\n",
    "# split training and test set\n",
    "X_train, X_test, y_train, y_test = train_test_split(X, y, test_size=0.2, random_state=42)\n",
    "\n",
    "model = Lasso()\n",
    "model.fit(X_train,y_train)\n",
    "y_pred = model.predict(X_test)\n",
    "%matplotlib inline\n",
    "\n",
    "sns.distplot(y_test-y_pred)"
   ]
  },
  {
   "cell_type": "code",
   "execution_count": 39,
   "metadata": {
    "colab": {
     "base_uri": "https://localhost:8080/"
    },
    "id": "rq30tg06PoZU",
    "outputId": "7e604f1e-0694-4a7d-c6dc-e895557baefb"
   },
   "outputs": [
    {
     "data": {
      "text/plain": [
       "SelectFromModel(estimator=LogisticRegression(C=1, penalty='l1',\n",
       "                                             solver='liblinear'))"
      ]
     },
     "execution_count": 39,
     "metadata": {},
     "output_type": "execute_result"
    }
   ],
   "source": [
    "# set penalty as 'l1' to conduct feature selection based on lasso regurization.\n",
    "sel_ = SelectFromModel(LogisticRegression(C=1, penalty='l1', solver='liblinear'))\n",
    "sel_.fit(X_train, y_train)"
   ]
  },
  {
   "cell_type": "code",
   "execution_count": 40,
   "metadata": {
    "colab": {
     "base_uri": "https://localhost:8080/"
    },
    "id": "hi2odOG_lpkM",
    "outputId": "b49145b5-5810-4894-bbe2-62204b75ac78",
    "scrolled": true
   },
   "outputs": [
    {
     "data": {
      "text/plain": [
       "array([ True,  True,  True,  True,  True,  True,  True,  True,  True,\n",
       "        True,  True,  True,  True,  True,  True,  True,  True,  True,\n",
       "        True,  True,  True,  True,  True,  True,  True,  True,  True,\n",
       "        True,  True,  True,  True,  True,  True,  True,  True,  True,\n",
       "        True,  True,  True,  True,  True,  True,  True,  True,  True,\n",
       "        True,  True,  True,  True,  True,  True,  True,  True,  True,\n",
       "        True,  True,  True,  True,  True,  True,  True,  True,  True,\n",
       "        True,  True,  True,  True,  True,  True,  True,  True,  True,\n",
       "        True,  True,  True,  True,  True,  True,  True,  True,  True,\n",
       "        True,  True,  True,  True,  True,  True,  True,  True,  True,\n",
       "        True,  True,  True,  True,  True,  True,  True,  True,  True,\n",
       "        True,  True,  True,  True,  True,  True,  True,  True,  True,\n",
       "        True,  True,  True,  True,  True,  True,  True,  True,  True,\n",
       "        True,  True,  True,  True,  True,  True,  True,  True,  True,\n",
       "        True,  True,  True,  True,  True,  True,  True,  True,  True,\n",
       "        True,  True,  True,  True,  True,  True,  True,  True,  True])"
      ]
     },
     "execution_count": 40,
     "metadata": {},
     "output_type": "execute_result"
    }
   ],
   "source": [
    "# select features with importances bigger than 0\n",
    "sel_.get_support()"
   ]
  },
  {
   "cell_type": "markdown",
   "metadata": {},
   "source": [
    "We did not find importances of features which equal to 0. Thus, we would move on to find other methodologies for features selection."
   ]
  },
  {
   "cell_type": "markdown",
   "metadata": {
    "id": "mcBxh3bx90Yf"
   },
   "source": [
    "## Random Forest"
   ]
  },
  {
   "cell_type": "markdown",
   "metadata": {
    "id": "SJ6-9rXV-SkT"
   },
   "source": [
    "https://towardsdatascience.com/feature-selection-using-random-forest-26d7b747597f"
   ]
  },
  {
   "cell_type": "code",
   "execution_count": 41,
   "metadata": {
    "colab": {
     "base_uri": "https://localhost:8080/"
    },
    "id": "GVhydTXC2YpD",
    "outputId": "38403a08-85f9-4604-8a81-584ba59ead11"
   },
   "outputs": [
    {
     "data": {
      "text/plain": [
       "SelectFromModel(estimator=RandomForestClassifier())"
      ]
     },
     "execution_count": 41,
     "metadata": {},
     "output_type": "execute_result"
    }
   ],
   "source": [
    "# Random Forest Classifiers for feature selection\n",
    "sel = SelectFromModel(RandomForestClassifier(n_estimators = 100))\n",
    "sel.fit(X_train, y_train)"
   ]
  },
  {
   "cell_type": "code",
   "execution_count": 42,
   "metadata": {
    "colab": {
     "base_uri": "https://localhost:8080/"
    },
    "id": "VjjJMR0J7c79",
    "outputId": "a863ca72-82f0-4769-ddf7-068bb7ca2d85"
   },
   "outputs": [
    {
     "data": {
      "text/plain": [
       "array([False,  True,  True,  True,  True,  True,  True,  True,  True,\n",
       "       False, False,  True,  True, False, False, False, False, False,\n",
       "       False, False, False, False, False, False, False, False, False,\n",
       "       False, False, False, False, False,  True, False, False, False,\n",
       "       False, False, False, False, False, False, False, False, False,\n",
       "       False,  True, False, False, False, False, False, False, False,\n",
       "       False, False, False, False, False, False, False, False, False,\n",
       "       False, False, False, False,  True, False, False,  True,  True,\n",
       "        True, False, False, False,  True,  True,  True,  True,  True,\n",
       "        True, False,  True, False,  True,  True,  True,  True,  True,\n",
       "        True, False,  True, False, False,  True, False, False,  True,\n",
       "        True,  True,  True,  True, False, False,  True,  True, False,\n",
       "        True, False,  True, False,  True, False,  True, False,  True,\n",
       "        True, False, False,  True,  True,  True,  True,  True,  True,\n",
       "        True,  True, False,  True,  True,  True,  True,  True,  True,\n",
       "        True,  True,  True,  True,  True,  True, False,  True,  True])"
      ]
     },
     "execution_count": 42,
     "metadata": {},
     "output_type": "execute_result"
    }
   ],
   "source": [
    "sel.get_support()"
   ]
  },
  {
   "cell_type": "code",
   "execution_count": 43,
   "metadata": {
    "colab": {
     "base_uri": "https://localhost:8080/"
    },
    "id": "ylnIIS-h7wrS",
    "outputId": "eda376d3-ff21-4d11-85d7-fc42ab6f432a"
   },
   "outputs": [
    {
     "name": "stdout",
     "output_type": "stream",
     "text": [
      "The number of features that selected by random forest is 66\n",
      "The name of the features selected Index(['Q2_22-24', 'Q2_25-29', 'Q2_30-34', 'Q2_35-39', 'Q2_40-44', 'Q2_45-49',\n",
      "       'Q2_50-54', 'Q2_55-59', 'Q3_Man', 'Q3_Woman', 'Q4_India', 'Q4_Other',\n",
      "       'Q4_United States of America', 'Q8_Bachelor’s degree',\n",
      "       'Q8_Doctoral degree', 'Q8_Master’s degree', 'Q11_1-3 years',\n",
      "       'Q11_10-20 years', 'Q11_20+ years', 'Q11_3-5 years', 'Q11_5-10 years',\n",
      "       'Q11_< 1 years', 'Q16_1-2 years', 'Q16_2-3 years', 'Q16_3-4 years',\n",
      "       'Q16_4-5 years', 'Q16_5-10 years',\n",
      "       'Q16_I do not use machine learning methods', 'Q16_Under 1 year',\n",
      "       'Q23_Data Analyst (Business, Marketing, Financial, Quantitative, etc)',\n",
      "       'Q23_Data Scientist', 'Q23_Machine Learning/ MLops Engineer',\n",
      "       'Q23_Manager (Program, Project, Operations, Executive-level, etc)',\n",
      "       'Q23_Other', 'Q23_Research Scientist', 'Q23_Software Engineer',\n",
      "       'Q24_Academics/Education', 'Q24_Accounting/Finance',\n",
      "       'Q24_Computers/Technology', 'Q24_Government/Public Service',\n",
      "       'Q24_Manufacturing/Fabrication', 'Q24_Medical/Pharmaceutical',\n",
      "       'Q24_Online Service/Internet-based Services', 'Q24_Other',\n",
      "       'Q25_0-49 employees', 'Q25_10,000 or more employees',\n",
      "       'Q25_1000-9,999 employees', 'Q25_250-999 employees',\n",
      "       'Q25_50-249 employees', 'Q26_0', 'Q26_1-2', 'Q26_10-14', 'Q26_20+',\n",
      "       'Q26_3-4', 'Q26_5-9', 'Q27_No (we do not use ML methods)',\n",
      "       'Q27_Unknown',\n",
      "       'Q27_We are exploring ML methods (and may one day put a model into production)',\n",
      "       'Q27_We have well established ML methods (i.e., models in production for more than 2 years)',\n",
      "       'Q27_We recently started using ML methods (i.e., models in production for less than 2 years)',\n",
      "       'Q27_We use ML methods for generating insights (but do not put working models into production)',\n",
      "       'Q30_$0 ($USD)', 'Q30_$1-$99', 'Q30_$10,000-$99,999', 'Q30_$100-$999',\n",
      "       'Q30_$1000-$9,999'],\n",
      "      dtype='object')\n"
     ]
    }
   ],
   "source": [
    "selected_feat = X_train.columns[(sel.get_support())]\n",
    "len(selected_feat)\n",
    "print('The number of features that selected by random forest is', len(selected_feat))\n",
    "print('The name of the features selected', selected_feat)"
   ]
  },
  {
   "cell_type": "code",
   "execution_count": 44,
   "metadata": {
    "colab": {
     "base_uri": "https://localhost:8080/",
     "height": 661
    },
    "id": "iM_PCYR6oQtE",
    "outputId": "db7cd9d1-67d1-4daf-c275-d7a1e2531500"
   },
   "outputs": [
    {
     "data": {
      "text/html": [
       "<div>\n",
       "<style scoped>\n",
       "    .dataframe tbody tr th:only-of-type {\n",
       "        vertical-align: middle;\n",
       "    }\n",
       "\n",
       "    .dataframe tbody tr th {\n",
       "        vertical-align: top;\n",
       "    }\n",
       "\n",
       "    .dataframe thead th {\n",
       "        text-align: right;\n",
       "    }\n",
       "</style>\n",
       "<table border=\"1\" class=\"dataframe\">\n",
       "  <thead>\n",
       "    <tr style=\"text-align: right;\">\n",
       "      <th></th>\n",
       "      <th>Q2_22-24</th>\n",
       "      <th>Q2_25-29</th>\n",
       "      <th>Q2_30-34</th>\n",
       "      <th>Q2_35-39</th>\n",
       "      <th>Q2_40-44</th>\n",
       "      <th>Q2_45-49</th>\n",
       "      <th>Q2_50-54</th>\n",
       "      <th>Q2_55-59</th>\n",
       "      <th>Q3_Man</th>\n",
       "      <th>Q3_Woman</th>\n",
       "      <th>...</th>\n",
       "      <th>Q27_Unknown</th>\n",
       "      <th>Q27_We are exploring ML methods (and may one day put a model into production)</th>\n",
       "      <th>Q27_We have well established ML methods (i.e., models in production for more than 2 years)</th>\n",
       "      <th>Q27_We recently started using ML methods (i.e., models in production for less than 2 years)</th>\n",
       "      <th>Q27_We use ML methods for generating insights (but do not put working models into production)</th>\n",
       "      <th>Q30_$0 ($USD)</th>\n",
       "      <th>Q30_$1-$99</th>\n",
       "      <th>Q30_$10,000-$99,999</th>\n",
       "      <th>Q30_$100-$999</th>\n",
       "      <th>Q30_$1000-$9,999</th>\n",
       "    </tr>\n",
       "  </thead>\n",
       "  <tbody>\n",
       "    <tr>\n",
       "      <th>6024</th>\n",
       "      <td>0</td>\n",
       "      <td>1</td>\n",
       "      <td>0</td>\n",
       "      <td>0</td>\n",
       "      <td>0</td>\n",
       "      <td>0</td>\n",
       "      <td>0</td>\n",
       "      <td>0</td>\n",
       "      <td>0</td>\n",
       "      <td>1</td>\n",
       "      <td>...</td>\n",
       "      <td>0</td>\n",
       "      <td>0</td>\n",
       "      <td>0</td>\n",
       "      <td>0</td>\n",
       "      <td>1</td>\n",
       "      <td>0</td>\n",
       "      <td>0</td>\n",
       "      <td>0</td>\n",
       "      <td>1</td>\n",
       "      <td>0</td>\n",
       "    </tr>\n",
       "    <tr>\n",
       "      <th>7084</th>\n",
       "      <td>0</td>\n",
       "      <td>0</td>\n",
       "      <td>0</td>\n",
       "      <td>0</td>\n",
       "      <td>1</td>\n",
       "      <td>0</td>\n",
       "      <td>0</td>\n",
       "      <td>0</td>\n",
       "      <td>0</td>\n",
       "      <td>1</td>\n",
       "      <td>...</td>\n",
       "      <td>0</td>\n",
       "      <td>0</td>\n",
       "      <td>0</td>\n",
       "      <td>0</td>\n",
       "      <td>0</td>\n",
       "      <td>0</td>\n",
       "      <td>0</td>\n",
       "      <td>0</td>\n",
       "      <td>0</td>\n",
       "      <td>1</td>\n",
       "    </tr>\n",
       "    <tr>\n",
       "      <th>3007</th>\n",
       "      <td>0</td>\n",
       "      <td>0</td>\n",
       "      <td>0</td>\n",
       "      <td>0</td>\n",
       "      <td>1</td>\n",
       "      <td>0</td>\n",
       "      <td>0</td>\n",
       "      <td>0</td>\n",
       "      <td>0</td>\n",
       "      <td>1</td>\n",
       "      <td>...</td>\n",
       "      <td>0</td>\n",
       "      <td>1</td>\n",
       "      <td>0</td>\n",
       "      <td>0</td>\n",
       "      <td>0</td>\n",
       "      <td>0</td>\n",
       "      <td>0</td>\n",
       "      <td>0</td>\n",
       "      <td>1</td>\n",
       "      <td>0</td>\n",
       "    </tr>\n",
       "    <tr>\n",
       "      <th>234</th>\n",
       "      <td>0</td>\n",
       "      <td>0</td>\n",
       "      <td>1</td>\n",
       "      <td>0</td>\n",
       "      <td>0</td>\n",
       "      <td>0</td>\n",
       "      <td>0</td>\n",
       "      <td>0</td>\n",
       "      <td>1</td>\n",
       "      <td>0</td>\n",
       "      <td>...</td>\n",
       "      <td>1</td>\n",
       "      <td>0</td>\n",
       "      <td>0</td>\n",
       "      <td>0</td>\n",
       "      <td>0</td>\n",
       "      <td>1</td>\n",
       "      <td>0</td>\n",
       "      <td>0</td>\n",
       "      <td>0</td>\n",
       "      <td>0</td>\n",
       "    </tr>\n",
       "    <tr>\n",
       "      <th>6877</th>\n",
       "      <td>0</td>\n",
       "      <td>0</td>\n",
       "      <td>1</td>\n",
       "      <td>0</td>\n",
       "      <td>0</td>\n",
       "      <td>0</td>\n",
       "      <td>0</td>\n",
       "      <td>0</td>\n",
       "      <td>1</td>\n",
       "      <td>0</td>\n",
       "      <td>...</td>\n",
       "      <td>0</td>\n",
       "      <td>0</td>\n",
       "      <td>1</td>\n",
       "      <td>0</td>\n",
       "      <td>0</td>\n",
       "      <td>0</td>\n",
       "      <td>1</td>\n",
       "      <td>0</td>\n",
       "      <td>0</td>\n",
       "      <td>0</td>\n",
       "    </tr>\n",
       "    <tr>\n",
       "      <th>...</th>\n",
       "      <td>...</td>\n",
       "      <td>...</td>\n",
       "      <td>...</td>\n",
       "      <td>...</td>\n",
       "      <td>...</td>\n",
       "      <td>...</td>\n",
       "      <td>...</td>\n",
       "      <td>...</td>\n",
       "      <td>...</td>\n",
       "      <td>...</td>\n",
       "      <td>...</td>\n",
       "      <td>...</td>\n",
       "      <td>...</td>\n",
       "      <td>...</td>\n",
       "      <td>...</td>\n",
       "      <td>...</td>\n",
       "      <td>...</td>\n",
       "      <td>...</td>\n",
       "      <td>...</td>\n",
       "      <td>...</td>\n",
       "      <td>...</td>\n",
       "    </tr>\n",
       "    <tr>\n",
       "      <th>5297</th>\n",
       "      <td>0</td>\n",
       "      <td>0</td>\n",
       "      <td>1</td>\n",
       "      <td>0</td>\n",
       "      <td>0</td>\n",
       "      <td>0</td>\n",
       "      <td>0</td>\n",
       "      <td>0</td>\n",
       "      <td>0</td>\n",
       "      <td>1</td>\n",
       "      <td>...</td>\n",
       "      <td>0</td>\n",
       "      <td>0</td>\n",
       "      <td>0</td>\n",
       "      <td>0</td>\n",
       "      <td>1</td>\n",
       "      <td>0</td>\n",
       "      <td>0</td>\n",
       "      <td>0</td>\n",
       "      <td>1</td>\n",
       "      <td>0</td>\n",
       "    </tr>\n",
       "    <tr>\n",
       "      <th>5466</th>\n",
       "      <td>0</td>\n",
       "      <td>0</td>\n",
       "      <td>0</td>\n",
       "      <td>0</td>\n",
       "      <td>0</td>\n",
       "      <td>1</td>\n",
       "      <td>0</td>\n",
       "      <td>0</td>\n",
       "      <td>0</td>\n",
       "      <td>1</td>\n",
       "      <td>...</td>\n",
       "      <td>0</td>\n",
       "      <td>0</td>\n",
       "      <td>0</td>\n",
       "      <td>0</td>\n",
       "      <td>0</td>\n",
       "      <td>0</td>\n",
       "      <td>1</td>\n",
       "      <td>0</td>\n",
       "      <td>0</td>\n",
       "      <td>0</td>\n",
       "    </tr>\n",
       "    <tr>\n",
       "      <th>869</th>\n",
       "      <td>0</td>\n",
       "      <td>0</td>\n",
       "      <td>0</td>\n",
       "      <td>0</td>\n",
       "      <td>0</td>\n",
       "      <td>0</td>\n",
       "      <td>0</td>\n",
       "      <td>0</td>\n",
       "      <td>1</td>\n",
       "      <td>0</td>\n",
       "      <td>...</td>\n",
       "      <td>0</td>\n",
       "      <td>0</td>\n",
       "      <td>0</td>\n",
       "      <td>0</td>\n",
       "      <td>1</td>\n",
       "      <td>0</td>\n",
       "      <td>0</td>\n",
       "      <td>0</td>\n",
       "      <td>0</td>\n",
       "      <td>1</td>\n",
       "    </tr>\n",
       "    <tr>\n",
       "      <th>7719</th>\n",
       "      <td>1</td>\n",
       "      <td>0</td>\n",
       "      <td>0</td>\n",
       "      <td>0</td>\n",
       "      <td>0</td>\n",
       "      <td>0</td>\n",
       "      <td>0</td>\n",
       "      <td>0</td>\n",
       "      <td>1</td>\n",
       "      <td>0</td>\n",
       "      <td>...</td>\n",
       "      <td>0</td>\n",
       "      <td>0</td>\n",
       "      <td>0</td>\n",
       "      <td>1</td>\n",
       "      <td>0</td>\n",
       "      <td>0</td>\n",
       "      <td>0</td>\n",
       "      <td>0</td>\n",
       "      <td>1</td>\n",
       "      <td>0</td>\n",
       "    </tr>\n",
       "    <tr>\n",
       "      <th>7377</th>\n",
       "      <td>1</td>\n",
       "      <td>0</td>\n",
       "      <td>0</td>\n",
       "      <td>0</td>\n",
       "      <td>0</td>\n",
       "      <td>0</td>\n",
       "      <td>0</td>\n",
       "      <td>0</td>\n",
       "      <td>1</td>\n",
       "      <td>0</td>\n",
       "      <td>...</td>\n",
       "      <td>0</td>\n",
       "      <td>0</td>\n",
       "      <td>0</td>\n",
       "      <td>0</td>\n",
       "      <td>1</td>\n",
       "      <td>1</td>\n",
       "      <td>0</td>\n",
       "      <td>0</td>\n",
       "      <td>0</td>\n",
       "      <td>0</td>\n",
       "    </tr>\n",
       "  </tbody>\n",
       "</table>\n",
       "<p>6413 rows × 66 columns</p>\n",
       "</div>"
      ],
      "text/plain": [
       "      Q2_22-24  Q2_25-29  Q2_30-34  Q2_35-39  Q2_40-44  Q2_45-49  Q2_50-54  \\\n",
       "6024         0         1         0         0         0         0         0   \n",
       "7084         0         0         0         0         1         0         0   \n",
       "3007         0         0         0         0         1         0         0   \n",
       "234          0         0         1         0         0         0         0   \n",
       "6877         0         0         1         0         0         0         0   \n",
       "...        ...       ...       ...       ...       ...       ...       ...   \n",
       "5297         0         0         1         0         0         0         0   \n",
       "5466         0         0         0         0         0         1         0   \n",
       "869          0         0         0         0         0         0         0   \n",
       "7719         1         0         0         0         0         0         0   \n",
       "7377         1         0         0         0         0         0         0   \n",
       "\n",
       "      Q2_55-59  Q3_Man  Q3_Woman  ...  Q27_Unknown  \\\n",
       "6024         0       0         1  ...            0   \n",
       "7084         0       0         1  ...            0   \n",
       "3007         0       0         1  ...            0   \n",
       "234          0       1         0  ...            1   \n",
       "6877         0       1         0  ...            0   \n",
       "...        ...     ...       ...  ...          ...   \n",
       "5297         0       0         1  ...            0   \n",
       "5466         0       0         1  ...            0   \n",
       "869          0       1         0  ...            0   \n",
       "7719         0       1         0  ...            0   \n",
       "7377         0       1         0  ...            0   \n",
       "\n",
       "      Q27_We are exploring ML methods (and may one day put a model into production)  \\\n",
       "6024                                                  0                               \n",
       "7084                                                  0                               \n",
       "3007                                                  1                               \n",
       "234                                                   0                               \n",
       "6877                                                  0                               \n",
       "...                                                 ...                               \n",
       "5297                                                  0                               \n",
       "5466                                                  0                               \n",
       "869                                                   0                               \n",
       "7719                                                  0                               \n",
       "7377                                                  0                               \n",
       "\n",
       "      Q27_We have well established ML methods (i.e., models in production for more than 2 years)  \\\n",
       "6024                                                  0                                            \n",
       "7084                                                  0                                            \n",
       "3007                                                  0                                            \n",
       "234                                                   0                                            \n",
       "6877                                                  1                                            \n",
       "...                                                 ...                                            \n",
       "5297                                                  0                                            \n",
       "5466                                                  0                                            \n",
       "869                                                   0                                            \n",
       "7719                                                  0                                            \n",
       "7377                                                  0                                            \n",
       "\n",
       "      Q27_We recently started using ML methods (i.e., models in production for less than 2 years)  \\\n",
       "6024                                                  0                                             \n",
       "7084                                                  0                                             \n",
       "3007                                                  0                                             \n",
       "234                                                   0                                             \n",
       "6877                                                  0                                             \n",
       "...                                                 ...                                             \n",
       "5297                                                  0                                             \n",
       "5466                                                  0                                             \n",
       "869                                                   0                                             \n",
       "7719                                                  1                                             \n",
       "7377                                                  0                                             \n",
       "\n",
       "      Q27_We use ML methods for generating insights (but do not put working models into production)  \\\n",
       "6024                                                  1                                               \n",
       "7084                                                  0                                               \n",
       "3007                                                  0                                               \n",
       "234                                                   0                                               \n",
       "6877                                                  0                                               \n",
       "...                                                 ...                                               \n",
       "5297                                                  1                                               \n",
       "5466                                                  0                                               \n",
       "869                                                   1                                               \n",
       "7719                                                  0                                               \n",
       "7377                                                  1                                               \n",
       "\n",
       "      Q30_$0 ($USD)  Q30_$1-$99  Q30_$10,000-$99,999  Q30_$100-$999  \\\n",
       "6024              0           0                    0              1   \n",
       "7084              0           0                    0              0   \n",
       "3007              0           0                    0              1   \n",
       "234               1           0                    0              0   \n",
       "6877              0           1                    0              0   \n",
       "...             ...         ...                  ...            ...   \n",
       "5297              0           0                    0              1   \n",
       "5466              0           1                    0              0   \n",
       "869               0           0                    0              0   \n",
       "7719              0           0                    0              1   \n",
       "7377              1           0                    0              0   \n",
       "\n",
       "      Q30_$1000-$9,999  \n",
       "6024                 0  \n",
       "7084                 1  \n",
       "3007                 0  \n",
       "234                  0  \n",
       "6877                 0  \n",
       "...                ...  \n",
       "5297                 0  \n",
       "5466                 0  \n",
       "869                  1  \n",
       "7719                 0  \n",
       "7377                 0  \n",
       "\n",
       "[6413 rows x 66 columns]"
      ]
     },
     "execution_count": 44,
     "metadata": {},
     "output_type": "execute_result"
    }
   ],
   "source": [
    "X_train_new = X_train[np.array(selected_feat)]\n",
    "X_train_new"
   ]
  },
  {
   "cell_type": "markdown",
   "metadata": {
    "id": "RLFAR0k0-ork"
   },
   "source": [
    "## RFE for top 30 important features"
   ]
  },
  {
   "cell_type": "code",
   "execution_count": 45,
   "metadata": {
    "colab": {
     "base_uri": "https://localhost:8080/"
    },
    "id": "Mz5xVaYQ2ZaF",
    "outputId": "45fdc040-4df9-4538-8e2a-d009eedd5404"
   },
   "outputs": [
    {
     "data": {
      "text/plain": [
       "array([ True,  True, False, False, False, False,  True,  True, False,\n",
       "        True,  True, False,  True, False, False, False, False,  True,\n",
       "        True, False,  True, False,  True,  True,  True,  True, False,\n",
       "        True,  True, False, False, False,  True, False, False, False,\n",
       "        True, False, False,  True, False, False, False, False,  True,\n",
       "       False, False, False, False, False, False, False,  True, False,\n",
       "       False,  True,  True, False,  True,  True, False,  True,  True,\n",
       "        True,  True,  True])"
      ]
     },
     "execution_count": 45,
     "metadata": {},
     "output_type": "execute_result"
    }
   ],
   "source": [
    "# select top 30 importance features based on RFE\n",
    "estimator = SVR(kernel=\"linear\")\n",
    "selector = RFE(estimator, n_features_to_select=30, step=1)\n",
    "selector = selector.fit(X_train_new, y_train)\n",
    "selector.support_"
   ]
  },
  {
   "cell_type": "code",
   "execution_count": 46,
   "metadata": {
    "colab": {
     "base_uri": "https://localhost:8080/"
    },
    "id": "UO97KOOOtoX4",
    "outputId": "3b64bd0c-c866-4c83-b25b-7788cd517bff"
   },
   "outputs": [
    {
     "data": {
      "text/plain": [
       "Index(['Q2_22-24', 'Q2_25-29', 'Q2_50-54', 'Q2_55-59', 'Q3_Woman', 'Q4_India',\n",
       "       'Q4_United States of America', 'Q11_10-20 years', 'Q11_20+ years',\n",
       "       'Q11_5-10 years', 'Q16_1-2 years', 'Q16_2-3 years', 'Q16_3-4 years',\n",
       "       'Q16_4-5 years', 'Q16_I do not use machine learning methods',\n",
       "       'Q16_Under 1 year',\n",
       "       'Q23_Manager (Program, Project, Operations, Executive-level, etc)',\n",
       "       'Q24_Academics/Education', 'Q24_Government/Public Service',\n",
       "       'Q25_0-49 employees', 'Q26_20+', 'Q27_No (we do not use ML methods)',\n",
       "       'Q27_Unknown',\n",
       "       'Q27_We have well established ML methods (i.e., models in production for more than 2 years)',\n",
       "       'Q27_We recently started using ML methods (i.e., models in production for less than 2 years)',\n",
       "       'Q30_$0 ($USD)', 'Q30_$1-$99', 'Q30_$10,000-$99,999', 'Q30_$100-$999',\n",
       "       'Q30_$1000-$9,999'],\n",
       "      dtype='object')"
      ]
     },
     "execution_count": 46,
     "metadata": {},
     "output_type": "execute_result"
    }
   ],
   "source": [
    "selected_feat = X_train_new.columns[(selector.support_)]\n",
    "selected_feat"
   ]
  },
  {
   "cell_type": "code",
   "execution_count": 47,
   "metadata": {
    "colab": {
     "base_uri": "https://localhost:8080/",
     "height": 661
    },
    "id": "3JXAIux_4XP0",
    "outputId": "28aef8ba-ad1a-4259-fdef-f290672912b7"
   },
   "outputs": [
    {
     "data": {
      "text/html": [
       "<div>\n",
       "<style scoped>\n",
       "    .dataframe tbody tr th:only-of-type {\n",
       "        vertical-align: middle;\n",
       "    }\n",
       "\n",
       "    .dataframe tbody tr th {\n",
       "        vertical-align: top;\n",
       "    }\n",
       "\n",
       "    .dataframe thead th {\n",
       "        text-align: right;\n",
       "    }\n",
       "</style>\n",
       "<table border=\"1\" class=\"dataframe\">\n",
       "  <thead>\n",
       "    <tr style=\"text-align: right;\">\n",
       "      <th></th>\n",
       "      <th>Q2_22-24</th>\n",
       "      <th>Q2_25-29</th>\n",
       "      <th>Q2_50-54</th>\n",
       "      <th>Q2_55-59</th>\n",
       "      <th>Q3_Woman</th>\n",
       "      <th>Q4_India</th>\n",
       "      <th>Q4_United States of America</th>\n",
       "      <th>Q11_10-20 years</th>\n",
       "      <th>Q11_20+ years</th>\n",
       "      <th>Q11_5-10 years</th>\n",
       "      <th>...</th>\n",
       "      <th>Q26_20+</th>\n",
       "      <th>Q27_No (we do not use ML methods)</th>\n",
       "      <th>Q27_Unknown</th>\n",
       "      <th>Q27_We have well established ML methods (i.e., models in production for more than 2 years)</th>\n",
       "      <th>Q27_We recently started using ML methods (i.e., models in production for less than 2 years)</th>\n",
       "      <th>Q30_$0 ($USD)</th>\n",
       "      <th>Q30_$1-$99</th>\n",
       "      <th>Q30_$10,000-$99,999</th>\n",
       "      <th>Q30_$100-$999</th>\n",
       "      <th>Q30_$1000-$9,999</th>\n",
       "    </tr>\n",
       "  </thead>\n",
       "  <tbody>\n",
       "    <tr>\n",
       "      <th>6024</th>\n",
       "      <td>0</td>\n",
       "      <td>1</td>\n",
       "      <td>0</td>\n",
       "      <td>0</td>\n",
       "      <td>1</td>\n",
       "      <td>1</td>\n",
       "      <td>0</td>\n",
       "      <td>0</td>\n",
       "      <td>0</td>\n",
       "      <td>0</td>\n",
       "      <td>...</td>\n",
       "      <td>0</td>\n",
       "      <td>0</td>\n",
       "      <td>0</td>\n",
       "      <td>0</td>\n",
       "      <td>0</td>\n",
       "      <td>0</td>\n",
       "      <td>0</td>\n",
       "      <td>0</td>\n",
       "      <td>1</td>\n",
       "      <td>0</td>\n",
       "    </tr>\n",
       "    <tr>\n",
       "      <th>7084</th>\n",
       "      <td>0</td>\n",
       "      <td>0</td>\n",
       "      <td>0</td>\n",
       "      <td>0</td>\n",
       "      <td>1</td>\n",
       "      <td>0</td>\n",
       "      <td>0</td>\n",
       "      <td>1</td>\n",
       "      <td>0</td>\n",
       "      <td>0</td>\n",
       "      <td>...</td>\n",
       "      <td>1</td>\n",
       "      <td>1</td>\n",
       "      <td>0</td>\n",
       "      <td>0</td>\n",
       "      <td>0</td>\n",
       "      <td>0</td>\n",
       "      <td>0</td>\n",
       "      <td>0</td>\n",
       "      <td>0</td>\n",
       "      <td>1</td>\n",
       "    </tr>\n",
       "    <tr>\n",
       "      <th>3007</th>\n",
       "      <td>0</td>\n",
       "      <td>0</td>\n",
       "      <td>0</td>\n",
       "      <td>0</td>\n",
       "      <td>1</td>\n",
       "      <td>0</td>\n",
       "      <td>0</td>\n",
       "      <td>0</td>\n",
       "      <td>1</td>\n",
       "      <td>0</td>\n",
       "      <td>...</td>\n",
       "      <td>1</td>\n",
       "      <td>0</td>\n",
       "      <td>0</td>\n",
       "      <td>0</td>\n",
       "      <td>0</td>\n",
       "      <td>0</td>\n",
       "      <td>0</td>\n",
       "      <td>0</td>\n",
       "      <td>1</td>\n",
       "      <td>0</td>\n",
       "    </tr>\n",
       "    <tr>\n",
       "      <th>234</th>\n",
       "      <td>0</td>\n",
       "      <td>0</td>\n",
       "      <td>0</td>\n",
       "      <td>0</td>\n",
       "      <td>0</td>\n",
       "      <td>1</td>\n",
       "      <td>0</td>\n",
       "      <td>1</td>\n",
       "      <td>0</td>\n",
       "      <td>0</td>\n",
       "      <td>...</td>\n",
       "      <td>0</td>\n",
       "      <td>0</td>\n",
       "      <td>1</td>\n",
       "      <td>0</td>\n",
       "      <td>0</td>\n",
       "      <td>1</td>\n",
       "      <td>0</td>\n",
       "      <td>0</td>\n",
       "      <td>0</td>\n",
       "      <td>0</td>\n",
       "    </tr>\n",
       "    <tr>\n",
       "      <th>6877</th>\n",
       "      <td>0</td>\n",
       "      <td>0</td>\n",
       "      <td>0</td>\n",
       "      <td>0</td>\n",
       "      <td>0</td>\n",
       "      <td>1</td>\n",
       "      <td>0</td>\n",
       "      <td>0</td>\n",
       "      <td>0</td>\n",
       "      <td>0</td>\n",
       "      <td>...</td>\n",
       "      <td>0</td>\n",
       "      <td>0</td>\n",
       "      <td>0</td>\n",
       "      <td>1</td>\n",
       "      <td>0</td>\n",
       "      <td>0</td>\n",
       "      <td>1</td>\n",
       "      <td>0</td>\n",
       "      <td>0</td>\n",
       "      <td>0</td>\n",
       "    </tr>\n",
       "    <tr>\n",
       "      <th>...</th>\n",
       "      <td>...</td>\n",
       "      <td>...</td>\n",
       "      <td>...</td>\n",
       "      <td>...</td>\n",
       "      <td>...</td>\n",
       "      <td>...</td>\n",
       "      <td>...</td>\n",
       "      <td>...</td>\n",
       "      <td>...</td>\n",
       "      <td>...</td>\n",
       "      <td>...</td>\n",
       "      <td>...</td>\n",
       "      <td>...</td>\n",
       "      <td>...</td>\n",
       "      <td>...</td>\n",
       "      <td>...</td>\n",
       "      <td>...</td>\n",
       "      <td>...</td>\n",
       "      <td>...</td>\n",
       "      <td>...</td>\n",
       "      <td>...</td>\n",
       "    </tr>\n",
       "    <tr>\n",
       "      <th>5297</th>\n",
       "      <td>0</td>\n",
       "      <td>0</td>\n",
       "      <td>0</td>\n",
       "      <td>0</td>\n",
       "      <td>1</td>\n",
       "      <td>0</td>\n",
       "      <td>1</td>\n",
       "      <td>0</td>\n",
       "      <td>0</td>\n",
       "      <td>0</td>\n",
       "      <td>...</td>\n",
       "      <td>0</td>\n",
       "      <td>0</td>\n",
       "      <td>0</td>\n",
       "      <td>0</td>\n",
       "      <td>0</td>\n",
       "      <td>0</td>\n",
       "      <td>0</td>\n",
       "      <td>0</td>\n",
       "      <td>1</td>\n",
       "      <td>0</td>\n",
       "    </tr>\n",
       "    <tr>\n",
       "      <th>5466</th>\n",
       "      <td>0</td>\n",
       "      <td>0</td>\n",
       "      <td>0</td>\n",
       "      <td>0</td>\n",
       "      <td>1</td>\n",
       "      <td>0</td>\n",
       "      <td>1</td>\n",
       "      <td>0</td>\n",
       "      <td>0</td>\n",
       "      <td>0</td>\n",
       "      <td>...</td>\n",
       "      <td>1</td>\n",
       "      <td>1</td>\n",
       "      <td>0</td>\n",
       "      <td>0</td>\n",
       "      <td>0</td>\n",
       "      <td>0</td>\n",
       "      <td>1</td>\n",
       "      <td>0</td>\n",
       "      <td>0</td>\n",
       "      <td>0</td>\n",
       "    </tr>\n",
       "    <tr>\n",
       "      <th>869</th>\n",
       "      <td>0</td>\n",
       "      <td>0</td>\n",
       "      <td>0</td>\n",
       "      <td>0</td>\n",
       "      <td>0</td>\n",
       "      <td>0</td>\n",
       "      <td>0</td>\n",
       "      <td>0</td>\n",
       "      <td>0</td>\n",
       "      <td>1</td>\n",
       "      <td>...</td>\n",
       "      <td>0</td>\n",
       "      <td>0</td>\n",
       "      <td>0</td>\n",
       "      <td>0</td>\n",
       "      <td>0</td>\n",
       "      <td>0</td>\n",
       "      <td>0</td>\n",
       "      <td>0</td>\n",
       "      <td>0</td>\n",
       "      <td>1</td>\n",
       "    </tr>\n",
       "    <tr>\n",
       "      <th>7719</th>\n",
       "      <td>1</td>\n",
       "      <td>0</td>\n",
       "      <td>0</td>\n",
       "      <td>0</td>\n",
       "      <td>0</td>\n",
       "      <td>1</td>\n",
       "      <td>0</td>\n",
       "      <td>0</td>\n",
       "      <td>0</td>\n",
       "      <td>1</td>\n",
       "      <td>...</td>\n",
       "      <td>1</td>\n",
       "      <td>0</td>\n",
       "      <td>0</td>\n",
       "      <td>0</td>\n",
       "      <td>1</td>\n",
       "      <td>0</td>\n",
       "      <td>0</td>\n",
       "      <td>0</td>\n",
       "      <td>1</td>\n",
       "      <td>0</td>\n",
       "    </tr>\n",
       "    <tr>\n",
       "      <th>7377</th>\n",
       "      <td>1</td>\n",
       "      <td>0</td>\n",
       "      <td>0</td>\n",
       "      <td>0</td>\n",
       "      <td>0</td>\n",
       "      <td>1</td>\n",
       "      <td>0</td>\n",
       "      <td>0</td>\n",
       "      <td>0</td>\n",
       "      <td>0</td>\n",
       "      <td>...</td>\n",
       "      <td>0</td>\n",
       "      <td>0</td>\n",
       "      <td>0</td>\n",
       "      <td>0</td>\n",
       "      <td>0</td>\n",
       "      <td>1</td>\n",
       "      <td>0</td>\n",
       "      <td>0</td>\n",
       "      <td>0</td>\n",
       "      <td>0</td>\n",
       "    </tr>\n",
       "  </tbody>\n",
       "</table>\n",
       "<p>6413 rows × 30 columns</p>\n",
       "</div>"
      ],
      "text/plain": [
       "      Q2_22-24  Q2_25-29  Q2_50-54  Q2_55-59  Q3_Woman  Q4_India  \\\n",
       "6024         0         1         0         0         1         1   \n",
       "7084         0         0         0         0         1         0   \n",
       "3007         0         0         0         0         1         0   \n",
       "234          0         0         0         0         0         1   \n",
       "6877         0         0         0         0         0         1   \n",
       "...        ...       ...       ...       ...       ...       ...   \n",
       "5297         0         0         0         0         1         0   \n",
       "5466         0         0         0         0         1         0   \n",
       "869          0         0         0         0         0         0   \n",
       "7719         1         0         0         0         0         1   \n",
       "7377         1         0         0         0         0         1   \n",
       "\n",
       "      Q4_United States of America  Q11_10-20 years  Q11_20+ years  \\\n",
       "6024                            0                0              0   \n",
       "7084                            0                1              0   \n",
       "3007                            0                0              1   \n",
       "234                             0                1              0   \n",
       "6877                            0                0              0   \n",
       "...                           ...              ...            ...   \n",
       "5297                            1                0              0   \n",
       "5466                            1                0              0   \n",
       "869                             0                0              0   \n",
       "7719                            0                0              0   \n",
       "7377                            0                0              0   \n",
       "\n",
       "      Q11_5-10 years  ...  Q26_20+  Q27_No (we do not use ML methods)  \\\n",
       "6024               0  ...        0                                  0   \n",
       "7084               0  ...        1                                  1   \n",
       "3007               0  ...        1                                  0   \n",
       "234                0  ...        0                                  0   \n",
       "6877               0  ...        0                                  0   \n",
       "...              ...  ...      ...                                ...   \n",
       "5297               0  ...        0                                  0   \n",
       "5466               0  ...        1                                  1   \n",
       "869                1  ...        0                                  0   \n",
       "7719               1  ...        1                                  0   \n",
       "7377               0  ...        0                                  0   \n",
       "\n",
       "      Q27_Unknown  \\\n",
       "6024            0   \n",
       "7084            0   \n",
       "3007            0   \n",
       "234             1   \n",
       "6877            0   \n",
       "...           ...   \n",
       "5297            0   \n",
       "5466            0   \n",
       "869             0   \n",
       "7719            0   \n",
       "7377            0   \n",
       "\n",
       "      Q27_We have well established ML methods (i.e., models in production for more than 2 years)  \\\n",
       "6024                                                  0                                            \n",
       "7084                                                  0                                            \n",
       "3007                                                  0                                            \n",
       "234                                                   0                                            \n",
       "6877                                                  1                                            \n",
       "...                                                 ...                                            \n",
       "5297                                                  0                                            \n",
       "5466                                                  0                                            \n",
       "869                                                   0                                            \n",
       "7719                                                  0                                            \n",
       "7377                                                  0                                            \n",
       "\n",
       "      Q27_We recently started using ML methods (i.e., models in production for less than 2 years)  \\\n",
       "6024                                                  0                                             \n",
       "7084                                                  0                                             \n",
       "3007                                                  0                                             \n",
       "234                                                   0                                             \n",
       "6877                                                  0                                             \n",
       "...                                                 ...                                             \n",
       "5297                                                  0                                             \n",
       "5466                                                  0                                             \n",
       "869                                                   0                                             \n",
       "7719                                                  1                                             \n",
       "7377                                                  0                                             \n",
       "\n",
       "      Q30_$0 ($USD)  Q30_$1-$99  Q30_$10,000-$99,999  Q30_$100-$999  \\\n",
       "6024              0           0                    0              1   \n",
       "7084              0           0                    0              0   \n",
       "3007              0           0                    0              1   \n",
       "234               1           0                    0              0   \n",
       "6877              0           1                    0              0   \n",
       "...             ...         ...                  ...            ...   \n",
       "5297              0           0                    0              1   \n",
       "5466              0           1                    0              0   \n",
       "869               0           0                    0              0   \n",
       "7719              0           0                    0              1   \n",
       "7377              1           0                    0              0   \n",
       "\n",
       "      Q30_$1000-$9,999  \n",
       "6024                 0  \n",
       "7084                 1  \n",
       "3007                 0  \n",
       "234                  0  \n",
       "6877                 0  \n",
       "...                ...  \n",
       "5297                 0  \n",
       "5466                 0  \n",
       "869                  1  \n",
       "7719                 0  \n",
       "7377                 0  \n",
       "\n",
       "[6413 rows x 30 columns]"
      ]
     },
     "execution_count": 47,
     "metadata": {},
     "output_type": "execute_result"
    }
   ],
   "source": [
    "X_train_new = X_train[np.array(selected_feat)]\n",
    "X_train_new"
   ]
  },
  {
   "cell_type": "markdown",
   "metadata": {
    "id": "CR-GND3A-1fD"
   },
   "source": [
    " ## Model implementation"
   ]
  },
  {
   "cell_type": "code",
   "execution_count": 48,
   "metadata": {
    "colab": {
     "base_uri": "https://localhost:8080/",
     "height": 661
    },
    "id": "dohYdOYhFYjB",
    "outputId": "62621263-8725-4504-f7fd-d6277c3f6827"
   },
   "outputs": [
    {
     "data": {
      "text/html": [
       "<div>\n",
       "<style scoped>\n",
       "    .dataframe tbody tr th:only-of-type {\n",
       "        vertical-align: middle;\n",
       "    }\n",
       "\n",
       "    .dataframe tbody tr th {\n",
       "        vertical-align: top;\n",
       "    }\n",
       "\n",
       "    .dataframe thead th {\n",
       "        text-align: right;\n",
       "    }\n",
       "</style>\n",
       "<table border=\"1\" class=\"dataframe\">\n",
       "  <thead>\n",
       "    <tr style=\"text-align: right;\">\n",
       "      <th></th>\n",
       "      <th>Q2_22-24</th>\n",
       "      <th>Q2_25-29</th>\n",
       "      <th>Q2_50-54</th>\n",
       "      <th>Q2_55-59</th>\n",
       "      <th>Q3_Woman</th>\n",
       "      <th>Q4_India</th>\n",
       "      <th>Q4_United States of America</th>\n",
       "      <th>Q11_10-20 years</th>\n",
       "      <th>Q11_20+ years</th>\n",
       "      <th>Q11_5-10 years</th>\n",
       "      <th>...</th>\n",
       "      <th>Q26_20+</th>\n",
       "      <th>Q27_No (we do not use ML methods)</th>\n",
       "      <th>Q27_Unknown</th>\n",
       "      <th>Q27_We have well established ML methods (i.e., models in production for more than 2 years)</th>\n",
       "      <th>Q27_We recently started using ML methods (i.e., models in production for less than 2 years)</th>\n",
       "      <th>Q30_$0 ($USD)</th>\n",
       "      <th>Q30_$1-$99</th>\n",
       "      <th>Q30_$10,000-$99,999</th>\n",
       "      <th>Q30_$100-$999</th>\n",
       "      <th>Q30_$1000-$9,999</th>\n",
       "    </tr>\n",
       "  </thead>\n",
       "  <tbody>\n",
       "    <tr>\n",
       "      <th>7118</th>\n",
       "      <td>0</td>\n",
       "      <td>1</td>\n",
       "      <td>0</td>\n",
       "      <td>0</td>\n",
       "      <td>0</td>\n",
       "      <td>0</td>\n",
       "      <td>0</td>\n",
       "      <td>0</td>\n",
       "      <td>0</td>\n",
       "      <td>0</td>\n",
       "      <td>...</td>\n",
       "      <td>0</td>\n",
       "      <td>0</td>\n",
       "      <td>0</td>\n",
       "      <td>0</td>\n",
       "      <td>0</td>\n",
       "      <td>0</td>\n",
       "      <td>1</td>\n",
       "      <td>0</td>\n",
       "      <td>0</td>\n",
       "      <td>0</td>\n",
       "    </tr>\n",
       "    <tr>\n",
       "      <th>323</th>\n",
       "      <td>1</td>\n",
       "      <td>0</td>\n",
       "      <td>0</td>\n",
       "      <td>0</td>\n",
       "      <td>0</td>\n",
       "      <td>0</td>\n",
       "      <td>0</td>\n",
       "      <td>0</td>\n",
       "      <td>0</td>\n",
       "      <td>0</td>\n",
       "      <td>...</td>\n",
       "      <td>1</td>\n",
       "      <td>0</td>\n",
       "      <td>0</td>\n",
       "      <td>1</td>\n",
       "      <td>0</td>\n",
       "      <td>0</td>\n",
       "      <td>0</td>\n",
       "      <td>0</td>\n",
       "      <td>0</td>\n",
       "      <td>1</td>\n",
       "    </tr>\n",
       "    <tr>\n",
       "      <th>2729</th>\n",
       "      <td>0</td>\n",
       "      <td>0</td>\n",
       "      <td>0</td>\n",
       "      <td>0</td>\n",
       "      <td>0</td>\n",
       "      <td>0</td>\n",
       "      <td>0</td>\n",
       "      <td>1</td>\n",
       "      <td>0</td>\n",
       "      <td>0</td>\n",
       "      <td>...</td>\n",
       "      <td>0</td>\n",
       "      <td>0</td>\n",
       "      <td>0</td>\n",
       "      <td>0</td>\n",
       "      <td>0</td>\n",
       "      <td>0</td>\n",
       "      <td>0</td>\n",
       "      <td>0</td>\n",
       "      <td>1</td>\n",
       "      <td>0</td>\n",
       "    </tr>\n",
       "    <tr>\n",
       "      <th>6419</th>\n",
       "      <td>0</td>\n",
       "      <td>0</td>\n",
       "      <td>0</td>\n",
       "      <td>0</td>\n",
       "      <td>1</td>\n",
       "      <td>0</td>\n",
       "      <td>1</td>\n",
       "      <td>0</td>\n",
       "      <td>0</td>\n",
       "      <td>0</td>\n",
       "      <td>...</td>\n",
       "      <td>0</td>\n",
       "      <td>1</td>\n",
       "      <td>0</td>\n",
       "      <td>0</td>\n",
       "      <td>0</td>\n",
       "      <td>1</td>\n",
       "      <td>0</td>\n",
       "      <td>0</td>\n",
       "      <td>0</td>\n",
       "      <td>0</td>\n",
       "    </tr>\n",
       "    <tr>\n",
       "      <th>6689</th>\n",
       "      <td>0</td>\n",
       "      <td>0</td>\n",
       "      <td>0</td>\n",
       "      <td>0</td>\n",
       "      <td>0</td>\n",
       "      <td>0</td>\n",
       "      <td>0</td>\n",
       "      <td>0</td>\n",
       "      <td>0</td>\n",
       "      <td>0</td>\n",
       "      <td>...</td>\n",
       "      <td>0</td>\n",
       "      <td>0</td>\n",
       "      <td>0</td>\n",
       "      <td>1</td>\n",
       "      <td>0</td>\n",
       "      <td>1</td>\n",
       "      <td>0</td>\n",
       "      <td>0</td>\n",
       "      <td>0</td>\n",
       "      <td>0</td>\n",
       "    </tr>\n",
       "    <tr>\n",
       "      <th>...</th>\n",
       "      <td>...</td>\n",
       "      <td>...</td>\n",
       "      <td>...</td>\n",
       "      <td>...</td>\n",
       "      <td>...</td>\n",
       "      <td>...</td>\n",
       "      <td>...</td>\n",
       "      <td>...</td>\n",
       "      <td>...</td>\n",
       "      <td>...</td>\n",
       "      <td>...</td>\n",
       "      <td>...</td>\n",
       "      <td>...</td>\n",
       "      <td>...</td>\n",
       "      <td>...</td>\n",
       "      <td>...</td>\n",
       "      <td>...</td>\n",
       "      <td>...</td>\n",
       "      <td>...</td>\n",
       "      <td>...</td>\n",
       "      <td>...</td>\n",
       "    </tr>\n",
       "    <tr>\n",
       "      <th>2981</th>\n",
       "      <td>1</td>\n",
       "      <td>0</td>\n",
       "      <td>0</td>\n",
       "      <td>0</td>\n",
       "      <td>0</td>\n",
       "      <td>0</td>\n",
       "      <td>0</td>\n",
       "      <td>0</td>\n",
       "      <td>0</td>\n",
       "      <td>0</td>\n",
       "      <td>...</td>\n",
       "      <td>0</td>\n",
       "      <td>0</td>\n",
       "      <td>0</td>\n",
       "      <td>0</td>\n",
       "      <td>0</td>\n",
       "      <td>0</td>\n",
       "      <td>1</td>\n",
       "      <td>0</td>\n",
       "      <td>0</td>\n",
       "      <td>0</td>\n",
       "    </tr>\n",
       "    <tr>\n",
       "      <th>2442</th>\n",
       "      <td>1</td>\n",
       "      <td>0</td>\n",
       "      <td>0</td>\n",
       "      <td>0</td>\n",
       "      <td>0</td>\n",
       "      <td>0</td>\n",
       "      <td>0</td>\n",
       "      <td>0</td>\n",
       "      <td>0</td>\n",
       "      <td>0</td>\n",
       "      <td>...</td>\n",
       "      <td>1</td>\n",
       "      <td>0</td>\n",
       "      <td>0</td>\n",
       "      <td>0</td>\n",
       "      <td>1</td>\n",
       "      <td>0</td>\n",
       "      <td>1</td>\n",
       "      <td>0</td>\n",
       "      <td>0</td>\n",
       "      <td>0</td>\n",
       "    </tr>\n",
       "    <tr>\n",
       "      <th>6291</th>\n",
       "      <td>0</td>\n",
       "      <td>0</td>\n",
       "      <td>0</td>\n",
       "      <td>0</td>\n",
       "      <td>0</td>\n",
       "      <td>0</td>\n",
       "      <td>0</td>\n",
       "      <td>0</td>\n",
       "      <td>1</td>\n",
       "      <td>0</td>\n",
       "      <td>...</td>\n",
       "      <td>1</td>\n",
       "      <td>0</td>\n",
       "      <td>0</td>\n",
       "      <td>1</td>\n",
       "      <td>0</td>\n",
       "      <td>0</td>\n",
       "      <td>0</td>\n",
       "      <td>0</td>\n",
       "      <td>0</td>\n",
       "      <td>1</td>\n",
       "    </tr>\n",
       "    <tr>\n",
       "      <th>4436</th>\n",
       "      <td>0</td>\n",
       "      <td>0</td>\n",
       "      <td>0</td>\n",
       "      <td>0</td>\n",
       "      <td>0</td>\n",
       "      <td>0</td>\n",
       "      <td>0</td>\n",
       "      <td>1</td>\n",
       "      <td>0</td>\n",
       "      <td>0</td>\n",
       "      <td>...</td>\n",
       "      <td>0</td>\n",
       "      <td>0</td>\n",
       "      <td>0</td>\n",
       "      <td>1</td>\n",
       "      <td>0</td>\n",
       "      <td>1</td>\n",
       "      <td>0</td>\n",
       "      <td>0</td>\n",
       "      <td>0</td>\n",
       "      <td>0</td>\n",
       "    </tr>\n",
       "    <tr>\n",
       "      <th>2720</th>\n",
       "      <td>0</td>\n",
       "      <td>1</td>\n",
       "      <td>0</td>\n",
       "      <td>0</td>\n",
       "      <td>1</td>\n",
       "      <td>1</td>\n",
       "      <td>0</td>\n",
       "      <td>0</td>\n",
       "      <td>0</td>\n",
       "      <td>0</td>\n",
       "      <td>...</td>\n",
       "      <td>0</td>\n",
       "      <td>0</td>\n",
       "      <td>0</td>\n",
       "      <td>1</td>\n",
       "      <td>0</td>\n",
       "      <td>0</td>\n",
       "      <td>0</td>\n",
       "      <td>0</td>\n",
       "      <td>0</td>\n",
       "      <td>1</td>\n",
       "    </tr>\n",
       "  </tbody>\n",
       "</table>\n",
       "<p>1604 rows × 30 columns</p>\n",
       "</div>"
      ],
      "text/plain": [
       "      Q2_22-24  Q2_25-29  Q2_50-54  Q2_55-59  Q3_Woman  Q4_India  \\\n",
       "7118         0         1         0         0         0         0   \n",
       "323          1         0         0         0         0         0   \n",
       "2729         0         0         0         0         0         0   \n",
       "6419         0         0         0         0         1         0   \n",
       "6689         0         0         0         0         0         0   \n",
       "...        ...       ...       ...       ...       ...       ...   \n",
       "2981         1         0         0         0         0         0   \n",
       "2442         1         0         0         0         0         0   \n",
       "6291         0         0         0         0         0         0   \n",
       "4436         0         0         0         0         0         0   \n",
       "2720         0         1         0         0         1         1   \n",
       "\n",
       "      Q4_United States of America  Q11_10-20 years  Q11_20+ years  \\\n",
       "7118                            0                0              0   \n",
       "323                             0                0              0   \n",
       "2729                            0                1              0   \n",
       "6419                            1                0              0   \n",
       "6689                            0                0              0   \n",
       "...                           ...              ...            ...   \n",
       "2981                            0                0              0   \n",
       "2442                            0                0              0   \n",
       "6291                            0                0              1   \n",
       "4436                            0                1              0   \n",
       "2720                            0                0              0   \n",
       "\n",
       "      Q11_5-10 years  ...  Q26_20+  Q27_No (we do not use ML methods)  \\\n",
       "7118               0  ...        0                                  0   \n",
       "323                0  ...        1                                  0   \n",
       "2729               0  ...        0                                  0   \n",
       "6419               0  ...        0                                  1   \n",
       "6689               0  ...        0                                  0   \n",
       "...              ...  ...      ...                                ...   \n",
       "2981               0  ...        0                                  0   \n",
       "2442               0  ...        1                                  0   \n",
       "6291               0  ...        1                                  0   \n",
       "4436               0  ...        0                                  0   \n",
       "2720               0  ...        0                                  0   \n",
       "\n",
       "      Q27_Unknown  \\\n",
       "7118            0   \n",
       "323             0   \n",
       "2729            0   \n",
       "6419            0   \n",
       "6689            0   \n",
       "...           ...   \n",
       "2981            0   \n",
       "2442            0   \n",
       "6291            0   \n",
       "4436            0   \n",
       "2720            0   \n",
       "\n",
       "      Q27_We have well established ML methods (i.e., models in production for more than 2 years)  \\\n",
       "7118                                                  0                                            \n",
       "323                                                   1                                            \n",
       "2729                                                  0                                            \n",
       "6419                                                  0                                            \n",
       "6689                                                  1                                            \n",
       "...                                                 ...                                            \n",
       "2981                                                  0                                            \n",
       "2442                                                  0                                            \n",
       "6291                                                  1                                            \n",
       "4436                                                  1                                            \n",
       "2720                                                  1                                            \n",
       "\n",
       "      Q27_We recently started using ML methods (i.e., models in production for less than 2 years)  \\\n",
       "7118                                                  0                                             \n",
       "323                                                   0                                             \n",
       "2729                                                  0                                             \n",
       "6419                                                  0                                             \n",
       "6689                                                  0                                             \n",
       "...                                                 ...                                             \n",
       "2981                                                  0                                             \n",
       "2442                                                  1                                             \n",
       "6291                                                  0                                             \n",
       "4436                                                  0                                             \n",
       "2720                                                  0                                             \n",
       "\n",
       "      Q30_$0 ($USD)  Q30_$1-$99  Q30_$10,000-$99,999  Q30_$100-$999  \\\n",
       "7118              0           1                    0              0   \n",
       "323               0           0                    0              0   \n",
       "2729              0           0                    0              1   \n",
       "6419              1           0                    0              0   \n",
       "6689              1           0                    0              0   \n",
       "...             ...         ...                  ...            ...   \n",
       "2981              0           1                    0              0   \n",
       "2442              0           1                    0              0   \n",
       "6291              0           0                    0              0   \n",
       "4436              1           0                    0              0   \n",
       "2720              0           0                    0              0   \n",
       "\n",
       "      Q30_$1000-$9,999  \n",
       "7118                 0  \n",
       "323                  1  \n",
       "2729                 0  \n",
       "6419                 0  \n",
       "6689                 0  \n",
       "...                ...  \n",
       "2981                 0  \n",
       "2442                 0  \n",
       "6291                 1  \n",
       "4436                 0  \n",
       "2720                 1  \n",
       "\n",
       "[1604 rows x 30 columns]"
      ]
     },
     "execution_count": 48,
     "metadata": {},
     "output_type": "execute_result"
    }
   ],
   "source": [
    "# compute test set after feature selection\n",
    "X_test_new = X_test[np.array(selected_feat)]\n",
    "X_test_new"
   ]
  },
  {
   "cell_type": "code",
   "execution_count": 49,
   "metadata": {
    "colab": {
     "base_uri": "https://localhost:8080/"
    },
    "id": "JOFTTEPnLB6n",
    "outputId": "b692bffa-6ce6-49e4-ed77-f2750cb228cf"
   },
   "outputs": [
    {
     "data": {
      "text/plain": [
       "array([ 0.,  5.,  4.,  2., 10., 11., 12.,  1.,  3.,  7., 14., 13.,  6.,\n",
       "        8.,  9.])"
      ]
     },
     "execution_count": 49,
     "metadata": {},
     "output_type": "execute_result"
    }
   ],
   "source": [
    "# check categorical buckets in the training target class\n",
    "y_train.unique()"
   ]
  },
  {
   "cell_type": "code",
   "execution_count": 50,
   "metadata": {
    "colab": {
     "base_uri": "https://localhost:8080/",
     "height": 473
    },
    "id": "KJXOG63WOPTh",
    "outputId": "7fbde2ec-ba59-456d-9f00-d388d734af93"
   },
   "outputs": [
    {
     "data": {
      "text/html": [
       "<div>\n",
       "<style scoped>\n",
       "    .dataframe tbody tr th:only-of-type {\n",
       "        vertical-align: middle;\n",
       "    }\n",
       "\n",
       "    .dataframe tbody tr th {\n",
       "        vertical-align: top;\n",
       "    }\n",
       "\n",
       "    .dataframe thead th {\n",
       "        text-align: right;\n",
       "    }\n",
       "</style>\n",
       "<table border=\"1\" class=\"dataframe\">\n",
       "  <thead>\n",
       "    <tr style=\"text-align: right;\">\n",
       "      <th></th>\n",
       "      <th>Q2_22-24</th>\n",
       "      <th>Q2_25-29</th>\n",
       "      <th>Q2_50-54</th>\n",
       "      <th>Q2_55-59</th>\n",
       "      <th>Q3_Woman</th>\n",
       "      <th>Q4_India</th>\n",
       "      <th>Q4_United States of America</th>\n",
       "      <th>Q11_10-20 years</th>\n",
       "      <th>Q11_20+ years</th>\n",
       "      <th>Q11_5-10 years</th>\n",
       "      <th>...</th>\n",
       "      <th>Q27_No (we do not use ML methods)</th>\n",
       "      <th>Q27_Unknown</th>\n",
       "      <th>Q27_We have well established ML methods (i.e., models in production for more than 2 years)</th>\n",
       "      <th>Q27_We recently started using ML methods (i.e., models in production for less than 2 years)</th>\n",
       "      <th>Q30_$0 ($USD)</th>\n",
       "      <th>Q30_$1-$99</th>\n",
       "      <th>Q30_$10,000-$99,999</th>\n",
       "      <th>Q30_$100-$999</th>\n",
       "      <th>Q30_$1000-$9,999</th>\n",
       "      <th>Q29_Encoded</th>\n",
       "    </tr>\n",
       "  </thead>\n",
       "  <tbody>\n",
       "    <tr>\n",
       "      <th>1</th>\n",
       "      <td>0</td>\n",
       "      <td>0</td>\n",
       "      <td>0</td>\n",
       "      <td>1</td>\n",
       "      <td>0</td>\n",
       "      <td>0</td>\n",
       "      <td>0</td>\n",
       "      <td>1</td>\n",
       "      <td>0</td>\n",
       "      <td>0</td>\n",
       "      <td>...</td>\n",
       "      <td>0</td>\n",
       "      <td>0</td>\n",
       "      <td>0</td>\n",
       "      <td>1</td>\n",
       "      <td>0</td>\n",
       "      <td>0</td>\n",
       "      <td>0</td>\n",
       "      <td>0</td>\n",
       "      <td>1</td>\n",
       "      <td>2.0</td>\n",
       "    </tr>\n",
       "    <tr>\n",
       "      <th>2</th>\n",
       "      <td>0</td>\n",
       "      <td>0</td>\n",
       "      <td>0</td>\n",
       "      <td>0</td>\n",
       "      <td>0</td>\n",
       "      <td>0</td>\n",
       "      <td>0</td>\n",
       "      <td>1</td>\n",
       "      <td>0</td>\n",
       "      <td>0</td>\n",
       "      <td>...</td>\n",
       "      <td>0</td>\n",
       "      <td>0</td>\n",
       "      <td>1</td>\n",
       "      <td>0</td>\n",
       "      <td>1</td>\n",
       "      <td>0</td>\n",
       "      <td>0</td>\n",
       "      <td>0</td>\n",
       "      <td>0</td>\n",
       "      <td>10.0</td>\n",
       "    </tr>\n",
       "    <tr>\n",
       "      <th>3</th>\n",
       "      <td>0</td>\n",
       "      <td>0</td>\n",
       "      <td>0</td>\n",
       "      <td>0</td>\n",
       "      <td>0</td>\n",
       "      <td>0</td>\n",
       "      <td>0</td>\n",
       "      <td>0</td>\n",
       "      <td>1</td>\n",
       "      <td>0</td>\n",
       "      <td>...</td>\n",
       "      <td>0</td>\n",
       "      <td>0</td>\n",
       "      <td>0</td>\n",
       "      <td>1</td>\n",
       "      <td>0</td>\n",
       "      <td>0</td>\n",
       "      <td>0</td>\n",
       "      <td>1</td>\n",
       "      <td>0</td>\n",
       "      <td>10.0</td>\n",
       "    </tr>\n",
       "    <tr>\n",
       "      <th>4</th>\n",
       "      <td>0</td>\n",
       "      <td>0</td>\n",
       "      <td>0</td>\n",
       "      <td>0</td>\n",
       "      <td>0</td>\n",
       "      <td>0</td>\n",
       "      <td>1</td>\n",
       "      <td>1</td>\n",
       "      <td>0</td>\n",
       "      <td>0</td>\n",
       "      <td>...</td>\n",
       "      <td>0</td>\n",
       "      <td>0</td>\n",
       "      <td>1</td>\n",
       "      <td>0</td>\n",
       "      <td>0</td>\n",
       "      <td>0</td>\n",
       "      <td>0</td>\n",
       "      <td>1</td>\n",
       "      <td>0</td>\n",
       "      <td>13.0</td>\n",
       "    </tr>\n",
       "    <tr>\n",
       "      <th>5</th>\n",
       "      <td>0</td>\n",
       "      <td>0</td>\n",
       "      <td>0</td>\n",
       "      <td>0</td>\n",
       "      <td>0</td>\n",
       "      <td>0</td>\n",
       "      <td>1</td>\n",
       "      <td>1</td>\n",
       "      <td>0</td>\n",
       "      <td>0</td>\n",
       "      <td>...</td>\n",
       "      <td>0</td>\n",
       "      <td>0</td>\n",
       "      <td>1</td>\n",
       "      <td>0</td>\n",
       "      <td>0</td>\n",
       "      <td>0</td>\n",
       "      <td>0</td>\n",
       "      <td>0</td>\n",
       "      <td>0</td>\n",
       "      <td>13.0</td>\n",
       "    </tr>\n",
       "  </tbody>\n",
       "</table>\n",
       "<p>5 rows × 31 columns</p>\n",
       "</div>"
      ],
      "text/plain": [
       "   Q2_22-24  Q2_25-29  Q2_50-54  Q2_55-59  Q3_Woman  Q4_India  \\\n",
       "1         0         0         0         1         0         0   \n",
       "2         0         0         0         0         0         0   \n",
       "3         0         0         0         0         0         0   \n",
       "4         0         0         0         0         0         0   \n",
       "5         0         0         0         0         0         0   \n",
       "\n",
       "   Q4_United States of America  Q11_10-20 years  Q11_20+ years  \\\n",
       "1                            0                1              0   \n",
       "2                            0                1              0   \n",
       "3                            0                0              1   \n",
       "4                            1                1              0   \n",
       "5                            1                1              0   \n",
       "\n",
       "   Q11_5-10 years  ...  Q27_No (we do not use ML methods)  Q27_Unknown  \\\n",
       "1               0  ...                                  0            0   \n",
       "2               0  ...                                  0            0   \n",
       "3               0  ...                                  0            0   \n",
       "4               0  ...                                  0            0   \n",
       "5               0  ...                                  0            0   \n",
       "\n",
       "   Q27_We have well established ML methods (i.e., models in production for more than 2 years)  \\\n",
       "1                                                  0                                            \n",
       "2                                                  1                                            \n",
       "3                                                  0                                            \n",
       "4                                                  1                                            \n",
       "5                                                  1                                            \n",
       "\n",
       "   Q27_We recently started using ML methods (i.e., models in production for less than 2 years)  \\\n",
       "1                                                  1                                             \n",
       "2                                                  0                                             \n",
       "3                                                  1                                             \n",
       "4                                                  0                                             \n",
       "5                                                  0                                             \n",
       "\n",
       "   Q30_$0 ($USD)  Q30_$1-$99  Q30_$10,000-$99,999  Q30_$100-$999  \\\n",
       "1              0           0                    0              0   \n",
       "2              1           0                    0              0   \n",
       "3              0           0                    0              1   \n",
       "4              0           0                    0              1   \n",
       "5              0           0                    0              0   \n",
       "\n",
       "   Q30_$1000-$9,999  Q29_Encoded  \n",
       "1                 1          2.0  \n",
       "2                 0         10.0  \n",
       "3                 0         10.0  \n",
       "4                 0         13.0  \n",
       "5                 0         13.0  \n",
       "\n",
       "[5 rows x 31 columns]"
      ]
     },
     "execution_count": 50,
     "metadata": {},
     "output_type": "execute_result"
    }
   ],
   "source": [
    "df_new = df_onehot[np.array(selected_feat)]\n",
    "df_new['Q29_Encoded'] = df_onehot['Q29_Encoded']\n",
    "df_new.head()"
   ]
  },
  {
   "cell_type": "markdown",
   "metadata": {
    "id": "PiAh1_5S0A78"
   },
   "source": [
    "## Model01"
   ]
  },
  {
   "cell_type": "code",
   "execution_count": 51,
   "metadata": {
    "id": "VZaa8zdtyi_V"
   },
   "outputs": [],
   "source": [
    "y_1 = y_train.copy()\n",
    "count01=0\n",
    "for i in y_train.index:\n",
    "  if (y_train[i]>=1):\n",
    "    y_1[i] = 1\n",
    "  else:\n",
    "    y_1[i] = 0\n",
    "    count01=count01+1"
   ]
  },
  {
   "cell_type": "markdown",
   "metadata": {
    "id": "P5GwjJD2EKbB"
   },
   "source": [
    "## Model12"
   ]
  },
  {
   "cell_type": "code",
   "execution_count": 52,
   "metadata": {
    "id": "cdFI30tiY61R"
   },
   "outputs": [],
   "source": [
    "y_2 = y_train.copy()\n",
    "count12=0\n",
    "for i in y_train.index:\n",
    "  if (y_train[i]>=2):\n",
    "    y_2[i] = 1\n",
    "  else:\n",
    "    y_2[i] = 0\n",
    "    count12=count01+1"
   ]
  },
  {
   "cell_type": "markdown",
   "metadata": {
    "id": "6x08rHGhEOUA"
   },
   "source": [
    "## Model23"
   ]
  },
  {
   "cell_type": "code",
   "execution_count": 53,
   "metadata": {
    "id": "PAGgj3LVZUpq"
   },
   "outputs": [],
   "source": [
    "y_3 = y_train.copy()\n",
    "count23=0\n",
    "for i in y_train.index:\n",
    "  if (y_train[i]>=3):\n",
    "    y_3[i] = 1\n",
    "  else:\n",
    "    y_3[i] = 0\n",
    "    count23=count23+1"
   ]
  },
  {
   "cell_type": "markdown",
   "metadata": {
    "id": "Lr704uVNESFs"
   },
   "source": [
    "## Model34"
   ]
  },
  {
   "cell_type": "code",
   "execution_count": 54,
   "metadata": {
    "id": "dtG1dYPeZl1x"
   },
   "outputs": [],
   "source": [
    "y_4 = y_train.copy()\n",
    "count34=0\n",
    "for i in y_train.index:\n",
    "  if (y_train[i]>=4):\n",
    "    y_4[i] = 1\n",
    "  else:\n",
    "    y_4[i] = 0\n",
    "    count34=count34+1"
   ]
  },
  {
   "cell_type": "markdown",
   "metadata": {
    "id": "o2acq1qGEV8z"
   },
   "source": [
    "## Model45"
   ]
  },
  {
   "cell_type": "code",
   "execution_count": 55,
   "metadata": {
    "id": "tm-RDuB-abo2"
   },
   "outputs": [],
   "source": [
    "y_5 = y_train.copy()\n",
    "count45=0\n",
    "for i in y_train.index:\n",
    "  if (y_train[i]>=5):\n",
    "    y_5[i] = 1\n",
    "  else:\n",
    "    y_5[i] = 0\n",
    "    count45=count45+1"
   ]
  },
  {
   "cell_type": "markdown",
   "metadata": {
    "id": "MFpLrNB8EYJF"
   },
   "source": [
    "## Model56"
   ]
  },
  {
   "cell_type": "code",
   "execution_count": 56,
   "metadata": {
    "id": "CzyQgg-fammy"
   },
   "outputs": [],
   "source": [
    "y_6 = y_train.copy()\n",
    "count56=0\n",
    "for i in y_train.index:\n",
    "  if (y_train[i]>=6):\n",
    "    y_6[i] = 1\n",
    "  else:\n",
    "    y_6[i] = 0\n",
    "    count56=count56+1"
   ]
  },
  {
   "cell_type": "markdown",
   "metadata": {
    "id": "mC6bruPsEazh"
   },
   "source": [
    "## Model67"
   ]
  },
  {
   "cell_type": "code",
   "execution_count": 57,
   "metadata": {
    "id": "jcYtTnJua0io"
   },
   "outputs": [],
   "source": [
    "y_7 = y_train.copy()\n",
    "count67=0\n",
    "for i in y_train.index:\n",
    "  if (y_train[i]>=7):\n",
    "    y_7[i] = 1\n",
    "  else:\n",
    "    y_7[i] = 0\n",
    "    count67=count67+1"
   ]
  },
  {
   "cell_type": "markdown",
   "metadata": {
    "id": "kNaXp-abEjT0"
   },
   "source": [
    "## Model78"
   ]
  },
  {
   "cell_type": "code",
   "execution_count": 58,
   "metadata": {
    "id": "Vt8KzGxNa_BW"
   },
   "outputs": [],
   "source": [
    "y_8 = y_train.copy()\n",
    "count78=0\n",
    "for i in y_train.index:\n",
    "  if (y_train[i]>=8):\n",
    "    y_8[i] = 1\n",
    "  else:\n",
    "    y_8[i] = 0\n",
    "    count78=count78+1"
   ]
  },
  {
   "cell_type": "markdown",
   "metadata": {
    "id": "BPQrzgPOEk9a"
   },
   "source": [
    "## Model89"
   ]
  },
  {
   "cell_type": "code",
   "execution_count": 59,
   "metadata": {
    "id": "D4-yY3DebLgl"
   },
   "outputs": [],
   "source": [
    "y_9 = y_train.copy()\n",
    "count89=0\n",
    "for i in y_train.index:\n",
    "  if (y_train[i]>=9):\n",
    "    y_9[i] = 1\n",
    "  else:\n",
    "    y_9[i] = 0\n",
    "    count89=count89+1"
   ]
  },
  {
   "cell_type": "markdown",
   "metadata": {
    "id": "c6y4svirEmi-"
   },
   "source": [
    "## Model910"
   ]
  },
  {
   "cell_type": "code",
   "execution_count": 60,
   "metadata": {
    "id": "LVKpeWb1bT6I"
   },
   "outputs": [],
   "source": [
    "y_10 = y_train.copy()\n",
    "count910=0\n",
    "for i in y_train.index:\n",
    "  if (y_train[i]>=10):\n",
    "    y_10[i] = 1\n",
    "  else:\n",
    "    y_10[i] = 0\n",
    "    count910=count910+1"
   ]
  },
  {
   "cell_type": "markdown",
   "metadata": {
    "id": "__dG3pBBEqpG"
   },
   "source": [
    "## Model1011"
   ]
  },
  {
   "cell_type": "code",
   "execution_count": 61,
   "metadata": {
    "id": "cXVVKHLWbglj"
   },
   "outputs": [],
   "source": [
    "y_11 = y_train.copy()\n",
    "count1011=0\n",
    "for i in y_train.index:\n",
    "  if (y_train[i]>=11):\n",
    "    y_11[i] = 1\n",
    "  else:\n",
    "    y_11[i] = 0\n",
    "    count1011=count1011+1"
   ]
  },
  {
   "cell_type": "markdown",
   "metadata": {
    "id": "_Yw5NV7SEuJ_"
   },
   "source": [
    "## Model1112"
   ]
  },
  {
   "cell_type": "code",
   "execution_count": 62,
   "metadata": {
    "id": "XjIoZnAcbo7L"
   },
   "outputs": [],
   "source": [
    "y_12 = y_train.copy()\n",
    "count1112=0\n",
    "for i in y_train.index:\n",
    "  if (y_train[i]>=12):\n",
    "    y_12[i] = 1\n",
    "  else:\n",
    "    y_12[i] = 0\n",
    "    count1112=count1112+1"
   ]
  },
  {
   "cell_type": "markdown",
   "metadata": {
    "id": "6J7qjfKKEyDM"
   },
   "source": [
    "## Model1213"
   ]
  },
  {
   "cell_type": "code",
   "execution_count": 63,
   "metadata": {
    "id": "y24Rmt6PbywT"
   },
   "outputs": [],
   "source": [
    "y_13 = y_train.copy()\n",
    "count1213=0\n",
    "for i in y_train.index:\n",
    "  if (y_train[i]>=13):\n",
    "    y_13[i] = 1\n",
    "  else:\n",
    "    y_13[i] = 0\n",
    "    count1213=count1213+1"
   ]
  },
  {
   "cell_type": "markdown",
   "metadata": {
    "id": "dHT3en_6E1PY"
   },
   "source": [
    "## Model1314"
   ]
  },
  {
   "cell_type": "code",
   "execution_count": 64,
   "metadata": {
    "id": "oDaMpduNcE1I"
   },
   "outputs": [],
   "source": [
    "y_14 = y_train.copy()\n",
    "count1314=0\n",
    "for i in y_train.index:\n",
    "  if (y_train[i]>=14):\n",
    "    y_14[i] = 1\n",
    "  else:\n",
    "    y_14[i] = 0\n",
    "    count1314=count1314+1"
   ]
  },
  {
   "cell_type": "code",
   "execution_count": 65,
   "metadata": {},
   "outputs": [
    {
     "data": {
      "text/html": [
       "<div>\n",
       "<style scoped>\n",
       "    .dataframe tbody tr th:only-of-type {\n",
       "        vertical-align: middle;\n",
       "    }\n",
       "\n",
       "    .dataframe tbody tr th {\n",
       "        vertical-align: top;\n",
       "    }\n",
       "\n",
       "    .dataframe thead th {\n",
       "        text-align: right;\n",
       "    }\n",
       "</style>\n",
       "<table border=\"1\" class=\"dataframe\">\n",
       "  <thead>\n",
       "    <tr style=\"text-align: right;\">\n",
       "      <th></th>\n",
       "      <th>Q29_Encoded</th>\n",
       "      <th>Q29_Encoded</th>\n",
       "      <th>Q29_Encoded</th>\n",
       "      <th>Q29_Encoded</th>\n",
       "      <th>Q29_Encoded</th>\n",
       "      <th>Q29_Encoded</th>\n",
       "      <th>Q29_Encoded</th>\n",
       "      <th>Q29_Encoded</th>\n",
       "      <th>Q29_Encoded</th>\n",
       "      <th>Q29_Encoded</th>\n",
       "      <th>Q29_Encoded</th>\n",
       "      <th>Q29_Encoded</th>\n",
       "      <th>Q29_Encoded</th>\n",
       "      <th>Q29_Encoded</th>\n",
       "    </tr>\n",
       "  </thead>\n",
       "  <tbody>\n",
       "    <tr>\n",
       "      <th>6024</th>\n",
       "      <td>0.0</td>\n",
       "      <td>0.0</td>\n",
       "      <td>0.0</td>\n",
       "      <td>0.0</td>\n",
       "      <td>0.0</td>\n",
       "      <td>0.0</td>\n",
       "      <td>0.0</td>\n",
       "      <td>0.0</td>\n",
       "      <td>0.0</td>\n",
       "      <td>0.0</td>\n",
       "      <td>0.0</td>\n",
       "      <td>0.0</td>\n",
       "      <td>0.0</td>\n",
       "      <td>0.0</td>\n",
       "    </tr>\n",
       "    <tr>\n",
       "      <th>7084</th>\n",
       "      <td>1.0</td>\n",
       "      <td>1.0</td>\n",
       "      <td>1.0</td>\n",
       "      <td>1.0</td>\n",
       "      <td>1.0</td>\n",
       "      <td>0.0</td>\n",
       "      <td>0.0</td>\n",
       "      <td>0.0</td>\n",
       "      <td>0.0</td>\n",
       "      <td>0.0</td>\n",
       "      <td>0.0</td>\n",
       "      <td>0.0</td>\n",
       "      <td>0.0</td>\n",
       "      <td>0.0</td>\n",
       "    </tr>\n",
       "    <tr>\n",
       "      <th>3007</th>\n",
       "      <td>1.0</td>\n",
       "      <td>1.0</td>\n",
       "      <td>1.0</td>\n",
       "      <td>1.0</td>\n",
       "      <td>0.0</td>\n",
       "      <td>0.0</td>\n",
       "      <td>0.0</td>\n",
       "      <td>0.0</td>\n",
       "      <td>0.0</td>\n",
       "      <td>0.0</td>\n",
       "      <td>0.0</td>\n",
       "      <td>0.0</td>\n",
       "      <td>0.0</td>\n",
       "      <td>0.0</td>\n",
       "    </tr>\n",
       "    <tr>\n",
       "      <th>234</th>\n",
       "      <td>1.0</td>\n",
       "      <td>1.0</td>\n",
       "      <td>0.0</td>\n",
       "      <td>0.0</td>\n",
       "      <td>0.0</td>\n",
       "      <td>0.0</td>\n",
       "      <td>0.0</td>\n",
       "      <td>0.0</td>\n",
       "      <td>0.0</td>\n",
       "      <td>0.0</td>\n",
       "      <td>0.0</td>\n",
       "      <td>0.0</td>\n",
       "      <td>0.0</td>\n",
       "      <td>0.0</td>\n",
       "    </tr>\n",
       "    <tr>\n",
       "      <th>6877</th>\n",
       "      <td>0.0</td>\n",
       "      <td>0.0</td>\n",
       "      <td>0.0</td>\n",
       "      <td>0.0</td>\n",
       "      <td>0.0</td>\n",
       "      <td>0.0</td>\n",
       "      <td>0.0</td>\n",
       "      <td>0.0</td>\n",
       "      <td>0.0</td>\n",
       "      <td>0.0</td>\n",
       "      <td>0.0</td>\n",
       "      <td>0.0</td>\n",
       "      <td>0.0</td>\n",
       "      <td>0.0</td>\n",
       "    </tr>\n",
       "    <tr>\n",
       "      <th>...</th>\n",
       "      <td>...</td>\n",
       "      <td>...</td>\n",
       "      <td>...</td>\n",
       "      <td>...</td>\n",
       "      <td>...</td>\n",
       "      <td>...</td>\n",
       "      <td>...</td>\n",
       "      <td>...</td>\n",
       "      <td>...</td>\n",
       "      <td>...</td>\n",
       "      <td>...</td>\n",
       "      <td>...</td>\n",
       "      <td>...</td>\n",
       "      <td>...</td>\n",
       "    </tr>\n",
       "    <tr>\n",
       "      <th>5297</th>\n",
       "      <td>1.0</td>\n",
       "      <td>1.0</td>\n",
       "      <td>1.0</td>\n",
       "      <td>1.0</td>\n",
       "      <td>1.0</td>\n",
       "      <td>1.0</td>\n",
       "      <td>1.0</td>\n",
       "      <td>1.0</td>\n",
       "      <td>1.0</td>\n",
       "      <td>1.0</td>\n",
       "      <td>1.0</td>\n",
       "      <td>0.0</td>\n",
       "      <td>0.0</td>\n",
       "      <td>0.0</td>\n",
       "    </tr>\n",
       "    <tr>\n",
       "      <th>5466</th>\n",
       "      <td>1.0</td>\n",
       "      <td>1.0</td>\n",
       "      <td>1.0</td>\n",
       "      <td>1.0</td>\n",
       "      <td>1.0</td>\n",
       "      <td>1.0</td>\n",
       "      <td>1.0</td>\n",
       "      <td>0.0</td>\n",
       "      <td>0.0</td>\n",
       "      <td>0.0</td>\n",
       "      <td>0.0</td>\n",
       "      <td>0.0</td>\n",
       "      <td>0.0</td>\n",
       "      <td>0.0</td>\n",
       "    </tr>\n",
       "    <tr>\n",
       "      <th>869</th>\n",
       "      <td>1.0</td>\n",
       "      <td>1.0</td>\n",
       "      <td>1.0</td>\n",
       "      <td>1.0</td>\n",
       "      <td>1.0</td>\n",
       "      <td>1.0</td>\n",
       "      <td>1.0</td>\n",
       "      <td>1.0</td>\n",
       "      <td>0.0</td>\n",
       "      <td>0.0</td>\n",
       "      <td>0.0</td>\n",
       "      <td>0.0</td>\n",
       "      <td>0.0</td>\n",
       "      <td>0.0</td>\n",
       "    </tr>\n",
       "    <tr>\n",
       "      <th>7719</th>\n",
       "      <td>1.0</td>\n",
       "      <td>1.0</td>\n",
       "      <td>0.0</td>\n",
       "      <td>0.0</td>\n",
       "      <td>0.0</td>\n",
       "      <td>0.0</td>\n",
       "      <td>0.0</td>\n",
       "      <td>0.0</td>\n",
       "      <td>0.0</td>\n",
       "      <td>0.0</td>\n",
       "      <td>0.0</td>\n",
       "      <td>0.0</td>\n",
       "      <td>0.0</td>\n",
       "      <td>0.0</td>\n",
       "    </tr>\n",
       "    <tr>\n",
       "      <th>7377</th>\n",
       "      <td>0.0</td>\n",
       "      <td>0.0</td>\n",
       "      <td>0.0</td>\n",
       "      <td>0.0</td>\n",
       "      <td>0.0</td>\n",
       "      <td>0.0</td>\n",
       "      <td>0.0</td>\n",
       "      <td>0.0</td>\n",
       "      <td>0.0</td>\n",
       "      <td>0.0</td>\n",
       "      <td>0.0</td>\n",
       "      <td>0.0</td>\n",
       "      <td>0.0</td>\n",
       "      <td>0.0</td>\n",
       "    </tr>\n",
       "  </tbody>\n",
       "</table>\n",
       "<p>6413 rows × 14 columns</p>\n",
       "</div>"
      ],
      "text/plain": [
       "      Q29_Encoded  Q29_Encoded  Q29_Encoded  Q29_Encoded  Q29_Encoded  \\\n",
       "6024          0.0          0.0          0.0          0.0          0.0   \n",
       "7084          1.0          1.0          1.0          1.0          1.0   \n",
       "3007          1.0          1.0          1.0          1.0          0.0   \n",
       "234           1.0          1.0          0.0          0.0          0.0   \n",
       "6877          0.0          0.0          0.0          0.0          0.0   \n",
       "...           ...          ...          ...          ...          ...   \n",
       "5297          1.0          1.0          1.0          1.0          1.0   \n",
       "5466          1.0          1.0          1.0          1.0          1.0   \n",
       "869           1.0          1.0          1.0          1.0          1.0   \n",
       "7719          1.0          1.0          0.0          0.0          0.0   \n",
       "7377          0.0          0.0          0.0          0.0          0.0   \n",
       "\n",
       "      Q29_Encoded  Q29_Encoded  Q29_Encoded  Q29_Encoded  Q29_Encoded  \\\n",
       "6024          0.0          0.0          0.0          0.0          0.0   \n",
       "7084          0.0          0.0          0.0          0.0          0.0   \n",
       "3007          0.0          0.0          0.0          0.0          0.0   \n",
       "234           0.0          0.0          0.0          0.0          0.0   \n",
       "6877          0.0          0.0          0.0          0.0          0.0   \n",
       "...           ...          ...          ...          ...          ...   \n",
       "5297          1.0          1.0          1.0          1.0          1.0   \n",
       "5466          1.0          1.0          0.0          0.0          0.0   \n",
       "869           1.0          1.0          1.0          0.0          0.0   \n",
       "7719          0.0          0.0          0.0          0.0          0.0   \n",
       "7377          0.0          0.0          0.0          0.0          0.0   \n",
       "\n",
       "      Q29_Encoded  Q29_Encoded  Q29_Encoded  Q29_Encoded  \n",
       "6024          0.0          0.0          0.0          0.0  \n",
       "7084          0.0          0.0          0.0          0.0  \n",
       "3007          0.0          0.0          0.0          0.0  \n",
       "234           0.0          0.0          0.0          0.0  \n",
       "6877          0.0          0.0          0.0          0.0  \n",
       "...           ...          ...          ...          ...  \n",
       "5297          1.0          0.0          0.0          0.0  \n",
       "5466          0.0          0.0          0.0          0.0  \n",
       "869           0.0          0.0          0.0          0.0  \n",
       "7719          0.0          0.0          0.0          0.0  \n",
       "7377          0.0          0.0          0.0          0.0  \n",
       "\n",
       "[6413 rows x 14 columns]"
      ]
     },
     "execution_count": 65,
     "metadata": {},
     "output_type": "execute_result"
    }
   ],
   "source": [
    "model_14=pd.concat([y_1, y_2, y_3, y_4, y_5, y_6, y_7, y_8, y_9, y_10, y_11, y_12, y_13, y_14],axis=1)\n",
    "model_14"
   ]
  },
  {
   "cell_type": "code",
   "execution_count": 66,
   "metadata": {},
   "outputs": [],
   "source": [
    "\n",
    "def bias_func(y, y_pred):\n",
    "    # MSE = Bias^2 + Variance\n",
    "    y = np.array(y)\n",
    "    y_predict = np.array(y_pred)\n",
    "    MSE = np.mean((np.subtract(y, y_predict)**2))\n",
    "    var = np.var(y_predict)\n",
    "    bias2 = MSE-var\n",
    "    return bias2, var"
   ]
  },
  {
   "cell_type": "markdown",
   "metadata": {
    "id": "EUzjYN6dODaB"
   },
   "source": [
    "## Tuned C for each sub"
   ]
  },
  {
   "cell_type": "code",
   "execution_count": 67,
   "metadata": {
    "id": "uUmK-VWpIi_R",
    "scrolled": false
   },
   "outputs": [
    {
     "name": "stdout",
     "output_type": "stream",
     "text": [
      "Fold 1 accuracy: 0.32398753894080995\n",
      "Fold 2 accuracy: 0.3037383177570093\n",
      "Fold 3 accuracy: 0.3582554517133956\n",
      "Fold 4 accuracy: 0.34009360374414976\n",
      "Fold 5 accuracy: 0.33853354134165364\n",
      "Fold 6 accuracy: 0.35101404056162244\n",
      "Fold 7 accuracy: 0.3463338533541342\n",
      "Fold 8 accuracy: 0.3666146645865835\n",
      "Fold 9 accuracy: 0.3213728549141966\n",
      "Fold 10 accuracy: 0.28081123244929795\n",
      "Average accuracy is: 0.3330755099362853\n",
      "variance of accuracy is: 0.0006147291558836236\n",
      "Fold 1 accuracy: 0.2585669781931464\n",
      "Fold 2 accuracy: 0.2398753894080997\n",
      "Fold 3 accuracy: 0.22118380062305296\n",
      "Fold 4 accuracy: 0.23244929797191888\n",
      "Fold 5 accuracy: 0.22152886115444617\n",
      "Fold 6 accuracy: 0.24960998439937598\n",
      "Fold 7 accuracy: 0.25273010920436817\n",
      "Fold 8 accuracy: 0.23400936037441497\n",
      "Fold 9 accuracy: 0.21684867394695787\n",
      "Fold 10 accuracy: 0.23868954758190328\n",
      "Average accuracy is: 0.23654920028576845\n",
      "variance of accuracy is: 0.00018059098778979807\n",
      "Fold 1 accuracy: 0.22741433021806853\n",
      "Fold 2 accuracy: 0.29127725856697817\n",
      "Fold 3 accuracy: 0.2087227414330218\n",
      "Fold 4 accuracy: 0.20436817472698907\n",
      "Fold 5 accuracy: 0.21996879875195008\n",
      "Fold 6 accuracy: 0.23712948517940718\n",
      "Fold 7 accuracy: 0.25117004680187205\n",
      "Fold 8 accuracy: 0.24648985959438377\n",
      "Fold 9 accuracy: 0.24336973478939158\n",
      "Fold 10 accuracy: 0.2589703588143526\n",
      "Average accuracy is: 0.23888807888764146\n",
      "variance of accuracy is: 0.0005970893248137532\n",
      "Fold 1 accuracy: 0.24143302180685358\n",
      "Fold 2 accuracy: 0.3317757009345794\n",
      "Fold 3 accuracy: 0.2398753894080997\n",
      "Fold 4 accuracy: 0.26521060842433697\n",
      "Fold 5 accuracy: 0.26833073322932915\n",
      "Fold 6 accuracy: 0.26833073322932915\n",
      "Fold 7 accuracy: 0.33073322932917315\n",
      "Fold 8 accuracy: 0.23712948517940718\n",
      "Fold 9 accuracy: 0.26365054602184085\n",
      "Fold 10 accuracy: 0.31045241809672386\n",
      "Average accuracy is: 0.2756921865659673\n",
      "variance of accuracy is: 0.0011690012513124173\n",
      "Fold 1 accuracy: 0.26947040498442365\n",
      "Fold 2 accuracy: 0.3348909657320872\n",
      "Fold 3 accuracy: 0.26947040498442365\n",
      "Fold 4 accuracy: 0.296411856474259\n",
      "Fold 5 accuracy: 0.2839313572542902\n",
      "Fold 6 accuracy: 0.27769110764430577\n",
      "Fold 7 accuracy: 0.31513260530421217\n",
      "Fold 8 accuracy: 0.27613104524180965\n",
      "Fold 9 accuracy: 0.2917316692667707\n",
      "Fold 10 accuracy: 0.33073322932917315\n",
      "Average accuracy is: 0.29455946462157556\n",
      "variance of accuracy is: 0.0005365879735752751\n",
      "Fold 1 accuracy: 0.2507788161993769\n",
      "Fold 2 accuracy: 0.3177570093457944\n",
      "Fold 3 accuracy: 0.26947040498442365\n",
      "Fold 4 accuracy: 0.29797191887675506\n",
      "Fold 5 accuracy: 0.2745709828393136\n",
      "Fold 6 accuracy: 0.2574102964118565\n",
      "Fold 7 accuracy: 0.29017160686427457\n",
      "Fold 8 accuracy: 0.27301092043681746\n",
      "Fold 9 accuracy: 0.2589703588143526\n",
      "Fold 10 accuracy: 0.33073322932917315\n",
      "Average accuracy is: 0.2820845544102138\n",
      "variance of accuracy is: 0.0006378062027298115\n",
      "Fold 1 accuracy: 0.21495327102803738\n",
      "Fold 2 accuracy: 0.29595015576323985\n",
      "Fold 3 accuracy: 0.24610591900311526\n",
      "Fold 4 accuracy: 0.27769110764430577\n",
      "Fold 5 accuracy: 0.24024960998439937\n",
      "Fold 6 accuracy: 0.23088923556942278\n",
      "Fold 7 accuracy: 0.26521060842433697\n",
      "Fold 8 accuracy: 0.24648985959438377\n",
      "Fold 9 accuracy: 0.23088923556942278\n",
      "Fold 10 accuracy: 0.30109204368174725\n",
      "Average accuracy is: 0.2549521046262411\n",
      "variance of accuracy is: 0.0007556011294968225\n",
      "Fold 1 accuracy: 0.18691588785046728\n",
      "Fold 2 accuracy: 0.2554517133956386\n",
      "Fold 3 accuracy: 0.20404984423676012\n",
      "Fold 4 accuracy: 0.24492979719188768\n",
      "Fold 5 accuracy: 0.20280811232449297\n",
      "Fold 6 accuracy: 0.2059282371294852\n",
      "Fold 7 accuracy: 0.22620904836193448\n",
      "Fold 8 accuracy: 0.21528861154446177\n",
      "Fold 9 accuracy: 0.20124804992199688\n",
      "Fold 10 accuracy: 0.24804992199687986\n",
      "Average accuracy is: 0.21908792239540045\n",
      "variance of accuracy is: 0.0004911724591371541\n",
      "Fold 1 accuracy: 0.1557632398753894\n",
      "Fold 2 accuracy: 0.22585669781931464\n",
      "Fold 3 accuracy: 0.1838006230529595\n",
      "Fold 4 accuracy: 0.20748829953198128\n",
      "Fold 5 accuracy: 0.1856474258970359\n",
      "Fold 6 accuracy: 0.1747269890795632\n",
      "Fold 7 accuracy: 0.19500780031201248\n",
      "Fold 8 accuracy: 0.18876755070202808\n",
      "Fold 9 accuracy: 0.18408736349453977\n",
      "Fold 10 accuracy: 0.21840873634945399\n",
      "Average accuracy is: 0.1919554726114278\n",
      "variance of accuracy is: 0.0003884715016600249\n",
      "Fold 1 accuracy: 0.14018691588785046\n",
      "Fold 2 accuracy: 0.205607476635514\n",
      "Fold 3 accuracy: 0.16355140186915887\n",
      "Fold 4 accuracy: 0.1794071762870515\n",
      "Fold 5 accuracy: 0.15756630265210608\n",
      "Fold 6 accuracy: 0.15288611544461778\n",
      "Fold 7 accuracy: 0.1622464898595944\n",
      "Fold 8 accuracy: 0.16536661466458658\n",
      "Fold 9 accuracy: 0.15912636505460218\n",
      "Fold 10 accuracy: 0.187207488299532\n",
      "Average accuracy is: 0.1673152346654614\n",
      "variance of accuracy is: 0.00031581127551422075\n",
      "Fold 1 accuracy: 0.10124610591900311\n",
      "Fold 2 accuracy: 0.14953271028037382\n",
      "Fold 3 accuracy: 0.1292834890965732\n",
      "Fold 4 accuracy: 0.12480499219968799\n",
      "Fold 5 accuracy: 0.1060842433697348\n",
      "Fold 6 accuracy: 0.10920436817472699\n",
      "Fold 7 accuracy: 0.11388455538221529\n",
      "Fold 8 accuracy: 0.11232449297971919\n",
      "Fold 9 accuracy: 0.11544461778471139\n",
      "Fold 10 accuracy: 0.13260530421216848\n",
      "Average accuracy is: 0.11944148793989143\n",
      "variance of accuracy is: 0.0001916192503738006\n",
      "Fold 1 accuracy: 0.06697819314641744\n",
      "Fold 2 accuracy: 0.10747663551401869\n",
      "Fold 3 accuracy: 0.09501557632398754\n",
      "Fold 4 accuracy: 0.08580343213728549\n",
      "Fold 5 accuracy: 0.07332293291731669\n",
      "Fold 6 accuracy: 0.08580343213728549\n",
      "Fold 7 accuracy: 0.08580343213728549\n",
      "Fold 8 accuracy: 0.07956318252730109\n",
      "Fold 9 accuracy: 0.07644305772230889\n",
      "Fold 10 accuracy: 0.09828393135725429\n",
      "Average accuracy is: 0.08544938059204611\n",
      "variance of accuracy is: 0.0001345810489165005\n",
      "Fold 1 accuracy: 0.04672897196261682\n",
      "Fold 2 accuracy: 0.056074766355140186\n",
      "Fold 3 accuracy: 0.040498442367601244\n",
      "Fold 4 accuracy: 0.0483619344773791\n",
      "Fold 5 accuracy: 0.0358814352574103\n",
      "Fold 6 accuracy: 0.0436817472698908\n",
      "Fold 7 accuracy: 0.0421216848673947\n",
      "Fold 8 accuracy: 0.0343213728549142\n",
      "Fold 9 accuracy: 0.0358814352574103\n",
      "Fold 10 accuracy: 0.0514820592823713\n",
      "Average accuracy is: 0.0435033849952129\n",
      "variance of accuracy is: 4.671769581274831e-05\n",
      "Fold 1 accuracy: 0.021806853582554516\n",
      "Fold 2 accuracy: 0.03271028037383177\n",
      "Fold 3 accuracy: 0.01557632398753894\n",
      "Fold 4 accuracy: 0.015600624024960999\n",
      "Fold 5 accuracy: 0.015600624024960999\n",
      "Fold 6 accuracy: 0.0093603744149766\n",
      "Fold 7 accuracy: 0.015600624024960999\n",
      "Fold 8 accuracy: 0.0124804992199688\n",
      "Fold 9 accuracy: 0.014040561622464899\n",
      "Fold 10 accuracy: 0.0218408736349454\n",
      "Average accuracy is: 0.017461763891116387\n",
      "variance of accuracy is: 3.866702040641213e-05\n"
     ]
    }
   ],
   "source": [
    "## Aggregate 14 models \n",
    "X = X_train_new\n",
    "#Y = y_1.copy()\n",
    "model_list = ['y_1', 'y_2', 'y_3', 'y_4', 'y_5', 'y_6', 'y_7', 'y_8', 'y_9', 'y_10', 'y_11', 'y_12', 'y_13', 'y_14']\n",
    "\n",
    "# split 10-folds\n",
    "kf = KFold(n_splits=10)\n",
    "\n",
    "mean_accuracy = []\n",
    "\n",
    "# C list that we are going to tune\n",
    "C_list = [0.001, 0.005, 0.1, 0.5, 1]\n",
    "accuracy_df = pd.DataFrame()\n",
    "bias_df = pd.DataFrame()\n",
    "bias2_df = pd.DataFrame()\n",
    "var_df = pd.DataFrame()\n",
    "var1_df = pd.DataFrame()\n",
    "result_df = pd.DataFrame()\n",
    "\n",
    "for i in range(0, 14): # each logistic regression model\n",
    "  Y = model_14.iloc[:,i]\n",
    "  for C in C_list: # each hypermeter\n",
    "    outcomes = []\n",
    "    bias_outcomes = []\n",
    "    var_outcomes = []\n",
    "    #fold = 0\n",
    "    for train_index, test_index in kf.split(X): # 10-folds\n",
    "      \n",
    "      #fold += 1\n",
    "      \n",
    "      X_train, X_test = X.values[train_index], X.values[test_index]\n",
    "      Y_train, Y_test = Y.values[train_index], Y.values[test_index]\n",
    "      \n",
    "      model = LogisticRegression(C=C)\n",
    "      model.fit(X_train, Y_train)\n",
    "      predictions = model.predict(X_test)\n",
    "      bias, var = bias_func(Y_test, predictions)\n",
    "      #df_pred = pd.DataFrame(predictions)\n",
    "      #prob_01 = model.predict_proba(X_test)\n",
    "      accuracy = mean_absolute_error(Y_test, predictions) # can try mean absolute error instead\n",
    "      outcomes.append(accuracy)\n",
    "      bias_outcomes.append(bias)\n",
    "      var_outcomes.append(var)\n",
    "    accuracy_df[C] = outcomes\n",
    "    var_df[C] = var_outcomes\n",
    "    bias_df[C] = bias_outcomes\n",
    "    result_df = pd.concat([result_df, accuracy_df], axis=1)\n",
    "    var1_df = pd.concat([var1_df, var_df], axis=1)\n",
    "    bias2_df = pd.concat([bias2_df, bias_df], axis = 1)\n",
    "    accuracy_df.drop(columns=accuracy_df.columns[-1:], axis=1,  inplace=True)\n",
    "    bias_df.drop(columns = bias_df.columns[-1:], axis = 1, inplace = True)\n",
    "    var_df.drop(columns = var_df.columns[-1:], axis = 1, inplace = True)\n",
    "  #print(\"Fold {0} accuracy: {1}\".format(fold, accuracy))\n",
    "  #mean_accuracy.append(np.mean(outcomes))\n",
    "mean_val = result_df.mean(axis=0)\n",
    "mean_var = var1_df.mean(axis=0)\n",
    "mean_bias = bias2_df.mean(axis=0)\n",
    "#mean_outcome = np.mean(outcomes)\n",
    "#std_outcome=np.std(outcomes)\n",
    "#print(\"Mean r2: {0}\".format(mean_outcome)) \n",
    "#print(\"Standard Deviation: {0}\".format(std_outcome))\n",
    "hyperparameter_list = []\n",
    "tuned_model = pd.DataFrame()\n",
    "tuned_model_new = pd.DataFrame()\n",
    "for i in range(0, result_df.shape[1], 5):\n",
    "  hyperparameter_list.append(result_df.iloc[:,i:i+5].mean(axis = 0).idxmax()) \n",
    "  tuned_model[result_df.iloc[:,i:i+5].mean(axis = 0).idxmax()] = result_df.iloc[:,i:i+5][result_df.iloc[:,i:i+5].mean(axis = 0).idxmax()]\n",
    "  tuned_model_new = pd.concat([tuned_model_new, tuned_model], axis=1)\n",
    "  tuned_model.drop(columns=tuned_model.columns[-1:], axis=1, inplace=True)\n",
    "for i in range(0, 14):\n",
    "  fold = 0\n",
    "  total = []\n",
    "  for j in range(10):\n",
    "    fold += 1\n",
    "    accuracy = tuned_model_new.iloc[fold - 1, i]\n",
    "    total.append(accuracy)\n",
    "    print(\"Fold {0} accuracy: {1}\".format(fold, accuracy))\n",
    "  print(\"Average accuracy is:\", np.mean(total))\n",
    "  print(\"variance of accuracy is:\", np.var(total))\n",
    "prob_df = pd.DataFrame()\n",
    "for i in range(0,13):\n",
    "    Y = model_14.iloc[:,i]\n",
    "    X1_train, X1_val, y1_train, y1_val = train_test_split(X_train_new, Y, test_size=0.2, random_state=42)\n",
    "    model = LogisticRegression(C=0.001)\n",
    "    model.fit(X1_train, y1_train)\n",
    "    predictions = model.predict(X1_val)\n",
    "    prob = model.predict_proba(X1_val)\n",
    "    prob1 = pd.DataFrame(prob)\n",
    "    prob_df = pd.concat([prob_df, prob1], axis = 1)        \n",
    "model =  LogisticRegression(C=1)\n",
    "Y = model_14.iloc[:,13]\n",
    "X1_train, X1_val, y1_train, y1_val = train_test_split(X_train_new, Y, test_size=0.2, random_state=42)\n",
    "model = LogisticRegression(C=1)\n",
    "model.fit(X1_train, y1_train)\n",
    "predictions = model.predict(X1_val)\n",
    "prob = model.predict_proba(X1_val)\n",
    "prob1 = pd.DataFrame(prob)\n",
    "prob_df = pd.concat([prob_df, prob1], axis = 1)   \n",
    "    "
   ]
  },
  {
   "cell_type": "code",
   "execution_count": 68,
   "metadata": {},
   "outputs": [
    {
     "data": {
      "image/png": "[encoded data removed]",
      "text/plain": [
       "<Figure size 432x288 with 1 Axes>"
      ]
     },
     "metadata": {
      "needs_background": "light"
     },
     "output_type": "display_data"
    }
   ],
   "source": [
    "# bias-variance trade off by C\n",
    "mean_var = var1_df.mean(axis=0)\n",
    "mean_bias = bias2_df.mean(axis=0)\n",
    "mean_var1 = []\n",
    "mean_bias1 = []\n",
    "for C in C_list:\n",
    "    mean_var1.append(mean_var[C].mean())\n",
    "    mean_bias1.append(mean_bias[C].mean())\n",
    "Bias = pd.DataFrame(mean_bias1, index = C_list)\n",
    "Variance = pd.DataFrame(mean_var1, index = C_list)\n",
    "plt.plot(Bias, label=\"Bias\", marker='o')\n",
    "plt.plot(Variance, label=\"Variance\", marker='o')\n",
    "plt.legend()\n",
    "plt.title(\"Bias-Variance Trade Off for C\")\n",
    "plt.xlabel('Model Complexity')\n",
    "plt.ylabel('Error')\n",
    "plt.show()"
   ]
  },
  {
   "cell_type": "code",
   "execution_count": 69,
   "metadata": {
    "id": "xKslEeysNE33"
   },
   "outputs": [],
   "source": [
    "prob01 = prob_df.iloc[:, 0:2]\n",
    "prob12 = prob_df.iloc[:, 2:4]\n",
    "prob23 = prob_df.iloc[:, 4:6]\n",
    "prob34 = prob_df.iloc[:, 6:8]\n",
    "prob45 = prob_df.iloc[:, 8:10]\n",
    "prob56 = prob_df.iloc[:, 10:12]\n",
    "prob67 = prob_df.iloc[:, 12:14]\n",
    "prob78 = prob_df.iloc[:, 14:16]\n",
    "prob89 = prob_df.iloc[:, 16:18]\n",
    "prob910 = prob_df.iloc[:, 18:20]\n",
    "prob1011 = prob_df.iloc[:, 20:22]\n",
    "prob1112 = prob_df.iloc[:, 22:24]\n",
    "prob1213 = prob_df.iloc[:, 24:26]\n",
    "prob1314 = prob_df.iloc[:, 26:28]"
   ]
  },
  {
   "cell_type": "code",
   "execution_count": 70,
   "metadata": {},
   "outputs": [],
   "source": [
    "prob0 = prob01.iloc[:, 0]\n",
    "prob1 = prob12.iloc[:, 0] - prob0\n",
    "prob2 = prob23.iloc[:, 0] - prob12.iloc[:,0]\n",
    "prob3 = prob34.iloc[:, 0] - prob23.iloc[:,0]\n",
    "prob4 = prob45.iloc[:, 0] - prob34.iloc[:,0]\n",
    "prob5 = prob56.iloc[:, 0] - prob45.iloc[:,0]\n",
    "prob6 = prob67.iloc[:, 0] - prob56.iloc[:,0]\n",
    "prob7 = prob78.iloc[:, 0] - prob67.iloc[:,0]\n",
    "prob8 = prob89.iloc[:, 0] - prob78.iloc[:,0]\n",
    "prob9 = prob910.iloc[:, 0] - prob89.iloc[:,0]\n",
    "prob10 = prob1011.iloc[:, 0] - prob910.iloc[:,0]\n",
    "prob11 = prob1112.iloc[:, 0] - prob1011.iloc[:,0]\n",
    "prob12 = prob1213.iloc[:, 0] - prob1112.iloc[:,0]\n",
    "prob13 = prob1314.iloc[:, 0] - prob1213.iloc[:,0]\n",
    "prob14 = prob1314.iloc[:,1]"
   ]
  },
  {
   "cell_type": "code",
   "execution_count": 71,
   "metadata": {},
   "outputs": [
    {
     "data": {
      "text/html": [
       "<div>\n",
       "<style scoped>\n",
       "    .dataframe tbody tr th:only-of-type {\n",
       "        vertical-align: middle;\n",
       "    }\n",
       "\n",
       "    .dataframe tbody tr th {\n",
       "        vertical-align: top;\n",
       "    }\n",
       "\n",
       "    .dataframe thead th {\n",
       "        text-align: right;\n",
       "    }\n",
       "</style>\n",
       "<table border=\"1\" class=\"dataframe\">\n",
       "  <thead>\n",
       "    <tr style=\"text-align: right;\">\n",
       "      <th></th>\n",
       "      <th>0</th>\n",
       "      <th>1</th>\n",
       "      <th>2</th>\n",
       "      <th>3</th>\n",
       "      <th>4</th>\n",
       "      <th>5</th>\n",
       "      <th>6</th>\n",
       "      <th>7</th>\n",
       "      <th>8</th>\n",
       "      <th>9</th>\n",
       "      <th>10</th>\n",
       "      <th>11</th>\n",
       "      <th>12</th>\n",
       "      <th>13</th>\n",
       "      <th>14</th>\n",
       "    </tr>\n",
       "  </thead>\n",
       "  <tbody>\n",
       "    <tr>\n",
       "      <th>0</th>\n",
       "      <td>0.470670</td>\n",
       "      <td>0.092534</td>\n",
       "      <td>0.079904</td>\n",
       "      <td>0.046007</td>\n",
       "      <td>0.043334</td>\n",
       "      <td>0.038991</td>\n",
       "      <td>0.032839</td>\n",
       "      <td>0.027787</td>\n",
       "      <td>0.020856</td>\n",
       "      <td>0.015920</td>\n",
       "      <td>0.034653</td>\n",
       "      <td>0.025748</td>\n",
       "      <td>0.031914</td>\n",
       "      <td>0.036365</td>\n",
       "      <td>0.002479</td>\n",
       "    </tr>\n",
       "    <tr>\n",
       "      <th>1</th>\n",
       "      <td>0.340117</td>\n",
       "      <td>0.091143</td>\n",
       "      <td>0.081852</td>\n",
       "      <td>0.059352</td>\n",
       "      <td>0.059717</td>\n",
       "      <td>0.048014</td>\n",
       "      <td>0.044617</td>\n",
       "      <td>0.036838</td>\n",
       "      <td>0.029938</td>\n",
       "      <td>0.024568</td>\n",
       "      <td>0.054742</td>\n",
       "      <td>0.038313</td>\n",
       "      <td>0.045365</td>\n",
       "      <td>0.037867</td>\n",
       "      <td>0.007557</td>\n",
       "    </tr>\n",
       "    <tr>\n",
       "      <th>2</th>\n",
       "      <td>0.388333</td>\n",
       "      <td>0.087559</td>\n",
       "      <td>0.072756</td>\n",
       "      <td>0.048486</td>\n",
       "      <td>0.048811</td>\n",
       "      <td>0.041447</td>\n",
       "      <td>0.042151</td>\n",
       "      <td>0.033079</td>\n",
       "      <td>0.027820</td>\n",
       "      <td>0.024968</td>\n",
       "      <td>0.053049</td>\n",
       "      <td>0.040917</td>\n",
       "      <td>0.046040</td>\n",
       "      <td>0.030811</td>\n",
       "      <td>0.013774</td>\n",
       "    </tr>\n",
       "    <tr>\n",
       "      <th>3</th>\n",
       "      <td>0.403176</td>\n",
       "      <td>0.096125</td>\n",
       "      <td>0.084788</td>\n",
       "      <td>0.052485</td>\n",
       "      <td>0.052010</td>\n",
       "      <td>0.045845</td>\n",
       "      <td>0.038810</td>\n",
       "      <td>0.032064</td>\n",
       "      <td>0.026426</td>\n",
       "      <td>0.020193</td>\n",
       "      <td>0.042041</td>\n",
       "      <td>0.029333</td>\n",
       "      <td>0.035983</td>\n",
       "      <td>0.039678</td>\n",
       "      <td>0.001042</td>\n",
       "    </tr>\n",
       "    <tr>\n",
       "      <th>4</th>\n",
       "      <td>0.345594</td>\n",
       "      <td>0.091151</td>\n",
       "      <td>0.078767</td>\n",
       "      <td>0.057249</td>\n",
       "      <td>0.060407</td>\n",
       "      <td>0.047097</td>\n",
       "      <td>0.045115</td>\n",
       "      <td>0.040948</td>\n",
       "      <td>0.030150</td>\n",
       "      <td>0.025827</td>\n",
       "      <td>0.050491</td>\n",
       "      <td>0.037718</td>\n",
       "      <td>0.043673</td>\n",
       "      <td>0.041444</td>\n",
       "      <td>0.004370</td>\n",
       "    </tr>\n",
       "    <tr>\n",
       "      <th>...</th>\n",
       "      <td>...</td>\n",
       "      <td>...</td>\n",
       "      <td>...</td>\n",
       "      <td>...</td>\n",
       "      <td>...</td>\n",
       "      <td>...</td>\n",
       "      <td>...</td>\n",
       "      <td>...</td>\n",
       "      <td>...</td>\n",
       "      <td>...</td>\n",
       "      <td>...</td>\n",
       "      <td>...</td>\n",
       "      <td>...</td>\n",
       "      <td>...</td>\n",
       "      <td>...</td>\n",
       "    </tr>\n",
       "    <tr>\n",
       "      <th>1278</th>\n",
       "      <td>0.326000</td>\n",
       "      <td>0.101694</td>\n",
       "      <td>0.086087</td>\n",
       "      <td>0.066716</td>\n",
       "      <td>0.064872</td>\n",
       "      <td>0.042243</td>\n",
       "      <td>0.040902</td>\n",
       "      <td>0.034291</td>\n",
       "      <td>0.027847</td>\n",
       "      <td>0.023936</td>\n",
       "      <td>0.053338</td>\n",
       "      <td>0.039311</td>\n",
       "      <td>0.046217</td>\n",
       "      <td>0.021496</td>\n",
       "      <td>0.025050</td>\n",
       "    </tr>\n",
       "    <tr>\n",
       "      <th>1279</th>\n",
       "      <td>0.334598</td>\n",
       "      <td>0.093528</td>\n",
       "      <td>0.084632</td>\n",
       "      <td>0.063242</td>\n",
       "      <td>0.065671</td>\n",
       "      <td>0.050037</td>\n",
       "      <td>0.041349</td>\n",
       "      <td>0.036410</td>\n",
       "      <td>0.030314</td>\n",
       "      <td>0.021594</td>\n",
       "      <td>0.056334</td>\n",
       "      <td>0.035336</td>\n",
       "      <td>0.043508</td>\n",
       "      <td>0.037898</td>\n",
       "      <td>0.005548</td>\n",
       "    </tr>\n",
       "    <tr>\n",
       "      <th>1280</th>\n",
       "      <td>0.407173</td>\n",
       "      <td>0.101817</td>\n",
       "      <td>0.077478</td>\n",
       "      <td>0.051063</td>\n",
       "      <td>0.053118</td>\n",
       "      <td>0.040362</td>\n",
       "      <td>0.037042</td>\n",
       "      <td>0.032691</td>\n",
       "      <td>0.022217</td>\n",
       "      <td>0.020527</td>\n",
       "      <td>0.043276</td>\n",
       "      <td>0.031629</td>\n",
       "      <td>0.038846</td>\n",
       "      <td>0.032250</td>\n",
       "      <td>0.010510</td>\n",
       "    </tr>\n",
       "    <tr>\n",
       "      <th>1281</th>\n",
       "      <td>0.333578</td>\n",
       "      <td>0.079423</td>\n",
       "      <td>0.070159</td>\n",
       "      <td>0.053354</td>\n",
       "      <td>0.059044</td>\n",
       "      <td>0.044190</td>\n",
       "      <td>0.044860</td>\n",
       "      <td>0.037749</td>\n",
       "      <td>0.032920</td>\n",
       "      <td>0.028471</td>\n",
       "      <td>0.064239</td>\n",
       "      <td>0.049339</td>\n",
       "      <td>0.054240</td>\n",
       "      <td>-0.055898</td>\n",
       "      <td>0.104332</td>\n",
       "    </tr>\n",
       "    <tr>\n",
       "      <th>1282</th>\n",
       "      <td>0.256957</td>\n",
       "      <td>0.068942</td>\n",
       "      <td>0.062451</td>\n",
       "      <td>0.052749</td>\n",
       "      <td>0.063276</td>\n",
       "      <td>0.049608</td>\n",
       "      <td>0.051236</td>\n",
       "      <td>0.051321</td>\n",
       "      <td>0.040663</td>\n",
       "      <td>0.037809</td>\n",
       "      <td>0.081494</td>\n",
       "      <td>0.063184</td>\n",
       "      <td>0.067372</td>\n",
       "      <td>0.036202</td>\n",
       "      <td>0.016736</td>\n",
       "    </tr>\n",
       "  </tbody>\n",
       "</table>\n",
       "<p>1283 rows × 15 columns</p>\n",
       "</div>"
      ],
      "text/plain": [
       "             0         1         2         3         4         5         6  \\\n",
       "0     0.470670  0.092534  0.079904  0.046007  0.043334  0.038991  0.032839   \n",
       "1     0.340117  0.091143  0.081852  0.059352  0.059717  0.048014  0.044617   \n",
       "2     0.388333  0.087559  0.072756  0.048486  0.048811  0.041447  0.042151   \n",
       "3     0.403176  0.096125  0.084788  0.052485  0.052010  0.045845  0.038810   \n",
       "4     0.345594  0.091151  0.078767  0.057249  0.060407  0.047097  0.045115   \n",
       "...        ...       ...       ...       ...       ...       ...       ...   \n",
       "1278  0.326000  0.101694  0.086087  0.066716  0.064872  0.042243  0.040902   \n",
       "1279  0.334598  0.093528  0.084632  0.063242  0.065671  0.050037  0.041349   \n",
       "1280  0.407173  0.101817  0.077478  0.051063  0.053118  0.040362  0.037042   \n",
       "1281  0.333578  0.079423  0.070159  0.053354  0.059044  0.044190  0.044860   \n",
       "1282  0.256957  0.068942  0.062451  0.052749  0.063276  0.049608  0.051236   \n",
       "\n",
       "             7         8         9        10        11        12        13  \\\n",
       "0     0.027787  0.020856  0.015920  0.034653  0.025748  0.031914  0.036365   \n",
       "1     0.036838  0.029938  0.024568  0.054742  0.038313  0.045365  0.037867   \n",
       "2     0.033079  0.027820  0.024968  0.053049  0.040917  0.046040  0.030811   \n",
       "3     0.032064  0.026426  0.020193  0.042041  0.029333  0.035983  0.039678   \n",
       "4     0.040948  0.030150  0.025827  0.050491  0.037718  0.043673  0.041444   \n",
       "...        ...       ...       ...       ...       ...       ...       ...   \n",
       "1278  0.034291  0.027847  0.023936  0.053338  0.039311  0.046217  0.021496   \n",
       "1279  0.036410  0.030314  0.021594  0.056334  0.035336  0.043508  0.037898   \n",
       "1280  0.032691  0.022217  0.020527  0.043276  0.031629  0.038846  0.032250   \n",
       "1281  0.037749  0.032920  0.028471  0.064239  0.049339  0.054240 -0.055898   \n",
       "1282  0.051321  0.040663  0.037809  0.081494  0.063184  0.067372  0.036202   \n",
       "\n",
       "            14  \n",
       "0     0.002479  \n",
       "1     0.007557  \n",
       "2     0.013774  \n",
       "3     0.001042  \n",
       "4     0.004370  \n",
       "...        ...  \n",
       "1278  0.025050  \n",
       "1279  0.005548  \n",
       "1280  0.010510  \n",
       "1281  0.104332  \n",
       "1282  0.016736  \n",
       "\n",
       "[1283 rows x 15 columns]"
      ]
     },
     "execution_count": 71,
     "metadata": {},
     "output_type": "execute_result"
    }
   ],
   "source": [
    "prob_result = pd.concat([prob0, prob1, prob2, prob3, prob4, prob5, prob6, prob7, prob8, prob9, prob10, prob11, prob12, prob13, prob14], axis=1)\n",
    "prob_result.columns = ['0', '1', '2', '3', '4', '5', '6', '7', '8', '9', '10', '11', '12', '13', '14']\n",
    "prob_result"
   ]
  },
  {
   "cell_type": "markdown",
   "metadata": {
    "id": "d7VPPCHyB97B"
   },
   "source": [
    "## Model Tuning"
   ]
  },
  {
   "cell_type": "markdown",
   "metadata": {},
   "source": [
    "Identifying all parameters in my model are: 'penalty', 'C', 'fit_intercept', 'intercept_scaling', 'class_weight', 'solver', 'max_iter', 'verbose', 'warm_start', 'l1_ratio'."
   ]
  },
  {
   "cell_type": "code",
   "execution_count": 72,
   "metadata": {
    "colab": {
     "base_uri": "https://localhost:8080/"
    },
    "id": "Ht3cfhA-1V-A",
    "outputId": "4150b4ce-1030-4ff3-b149-4223fdf707c7"
   },
   "outputs": [],
   "source": [
    "# Use Grid Search to tune 2 hyperparameters\n",
    "\n",
    "# I choose C and solver as 2 hyperparameters\n",
    "C = []\n",
    "solver = []\n",
    "auc_score = []\n",
    "# greedy search for 14 submodels and choose the best estimators correspondingly\n",
    "for i in range(0, 14):\n",
    "    Y = model_14.iloc[:,i]\n",
    "    X_train_new1, X_val, y_train1, y_val = train_test_split(X_train_new, Y, test_size = 0.2)\n",
    "    regression_greedy = LogisticRegression()\n",
    "    grid_search = GridSearchCV(regression_greedy, {'C': list(np.arange(0.1, 1, 0.02)),\n",
    "                                               'solver': ['newton-cg', 'lbfgs', 'liblinear', 'sag', 'saga']}, scoring = 'roc_auc')\n",
    "    grid_search = grid_search.fit(X_train_new1, y_train1)\n",
    "\n",
    "    estimators =  grid_search.best_params_\n",
    "    scores = grid_search.best_score_\n",
    "    auc_score.append(scores)\n",
    "    C.append(estimators['C'])\n",
    "    solver.append(estimators['solver'])\n",
    "    auc_score.append(auc_score)\n"
   ]
  },
  {
   "cell_type": "code",
   "execution_count": 73,
   "metadata": {},
   "outputs": [
    {
     "data": {
      "text/html": [
       "<div>\n",
       "<style scoped>\n",
       "    .dataframe tbody tr th:only-of-type {\n",
       "        vertical-align: middle;\n",
       "    }\n",
       "\n",
       "    .dataframe tbody tr th {\n",
       "        vertical-align: top;\n",
       "    }\n",
       "\n",
       "    .dataframe thead th {\n",
       "        text-align: right;\n",
       "    }\n",
       "</style>\n",
       "<table border=\"1\" class=\"dataframe\">\n",
       "  <thead>\n",
       "    <tr style=\"text-align: right;\">\n",
       "      <th></th>\n",
       "      <th>C</th>\n",
       "      <th>solver</th>\n",
       "      <th>best auc score</th>\n",
       "    </tr>\n",
       "    <tr>\n",
       "      <th>Model</th>\n",
       "      <th></th>\n",
       "      <th></th>\n",
       "      <th></th>\n",
       "    </tr>\n",
       "  </thead>\n",
       "  <tbody>\n",
       "    <tr>\n",
       "      <th>model1</th>\n",
       "      <td>0.94</td>\n",
       "      <td>lbfgs</td>\n",
       "      <td>0.836792</td>\n",
       "    </tr>\n",
       "    <tr>\n",
       "      <th>model2</th>\n",
       "      <td>0.98</td>\n",
       "      <td>sag</td>\n",
       "      <td>0.857668</td>\n",
       "    </tr>\n",
       "    <tr>\n",
       "      <th>model3</th>\n",
       "      <td>0.98</td>\n",
       "      <td>lbfgs</td>\n",
       "      <td>0.878444</td>\n",
       "    </tr>\n",
       "    <tr>\n",
       "      <th>model4</th>\n",
       "      <td>0.96</td>\n",
       "      <td>newton-cg</td>\n",
       "      <td>0.877822</td>\n",
       "    </tr>\n",
       "    <tr>\n",
       "      <th>model5</th>\n",
       "      <td>0.98</td>\n",
       "      <td>sag</td>\n",
       "      <td>0.884487</td>\n",
       "    </tr>\n",
       "    <tr>\n",
       "      <th>model6</th>\n",
       "      <td>0.74</td>\n",
       "      <td>liblinear</td>\n",
       "      <td>0.892166</td>\n",
       "    </tr>\n",
       "    <tr>\n",
       "      <th>model7</th>\n",
       "      <td>0.88</td>\n",
       "      <td>lbfgs</td>\n",
       "      <td>0.893428</td>\n",
       "    </tr>\n",
       "    <tr>\n",
       "      <th>model8</th>\n",
       "      <td>0.98</td>\n",
       "      <td>liblinear</td>\n",
       "      <td>0.899370</td>\n",
       "    </tr>\n",
       "    <tr>\n",
       "      <th>model9</th>\n",
       "      <td>0.98</td>\n",
       "      <td>liblinear</td>\n",
       "      <td>0.905067</td>\n",
       "    </tr>\n",
       "    <tr>\n",
       "      <th>model10</th>\n",
       "      <td>0.98</td>\n",
       "      <td>liblinear</td>\n",
       "      <td>0.902837</td>\n",
       "    </tr>\n",
       "    <tr>\n",
       "      <th>model11</th>\n",
       "      <td>0.98</td>\n",
       "      <td>liblinear</td>\n",
       "      <td>0.908994</td>\n",
       "    </tr>\n",
       "    <tr>\n",
       "      <th>model12</th>\n",
       "      <td>0.94</td>\n",
       "      <td>liblinear</td>\n",
       "      <td>0.921271</td>\n",
       "    </tr>\n",
       "    <tr>\n",
       "      <th>model13</th>\n",
       "      <td>0.90</td>\n",
       "      <td>liblinear</td>\n",
       "      <td>0.871530</td>\n",
       "    </tr>\n",
       "    <tr>\n",
       "      <th>model14</th>\n",
       "      <td>0.90</td>\n",
       "      <td>liblinear</td>\n",
       "      <td>0.823158</td>\n",
       "    </tr>\n",
       "  </tbody>\n",
       "</table>\n",
       "</div>"
      ],
      "text/plain": [
       "            C     solver  best auc score\n",
       "Model                                   \n",
       "model1   0.94      lbfgs        0.836792\n",
       "model2   0.98        sag        0.857668\n",
       "model3   0.98      lbfgs        0.878444\n",
       "model4   0.96  newton-cg        0.877822\n",
       "model5   0.98        sag        0.884487\n",
       "model6   0.74  liblinear        0.892166\n",
       "model7   0.88      lbfgs        0.893428\n",
       "model8   0.98  liblinear        0.899370\n",
       "model9   0.98  liblinear        0.905067\n",
       "model10  0.98  liblinear        0.902837\n",
       "model11  0.98  liblinear        0.908994\n",
       "model12  0.94  liblinear        0.921271\n",
       "model13  0.90  liblinear        0.871530\n",
       "model14  0.90  liblinear        0.823158"
      ]
     },
     "execution_count": 73,
     "metadata": {},
     "output_type": "execute_result"
    }
   ],
   "source": [
    "# create table with the best 2 hyperparameters for each 14 model with the best score they gain from auc score\n",
    "model_name = []\n",
    "auc_score1 = []\n",
    "for i in range(1, 15):\n",
    "    model_name.append('model' + str(i))\n",
    "for i in range(0, 28, 2) :\n",
    "    auc_score1.append(auc_score[i])    \n",
    "grid_table =  pd.DataFrame({'C': C, 'solver': solver, 'best auc score': auc_score1})\n",
    "grid_table['Model'] = model_name\n",
    "grid_table.set_index('Model', inplace = True)\n",
    "grid_table"
   ]
  },
  {
   "cell_type": "code",
   "execution_count": 74,
   "metadata": {
    "colab": {
     "base_uri": "https://localhost:8080/",
     "height": 268
    },
    "id": "xkw9JAS1N728",
    "outputId": "1e0c0929-e9a7-4898-9a68-6817d5d7aefb"
   },
   "outputs": [],
   "source": [
    "from matplotlib import pyplot\n",
    "importance_f = pd.DataFrame()\n",
    "for i in range(0, 14):\n",
    "    Y = model_14.iloc[:,i]\n",
    "    x, y = grid_table.iloc[i,0:2]\n",
    "    model = LogisticRegression(C=x, solver = y) # model i\n",
    "    X_train_grid, X_val, Y_train, Y_val = train_test_split(X_train_new, Y, test_size=0.2, random_state=42)\n",
    "    model.fit(X_train_grid, Y_train)\n",
    "    importance = model.coef_[0] # n features for model i\n",
    "    importance = pd.DataFrame(importance,columns=[\"model\"+ str(i+1)])\n",
    "    \n",
    "    importance_f = pd.concat([importance_f, importance], axis = 1)\n",
    "   \n",
    "features = X_train_grid.columns.tolist()\n",
    "importance_score = []\n",
    "importance_features = pd.DataFrame()\n",
    "for i in range(importance_f.shape[0]):\n",
    "    mean_imp = np.mean(importance_f.iloc[i, :])\n",
    "    importance_score.append(abs(mean_imp))\n",
    "importance_features['features'] =features\n",
    "importance_features['scores'] = importance_score\n",
    "importance_features.set_index('features', inplace = True)"
   ]
  },
  {
   "cell_type": "code",
   "execution_count": 75,
   "metadata": {},
   "outputs": [
    {
     "data": {
      "image/png": "[encoded data removed]",
      "text/plain": [
       "<Figure size 432x288 with 1 Axes>"
      ]
     },
     "metadata": {
      "needs_background": "light"
     },
     "output_type": "display_data"
    }
   ],
   "source": [
    "importance_features.sort_values(by = 'scores', ascending = False, inplace = True)\n",
    "\n",
    "importance_features.plot( kind = 'bar')\n",
    "plt.title(\"the rank of importance\")\n",
    "plt.xlabel('features')\n",
    "plt.ylabel('importance')\n",
    "plt.show()"
   ]
  },
  {
   "cell_type": "markdown",
   "metadata": {},
   "source": [
    "## Test and Discussion"
   ]
  },
  {
   "cell_type": "code",
   "execution_count": 76,
   "metadata": {},
   "outputs": [],
   "source": [
    "y1_test = y_test.copy()\n",
    "for i in y_test.index:\n",
    "  if (y1_test[i]>=1):\n",
    "    y1_test[i] = 1\n",
    "  else:\n",
    "    y1_test[i] = 0"
   ]
  },
  {
   "cell_type": "code",
   "execution_count": 77,
   "metadata": {},
   "outputs": [],
   "source": [
    "y2_test = y_test.copy()\n",
    "for i in y_test.index:\n",
    "  if (y2_test[i]>=2):\n",
    "    y2_test[i] = 1\n",
    "  else:\n",
    "    y2_test[i] = 0"
   ]
  },
  {
   "cell_type": "code",
   "execution_count": 78,
   "metadata": {},
   "outputs": [],
   "source": [
    "y3_test = y_test.copy()\n",
    "for i in y_test.index:\n",
    "  if (y3_test[i]>=3):\n",
    "    y3_test[i] = 1\n",
    "  else:\n",
    "    y3_test[i] = 0"
   ]
  },
  {
   "cell_type": "code",
   "execution_count": 79,
   "metadata": {},
   "outputs": [],
   "source": [
    "y4_test = y_test.copy()\n",
    "for i in y_test.index:\n",
    "  if (y4_test[i]>=4):\n",
    "    y4_test[i] = 1\n",
    "  else:\n",
    "    y4_test[i] = 0"
   ]
  },
  {
   "cell_type": "code",
   "execution_count": 80,
   "metadata": {},
   "outputs": [],
   "source": [
    "y5_test = y_test.copy()\n",
    "for i in y_test.index:\n",
    "  if (y5_test[i]>=5):\n",
    "    y5_test[i] = 1\n",
    "  else:\n",
    "    y5_test[i] = 0"
   ]
  },
  {
   "cell_type": "code",
   "execution_count": 81,
   "metadata": {},
   "outputs": [],
   "source": [
    "y6_test = y_test.copy()\n",
    "for i in y_test.index:\n",
    "  if (y6_test[i]>=6):\n",
    "    y6_test[i] = 1\n",
    "  else:\n",
    "    y6_test[i] = 0"
   ]
  },
  {
   "cell_type": "code",
   "execution_count": 82,
   "metadata": {},
   "outputs": [],
   "source": [
    "y7_test = y_test.copy()\n",
    "for i in y_test.index:\n",
    "  if (y7_test[i]>=7):\n",
    "    y7_test[i] = 1\n",
    "  else:\n",
    "    y7_test[i] = 0"
   ]
  },
  {
   "cell_type": "code",
   "execution_count": 83,
   "metadata": {},
   "outputs": [],
   "source": [
    "y8_test = y_test.copy()\n",
    "for i in y_test.index:\n",
    "  if (y8_test[i]>=8):\n",
    "    y8_test[i] = 1\n",
    "  else:\n",
    "    y8_test[i] = 0"
   ]
  },
  {
   "cell_type": "code",
   "execution_count": 84,
   "metadata": {},
   "outputs": [],
   "source": [
    "y9_test = y_test.copy()\n",
    "for i in y_test.index:\n",
    "  if (y9_test[i]>=9):\n",
    "    y9_test[i] = 1\n",
    "  else:\n",
    "    y9_test[i] = 0"
   ]
  },
  {
   "cell_type": "code",
   "execution_count": 85,
   "metadata": {},
   "outputs": [],
   "source": [
    "y10_test = y_test.copy()\n",
    "for i in y_test.index:\n",
    "  if (y10_test[i]>=10):\n",
    "    y10_test[i] = 1\n",
    "  else:\n",
    "    y10_test[i] = 0"
   ]
  },
  {
   "cell_type": "code",
   "execution_count": 86,
   "metadata": {},
   "outputs": [],
   "source": [
    "y11_test = y_test.copy()\n",
    "for i in y_test.index:\n",
    "  if (y11_test[i]>=11):\n",
    "    y11_test[i] = 1\n",
    "  else:\n",
    "    y11_test[i] = 0"
   ]
  },
  {
   "cell_type": "code",
   "execution_count": 87,
   "metadata": {},
   "outputs": [],
   "source": [
    "y12_test = y_test.copy()\n",
    "for i in y_test.index:\n",
    "  if (y12_test[i]>=12):\n",
    "    y12_test[i] = 1\n",
    "  else:\n",
    "    y12_test[i] = 0"
   ]
  },
  {
   "cell_type": "code",
   "execution_count": 88,
   "metadata": {},
   "outputs": [],
   "source": [
    "y13_test = y_test.copy()\n",
    "for i in y_test.index:\n",
    "  if (y13_test[i]>=13):\n",
    "    y13_test[i] = 1\n",
    "  else:\n",
    "    y13_test[i] = 0"
   ]
  },
  {
   "cell_type": "code",
   "execution_count": 89,
   "metadata": {},
   "outputs": [],
   "source": [
    "y14_test = y_test.copy()\n",
    "for i in y_test.index:\n",
    "  if (y14_test[i]>=14):\n",
    "    y14_test[i] = 1\n",
    "  else:\n",
    "    y14_test[i] = 0"
   ]
  },
  {
   "cell_type": "code",
   "execution_count": 90,
   "metadata": {},
   "outputs": [],
   "source": [
    "model14_test = pd.concat([y1_test, y2_test, y3_test, y4_test, y5_test, y6_test, y7_test, y8_test, y9_test, y10_test, y11_test, y12_test, y13_test, y14_test], axis=1)"
   ]
  },
  {
   "cell_type": "code",
   "execution_count": 91,
   "metadata": {
    "scrolled": true
   },
   "outputs": [
    {
     "name": "stdout",
     "output_type": "stream",
     "text": [
      "Average f1 scores for training set is: 0.8647814179961462\n",
      "Average Auc scores for training set is: 0.7412484614409596\n",
      "Average f1 scores for test set is: 0.8595239932627922\n",
      "Average Auc scores for test set is: 0.7417599025956537\n"
     ]
    }
   ],
   "source": [
    "count_train = []\n",
    "auc_train = []\n",
    "f1_train = []\n",
    "pred_train = pd.DataFrame(index = [0, 1, 2, 3, 4, 5, 6, 7, 8, 9, 10, 11, 12, 13, 14])\n",
    "count_test = []\n",
    "f1_score_final = []\n",
    "auc_score = []\n",
    "pred_test = pd.DataFrame(index = [0, 1, 2, 3, 4, 5, 6, 7, 8, 9, 10, 11, 12, 13, 14])\n",
    "\n",
    "for i in range(0, 14):\n",
    "    Y = model_14.iloc[:,i]\n",
    "    Y_test = model14_test.iloc[:,i]\n",
    "    x, y = grid_table.iloc[i,0:2]\n",
    "    model = LogisticRegression(C=x, solver = y, random_state = 42) # model i\n",
    "    \n",
    "    model.fit(X_train_new, Y)\n",
    "    predictions = model.predict(X_train_new)\n",
    "    predictions_test = model.predict(X_test_new)\n",
    "    scores_f1 = f1_score(Y, predictions, average = 'weighted')\n",
    "    scores_auc = roc_auc_score(Y, predictions, average = 'weighted')\n",
    "    f1_train.append(scores_f1)\n",
    "    auc_train.append(scores_auc)\n",
    "    scores = f1_score(Y_test, predictions_test, average='weighted')\n",
    "    scores_auc = roc_auc_score(Y_test, predictions_test, average= 'weighted')\n",
    "    auc_score.append(scores_auc)\n",
    "    f1_score_final.append(scores)\n",
    "    \n",
    "    pred = predictions.tolist()\n",
    "    count_0 = pred.count(0)\n",
    "    count_1 = pred.count(1)\n",
    "    count_train.append(count_0)\n",
    "    count_train.append(count_1)\n",
    "    \n",
    "    pred1 = predictions_test.tolist()\n",
    "    counttest_0 = pred1.count(0)\n",
    "    counttest_1 = pred1.count(1)\n",
    "    count_test.append(counttest_0)\n",
    "    count_test.append(counttest_1)\n",
    "train_score = [np.mean(f1_train), np.mean(auc_train)]\n",
    "test_score = [np.mean(f1_score_final), np.mean(auc_score)]\n",
    "print('Average f1 scores for training set is:', np.mean(f1_train))\n",
    "print('Average Auc scores for training set is:', np.mean(auc_train))\n",
    "print('Average f1 scores for test set is:', np.mean(f1_score_final))\n",
    "print('Average Auc scores for test set is:', np.mean(auc_score))"
   ]
  },
  {
   "cell_type": "code",
   "execution_count": 92,
   "metadata": {},
   "outputs": [
    {
     "data": {
      "text/plain": [
       "[6408, 833, 583, 393, 409, 317, 240, 190, 144, 115, 268, 198, 275, 63, 5]"
      ]
     },
     "execution_count": 92,
     "metadata": {},
     "output_type": "execute_result"
    }
   ],
   "source": [
    "count = [count_0]\n",
    "for i in range(2, 28, 2):\n",
    "    count.append(count_train[i] - count_train[i - 2])\n",
    "count.append(count_train[27])\n",
    "count"
   ]
  },
  {
   "cell_type": "code",
   "execution_count": 93,
   "metadata": {},
   "outputs": [],
   "source": [
    "pred_train['count'] = count"
   ]
  },
  {
   "cell_type": "code",
   "execution_count": 94,
   "metadata": {},
   "outputs": [],
   "source": [
    "true_train = pd.DataFrame(index = [0, 1, 2, 3, 4, 5, 6, 7, 8, 9, 10, 11, 12, 13, 14])\n",
    "train_target = y_train.values.tolist()\n",
    "num_train = []\n",
    "for i in range(0, 15, 1):\n",
    "    num_train.append(train_target.count(i))\n",
    "true_train['true'] = num_train"
   ]
  },
  {
   "cell_type": "code",
   "execution_count": 95,
   "metadata": {},
   "outputs": [
    {
     "data": {
      "text/plain": [
       "[6408, 206, 158, 99, 82, 76, 69, 53, 27, 38, 56, 49, 81, 20, 1]"
      ]
     },
     "execution_count": 95,
     "metadata": {},
     "output_type": "execute_result"
    }
   ],
   "source": [
    "count1 = [count_0]\n",
    "for i in range(2, 28, 2):\n",
    "    count1.append(count_test[i] - count_test[i - 2])\n",
    "count1.append(count_test[27])\n",
    "count1"
   ]
  },
  {
   "cell_type": "code",
   "execution_count": 96,
   "metadata": {},
   "outputs": [],
   "source": [
    "pred_test['count'] = count1"
   ]
  },
  {
   "cell_type": "code",
   "execution_count": 97,
   "metadata": {},
   "outputs": [],
   "source": [
    "true_test = pd.DataFrame(index = [0, 1, 2, 3, 4, 5, 6, 7, 8, 9, 10, 11, 12, 13, 14])\n",
    "test_target = y_test.values.tolist()\n",
    "num_test = []\n",
    "for i in range(0, 15, 1):\n",
    "    num_test.append(test_target.count(i))\n",
    "true_test['true'] = num_test"
   ]
  },
  {
   "cell_type": "code",
   "execution_count": 98,
   "metadata": {},
   "outputs": [
    {
     "data": {
      "text/html": [
       "<div>\n",
       "<style scoped>\n",
       "    .dataframe tbody tr th:only-of-type {\n",
       "        vertical-align: middle;\n",
       "    }\n",
       "\n",
       "    .dataframe tbody tr th {\n",
       "        vertical-align: top;\n",
       "    }\n",
       "\n",
       "    .dataframe thead th {\n",
       "        text-align: right;\n",
       "    }\n",
       "</style>\n",
       "<table border=\"1\" class=\"dataframe\">\n",
       "  <thead>\n",
       "    <tr style=\"text-align: right;\">\n",
       "      <th></th>\n",
       "      <th>training_set</th>\n",
       "      <th>test_set</th>\n",
       "    </tr>\n",
       "  </thead>\n",
       "  <tbody>\n",
       "    <tr>\n",
       "      <th>f1_score</th>\n",
       "      <td>0.864781</td>\n",
       "      <td>0.859524</td>\n",
       "    </tr>\n",
       "    <tr>\n",
       "      <th>auc_score</th>\n",
       "      <td>0.741248</td>\n",
       "      <td>0.741760</td>\n",
       "    </tr>\n",
       "  </tbody>\n",
       "</table>\n",
       "</div>"
      ],
      "text/plain": [
       "           training_set  test_set\n",
       "f1_score       0.864781  0.859524\n",
       "auc_score      0.741248  0.741760"
      ]
     },
     "execution_count": 98,
     "metadata": {},
     "output_type": "execute_result"
    }
   ],
   "source": [
    "accuracy_table = pd.DataFrame({'training_set': train_score, 'test_set': test_score}, index = ['f1_score', 'auc_score'])\n",
    "accuracy_table"
   ]
  },
  {
   "cell_type": "code",
   "execution_count": 99,
   "metadata": {},
   "outputs": [
    {
     "data": {
      "image/png": "[encoded data removed]",
      "text/plain": [
       "<Figure size 576x432 with 1 Axes>"
      ]
     },
     "metadata": {
      "needs_background": "light"
     },
     "output_type": "display_data"
    }
   ],
   "source": [
    "df_train = pd.concat([true_train,pred_train],axis=1)\n",
    "df_train.columns = [\"true_train\",\"train_predict\"]\n",
    "df_train.plot(kind='bar',figsize=(8,6))\n",
    "plt.title('Distribution plot of True and Predicted Values for training set')\n",
    "plt.xlabel('Salary Buckets')\n",
    "plt.ylabel('Fequency')\n",
    "plt.show()"
   ]
  },
  {
   "cell_type": "code",
   "execution_count": 100,
   "metadata": {},
   "outputs": [
    {
     "data": {
      "image/png": "[encoded data removed]",
      "text/plain": [
       "<Figure size 576x432 with 1 Axes>"
      ]
     },
     "metadata": {
      "needs_background": "light"
     },
     "output_type": "display_data"
    }
   ],
   "source": [
    "df_test = pd.concat([true_test,pred_test],axis=1)\n",
    "df_test.columns = [\"true_test\",\"test_predict\"]\n",
    "df_test.plot(kind='bar',figsize=(8,6))\n",
    "plt.title('Distribution plot of True and Predicted Values fort test set')\n",
    "plt.xlabel('Salary Buckets')\n",
    "plt.ylabel('Fequency')\n",
    "plt.show()"
   ]
  }
 ],
 "metadata": {
  "colab": {
   "collapsed_sections": [],
   "provenance": []
  },
  "kernelspec": {
   "display_name": "Python 3",
   "language": "python",
   "name": "python3"
  },
  "language_info": {
   "codemirror_mode": {
    "name": "ipython",
    "version": 3
   },
   "file_extension": ".py",
   "mimetype": "text/x-python",
   "name": "python",
   "nbconvert_exporter": "python",
   "pygments_lexer": "ipython3",
   "version": "3.8.8"
  }
 },
 "nbformat": 4,
 "nbformat_minor": 1
}
